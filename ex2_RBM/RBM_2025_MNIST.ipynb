{
<<<<<<< HEAD
 "cells": [
  {
   "cell_type": "markdown",
   "metadata": {},
   "source": [
    "# Restricted Boltzmann Machine - MNIST"
   ]
  },
  {
   "cell_type": "markdown",
   "metadata": {},
   "source": [
    "## Imports"
   ]
  },
  {
   "cell_type": "code",
   "execution_count": 4,
   "metadata": {},
   "outputs": [
    {
     "name": "stdout",
     "output_type": "stream",
     "text": [
      "mkdir: SingleTrain: File exists\n",
      "mkdir: BM_RandomSearch: File exists\n",
      "mkdir: TestTrain: File exists\n"
     ]
    }
   ],
   "source": [
    "import sys, datetime\n",
    "import itertools as it\n",
    "import scipy\n",
    "import itertools\n",
    "import tqdm\n",
    "import os\n",
    "import glob\n",
    "\n",
    "\n",
    "# numpy\n",
    "import numpy as np\n",
    "from numpy import exp,sqrt,log,log10,sign,power,cosh,sinh,tanh,floor\n",
    "rng = np.random.default_rng(12345)\n",
    "np.set_printoptions(precision=4)\n",
    "\n",
    "# matplotlib\n",
    "import matplotlib as mpl\n",
    "%matplotlib inline\n",
    "from matplotlib.ticker import NullFormatter, MaxNLocator\n",
    "mpl.rcParams.update({\"font.size\": 12})  #\"text.usetex\": True,})\n",
    "from matplotlib.colors import ListedColormap\n",
    "import matplotlib.pyplot as plt\n",
    "\n",
    "# to load MNIST\n",
    "from sklearn.datasets import fetch_openml\n",
    "\n",
    "!mkdir SingleTrain\n",
    "!mkdir BM_RandomSearch\n",
    "!mkdir TestTrain"
   ]
  },
  {
   "cell_type": "markdown",
   "metadata": {},
   "source": [
    "## Load data"
   ]
  },
  {
   "cell_type": "code",
   "execution_count": 2,
   "metadata": {},
   "outputs": [
    {
     "name": "stdout",
     "output_type": "stream",
     "text": [
      "(70000, 784)\n"
     ]
    }
   ],
   "source": [
    "X_original, Y_original = fetch_openml(\"mnist_784\", version=1, return_X_y=True, as_frame=False, parser='liac-arff')\n",
    "print(X_original.shape)"
   ]
  },
  {
   "cell_type": "markdown",
   "metadata": {},
   "source": [
    "## Parameters"
   ]
  },
  {
   "cell_type": "code",
   "execution_count": 3,
   "metadata": {},
   "outputs": [],
   "source": [
    "################################\n",
    "#    CHOICE OF PARAMETERS      #\n",
    "################################\n",
    "# number of MNIST digits to keep (e.g., Ndigit=3 keeps 0,1,2)\n",
    "Ndigit=3\n",
    "# number of hidden units\n",
    "L = 3\n",
    "# use (+1,-1) if SPINS, otherwise use bits (1,0)\n",
    "SPINS=False\n",
    "# use one-hot encoding in hidden space if POTTS (use only if SPINS=False)\n",
    "POTTS=False\n",
    "\n",
    "dname='DATA/'\n",
    "################################\n",
    "\n",
    "# x_min =0 if bits, x_min=-1 if SPINS\n",
    "# level_gap is the difference in values between the max (1) and the min (x_min)\n",
    "if SPINS:\n",
    "    x_min=-1\n",
    "    level_gap=2.\n",
    "else:\n",
    "    x_min=0\n",
    "    level_gap=1.\n",
    "\n",
    "if POTTS:\n",
    "    str_simul=\"RBM_Potts\"\n",
    "    # in one-hot encoding, number of possible hidden states matches L\n",
    "    Nz=L\n",
    "else:\n",
    "    str_simul=\"RBM\"\n",
    "    # number of possible hidden states: 2**L\n",
    "    Nz=2**L\n",
    "    \n",
    "if POTTS and SPINS: \n",
    "    print(\"\\n\\n>>>>>>>> WARNING:  POTTS and SPINS cannot coexist\\n\\n\")"
   ]
  },
  {
   "cell_type": "markdown",
   "metadata": {},
   "source": [
    "## Select data, and digitalize them two levels"
   ]
  },
  {
   "cell_type": "code",
   "execution_count": 4,
   "metadata": {},
   "outputs": [
    {
     "name": "stdout",
     "output_type": "stream",
     "text": [
      "('0', '1', '2')\n",
      "dataset with 21770 points, each with 784 bits\n",
      "\n",
      "first 10 MNIST data points\n"
     ]
=======
  "cells": [
    {
      "cell_type": "markdown",
      "metadata": {
        "id": "BqDDjQwXH2I3"
      },
      "source": [
        "# Restricted Boltzmann Machine - MNIST"
      ]
    },
    {
      "cell_type": "markdown",
      "metadata": {
        "id": "Eq-pZJaZH2I5"
      },
      "source": [
        "## Imports"
      ]
    },
    {
      "cell_type": "code",
      "execution_count": 2,
      "metadata": {
        "id": "vsgCFuymH2I6"
      },
      "outputs": [],
      "source": [
        "import sys, datetime\n",
        "import itertools as it\n",
        "import scipy\n",
        "import itertools\n",
        "import tqdm\n",
        "import os\n",
        "import glob\n",
        "\n",
        "\n",
        "# numpy\n",
        "import numpy as np\n",
        "from numpy import exp,sqrt,log,log10,sign,power,cosh,sinh,tanh,floor\n",
        "rng = np.random.default_rng(12345)\n",
        "np.set_printoptions(precision=4)\n",
        "\n",
        "# matplotlib\n",
        "import matplotlib as mpl\n",
        "%matplotlib inline\n",
        "from matplotlib.ticker import NullFormatter, MaxNLocator\n",
        "mpl.rcParams.update({\"font.size\": 12})  #\"text.usetex\": True,})\n",
        "from matplotlib.colors import ListedColormap\n",
        "import matplotlib.pyplot as plt\n",
        "\n",
        "# to load MNIST\n",
        "from sklearn.datasets import fetch_openml\n",
        "\n",
        "!mkdir SingleTrain\n",
        "!mkdir BM_RandomSearch"
      ]
    },
    {
      "cell_type": "markdown",
      "metadata": {
        "id": "bMqbN6pMH2I9"
      },
      "source": [
        "## Load data"
      ]
    },
    {
      "cell_type": "code",
      "execution_count": 3,
      "metadata": {
        "id": "G2oKc6IPH2I-",
        "outputId": "995bc8b2-30a5-4fac-f44d-fbb0eb2d3a9f",
        "colab": {
          "base_uri": "https://localhost:8080/"
        }
      },
      "outputs": [
        {
          "output_type": "stream",
          "name": "stdout",
          "text": [
            "(70000, 784)\n"
          ]
        }
      ],
      "source": [
        "X_original, Y_original = fetch_openml(\"mnist_784\", version=1, return_X_y=True, as_frame=False, parser='liac-arff')\n",
        "print(X_original.shape)"
      ]
    },
    {
      "cell_type": "markdown",
      "metadata": {
        "id": "d3vWXlCTH2I-"
      },
      "source": [
        "## Parameters"
      ]
    },
    {
      "cell_type": "code",
      "execution_count": 4,
      "metadata": {
        "id": "Q1kPeVCFH2I_"
      },
      "outputs": [],
      "source": [
        "################################\n",
        "#    CHOICE OF PARAMETERS      #\n",
        "################################\n",
        "# number of MNIST digits to keep (e.g., Ndigit=3 keeps 0,1,2)\n",
        "Ndigit=3\n",
        "# number of hidden units\n",
        "L = 3\n",
        "# use (+1,-1) if SPINS, otherwise use bits (1,0)\n",
        "SPINS=False\n",
        "# use one-hot encoding in hidden space if POTTS (use only if SPINS=False)\n",
        "POTTS=False\n",
        "\n",
        "dname='DATA/'\n",
        "################################\n",
        "\n",
        "# x_min =0 if bits, x_min=-1 if SPINS\n",
        "# level_gap is the difference in values between the max (1) and the min (x_min)\n",
        "if SPINS:\n",
        "    x_min=-1\n",
        "    level_gap=2.\n",
        "else:\n",
        "    x_min=0\n",
        "    level_gap=1.\n",
        "\n",
        "if POTTS:\n",
        "    str_simul=\"RBM_Potts\"\n",
        "    # in one-hot encoding, number of possible hidden states matches L\n",
        "    Nz=L\n",
        "else:\n",
        "    str_simul=\"RBM\"\n",
        "    # number of possible hidden states: 2**L\n",
        "    Nz=2**L\n",
        "\n",
        "if POTTS and SPINS:\n",
        "    print(\"\\n\\n>>>>>>>> WARNING:  POTTS and SPINS cannot coexist\\n\\n\")"
      ]
    },
    {
      "cell_type": "markdown",
      "metadata": {
        "id": "ATvWIY3cH2I_"
      },
      "source": [
        "## Select data, and digitalize them two levels"
      ]
    },
    {
      "cell_type": "code",
      "execution_count": 5,
      "metadata": {
        "id": "wQBDrPhWH2JA",
        "outputId": "13a8cd14-b169-47e3-e708-a7e6ba763130",
        "colab": {
          "base_uri": "https://localhost:8080/",
          "height": 548
        }
      },
      "outputs": [
        {
          "output_type": "stream",
          "name": "stdout",
          "text": [
            "('0', '1', '2')\n",
            "dataset with 21770 points, each with 784 bits\n",
            "\n",
            "first 10 MNIST data points\n"
          ]
        },
        {
          "output_type": "display_data",
          "data": {
            "text/plain": [
              "<Figure size 1400x140 with 10 Axes>"
            ],
            "image/png": "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\n"
          },
          "metadata": {}
        },
        {
          "output_type": "stream",
          "name": "stdout",
          "text": [
            "first 10 MNIST-3 data points\n"
          ]
        },
        {
          "output_type": "display_data",
          "data": {
            "text/plain": [
              "<Figure size 1400x140 with 10 Axes>"
            ],
            "image/png": "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\n"
          },
          "metadata": {}
        },
        {
          "output_type": "stream",
          "name": "stdout",
          "text": [
            "first 10 MNIST-3 data points, binarized\n"
          ]
        },
        {
          "output_type": "display_data",
          "data": {
            "text/plain": [
              "<Figure size 1400x140 with 10 Axes>"
            ],
            "image/png": "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\n"
          },
          "metadata": {}
        },
        {
          "output_type": "stream",
          "name": "stdout",
          "text": [
            "each of Nd=21770 data has D=784 bits\n"
          ]
        }
      ],
      "source": [
        "def show_MNIST(x, y=[], z=[], Nex=5, S=1.4, side=0, colors=[]):\n",
        "    \"\"\"Show digits\"\"\"\n",
        "    if side==0: side = int(sqrt(x.shape[1]))\n",
        "    if len(y)<1: y=np.full(Nex,\"\")\n",
        "    colors=np.array(colors)\n",
        "    fig, AX = plt.subplots(1,Nex,figsize=(S*Nex,S))\n",
        "\n",
        "    for i, img in enumerate(x[:Nex].reshape(Nex, side, side)):\n",
        "        if len(colors)==0: newcmp = \"grey\"\n",
        "        else:\n",
        "            col= colors[0] + (colors[1]-colors[0])*(i+1)/(Nex+1)\n",
        "            newcmp = ListedColormap((col,(1,1,1,1)))\n",
        "        ax=AX[i]\n",
        "        ax.imshow(img, cmap=newcmp)\n",
        "        ax.set_xticks([])\n",
        "        ax.set_yticks([])\n",
        "        if len(y)>0: ax.set_title(y[i])\n",
        "        if len(z)>0: ax.set_title(''.join(map(str, z[i])),fontsize=9)\n",
        "    plt.show()\n",
        "\n",
        "def MNIST_bit(X,side=28,level=0.5):\n",
        "    NX=len(X)\n",
        "    #print(X.shape)\n",
        "    print(f\"dataset with {NX} points, each with {len(X[0])} bits\\n\")\n",
        "    if side==14:\n",
        "        X = np.reshape(X,(NX,28,28))\n",
        "        # new value = average over 4 values in a 2x2 square\n",
        "        Xr = 0.25*(X[:,0::2,0::2]+X[:,1::2,0::2]+X[:,0::2,1::2]+X[:,1::2,1::2])\n",
        "        X  = Xr.reshape(NX,side**2)\n",
        "    #print(X.shape)\n",
        "    # binarize data and then convert it to 1/0 or 1/-1\n",
        "    X = np.where(X/255 > level, 1, x_min)\n",
        "    return X.astype(\"int\")\n",
        "\n",
        "list_10_digits = ('0','1','2','3','4','5','6','7','8','9')\n",
        "list_digits = list_10_digits[:Ndigit]\n",
        "print(list_digits)\n",
        "keep=np.isin(Y_original, list_digits)\n",
        "X_keep,Y=X_original[keep],Y_original[keep]\n",
        "\n",
        "data,label = MNIST_bit(X_keep),Y\n",
        "data,label = data.astype(\"int\"),label.astype(\"int\")\n",
        "print(\"first 10 MNIST data points\")\n",
        "show_MNIST(X_original, Y_original,Nex=10)\n",
        "print(f\"first 10 MNIST-{Ndigit} data points\")\n",
        "show_MNIST(X_keep, label,Nex=10)\n",
        "print(f\"first 10 MNIST-{Ndigit} data points, binarized\")\n",
        "show_MNIST(data, label,Nex=10)\n",
        "\n",
        "# number of data points\n",
        "Nd = len(data)\n",
        "# number of visible units\n",
        "D  = len(data[1])\n",
        "\n",
        "print(f'each of Nd={Nd} data has D={D} bits')\n",
        "\n"
      ]
    },
    {
      "cell_type": "markdown",
      "metadata": {
        "id": "iqvamiSAH2JB"
      },
      "source": [
        "## Plotting data stats"
      ]
    },
    {
      "cell_type": "code",
      "execution_count": 6,
      "metadata": {
        "id": "Cmd6EQaYH2JC",
        "outputId": "7a63c626-7215-4b32-8d58-176ed93eea6c",
        "colab": {
          "base_uri": "https://localhost:8080/",
          "height": 767
        }
      },
      "outputs": [
        {
          "output_type": "display_data",
          "data": {
            "text/plain": [
              "<Figure size 600x300 with 1 Axes>"
            ],
            "image/png": "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\n"
          },
          "metadata": {}
        },
        {
          "output_type": "display_data",
          "data": {
            "text/plain": [
              "<Figure size 2800x140 with 20 Axes>"
            ],
            "image/png": "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\n"
          },
          "metadata": {}
        },
        {
          "output_type": "display_data",
          "data": {
            "text/plain": [
              "<Figure size 2800x140 with 20 Axes>"
            ],
            "image/png": "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\n"
          },
          "metadata": {}
        },
        {
          "output_type": "display_data",
          "data": {
            "text/plain": [
              "<Figure size 2800x140 with 20 Axes>"
            ],
            "image/png": "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\n"
          },
          "metadata": {}
        },
        {
          "output_type": "display_data",
          "data": {
            "text/plain": [
              "<Figure size 2800x140 with 20 Axes>"
            ],
            "image/png": "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\n"
          },
          "metadata": {}
        },
        {
          "output_type": "display_data",
          "data": {
            "text/plain": [
              "<Figure size 2800x140 with 20 Axes>"
            ],
            "image/png": "iVBORw0KGgoAAAANSUhEUgAACI0AAABvCAYAAABrEaJpAAAAOnRFWHRTb2Z0d2FyZQBNYXRwbG90bGliIHZlcnNpb24zLjEwLjAsIGh0dHBzOi8vbWF0cGxvdGxpYi5vcmcvlHJYcgAAAAlwSFlzAAAPYQAAD2EBqD+naQAADTZJREFUeJzt3U1u47wSBVCnkWk2kP3vLEA2kHn8Bo2H5HPHMiNRFK/qHMCTRn7UvCqKdoji0/V6vV4AAAAAAAAAACjlz9EXAAAAAAAAAADAeDaNAAAAAAAAAAAUZNMIAAAAAAAAAEBBNo0AAAAAAAAAABRk0wgAAAAAAAAAQEE2jQAAAAAAAAAAFGTTCAAAAAAAAABAQTaNAAAAAAAAAAAU9NzyRZ+fn5f39/fLy8vL5enpae9rKu16vV4+Pj4ur6+vlz9/1u/pkdlYcssjszy9Mrtc5DaSWssjs0xyyyOzPNYimdRaHrWWSa3lkVkmueWRWR5rkUxqLY/MMsktT3Nm1wZvb2/Xy+XiNfD19vbWEo3MJnvJLe8ls7zX1szklpmbzGTmJbezvmSW97IWyXyptbyXWst8qbW8l8wyX3LLe8ks72UtkvlSa3kvmWW+5Jb3epRZ0xagl5eXli+jo61jLrNjyC2PzPL0GHO5jafW8sgsk9zyyCyPtUgmtZZHrWVSa3lklklueWSWx1okk1rLI7NMcsvzaMybNo1oCzPe1jGX2THklkdmeXqMudzGU2t5ZJZJbnlklsdaJJNay6PWMqm1PDLLJLc8MstjLZJJreWRWSa55Xk05tsOZAMAAAAAAAAAIJJNIwAAAAAAAAAABdk0AgAAAAAAAABQkE0jAAAAAAAAAAAF2TQCAAAAAAAAAFCQTSMAAAAAAAAAAAU9H30BwPldr9dff8/T09MOVwIAAADzW3of7f0yALC3NZ/pf2e9ApBFpxEAAAAAAAAAgIJsGgEAAAAAAAAAKOj0x9No53le37OV5fG2tqtb+nny3V+P/OREZdYb+e5lKL9MahK26b22X6Im4fesW6C/1mefOpubzxPzeKbNpef7gNufJdM+fN5Rk+fbeD3WhmnrS51GAAAAAAAAAAAKsmkEAAAAAAAAAKCg0x9Ps0Q7n+OsbXP2PSeZHW9k22r62DMzc+oYvTOU1f7UxjzW1I92quejJtdzZMm5HbW2V5PwszVtjtUTUI33a9Bmhs/xrVPWa81va85ymcsMdVtNj8+Oe/7e0TWp0wgAAAAAAAAAQEE2jQAAAAAAAAAAFGTTCAAAAAAAAABAQc9HXwDcWnNGk/Pwxmg9m2trhvSzdlzvZSin3+tRN1t/xtL3mz85u97zlpqhGs/+8+mZae91vzkWAAD6aFn3366516zHvWfcx5px/Z7Zmu/f8+8/MCtz2BedRgAAAAAAAAAACrJpBAAAAAAAAACgIMfTMMxSix/trDLIKcOebeS2trirYrb2f61H32gJz1mMmp+07cxn3vvZDM942ezn3npu1DgvtcBe+nf3ATymTsbzvALoxzx6PJ8X57mXWY+j0BlLLuOMOrY3LVOdRgAAAAAAAAAACrJpBAAAAAAAAACgIMfTcAit5qAvRyTkWNOycc/c7l2PlvD7MK776FFL935GjxaD2paPkdbycWatz6qt97MaOp7xrKfHXOm+GcNz7VizHTnKPtRZJrllk984njfzW1MPPXLdeqSQzzehzb3amPVZqNMIAAAAAAAAAEBBNo0AAAAAAAAAABRk0wgAAAAAAAAAQEHPR18A53bEuUzOU8sx67ldKVrGz/0/zr08ljLYen4k8FjrPLhmvlxTw9+/zhxNAvcpHG/Nur91bdrydbdfs2bdS5ujzrWvxPsu1lBnAH35bGQePp8+ljHPtHXean1fPvrv3TqNAAAAAAAAAAAUZNMIAAAAAAAAAEBBpzyeRjsfmJf63F+PFlVaTo83w9hqR0iS2e7RpRqepcUg/zLmx/LcqUnWjy2NUe95q+XntT7jRl53sh41YDx/Z+uYrxnvpd+pJT8A1DXzcYStR2YwnjXj8SpkoNMIAAAAAAAAAEBBNo0AAAAAAAAAABR0yuNpWlVoJQOp1Oe/ZmsHJ6P7zjg2Wigzg9Z5cLZ71BEc+5m5rSuPqQf40vtol1HPntbfU30t6Xk1VuqaEeCsHGHHLbmfS/W1PvPzfqyNTiMAAAAAAAAAAAXZNAIAAAAAAAAAUFDp42mAMbQe31/vVln32kxrNVfHbb7qGPZnjoWfqYeaKuR+b32159p+T9aP/6UF8pzUA63UYwY5wfE84x6zLuQ7RymOYW76PZ1GAAAAAAAAAAAKsmkEAAAAAAAAAKAgm0YAAAAAAAAAAAp6PvoCqMP5Wyxxf+S5PRNOhkBvzvgEOAdnCf+1NA6eZXXIugbz3rxkk0luAON9X7eah+H8dBoBAAAAAAAAACjIphEAAAAAAAAAgIIcTwOs9r0lmVZl+5hhLGUL0E/rnHrvGQvprCXG23PMl+anNb/XfEcyxw/Nw3gDwH09Pm+w1gfOqPo8pdMIAAAAAAAAAEBBNo0AAAAAAAAAABR0iuNptDiGNnvWipZ04802fo5SAEY6wzxz+3+wpt3PGe6XVGvva5n93hFziHlrG/d5PkfSsJV7aB7GG/q6N7+pte16rsGt51ni/hjL/MjRdBoBAAAAAAAAACjIphEAAAAAAAAAgIJsGgEAAAAAAAAAKOj56AsYyXlQx/p+/pksxnHuHMD+bp9r5l7Yh9rK0JqT9wS/16MG1ox7z9qT+7ks3RvVsq72/+WvPdcmW3+2e/Iv60cgXe/3AKPmRc8h+MtaZG4zz1Wjr02nEQAAAAAAAACAgmwaAQAAAAAAAAAoKPZ4Gu18uGfmVkIjrK2NlnHrXXeOLIJ5ec4yO88QmIvnxlzMixlSn2X36j3p/7CF+a6e3pn3PiasSu3B/7nnqWDPeX/p+61zAPaRML/qNAIAAAAAAAAAUJBNIwAAAAAAAAAABcUeTwMJrXxm1trGzjjTSnvQL6mtxunne+5L86h7pTZtxkm3dZ048zpzphpsHaee1zxzNsluM5p5nD2jxrgd563HlshmvNZ1/55HCfCvI56d9DXzM5KfySyT3OaVtMab/fqOYC3C5ZI3x+o0AgAAAAAAAABQkE0jAAAAAAAAAAAFOZ6GQ6xtwZrWymc2S+O8dWxlOF5Si7oKWtsSp3KPcYTWNv49WruPcsb5AZLNPF/8lvkl257HWqxpjXym2ujt3rq/91Eza6z5flkDQC2j3jckfVYzuz3/DuB9JNX1rq/kmtJpBAAAAAAAAACgIJtGAAAAAAAAAAAKsmkEAAAAAAAAAKCg56MvYG/OSTvWvbN+W605e5n7ep+ltWbcZfU7rTV0xLmGsmyTdH5n8nl7Z6DW+jl6LNfWkqx/tmY8jSXugf0sja21xO/cG8vbcew5rmpjnJR6SHq/MqOj1518Sak5gK1GzXetz7LW69nz8+vZbf072XczPO+q5Ucd1etLpxEAAAAAAAAAgIJsGgEAAAAAAAAAKOj0x9OQQdvxeRnnPGta/c3QdutMlloOztaKUTvl+WkZ/qW1jf89s811lbOs5qx13LPF7tLPrm7PcW75nSO+j/8yjjl6H9c0+1F6cAbmWBhP3cGXI97f9aCOoZ9Z60mnEQAAAAAAAACAgmwaAQAAAAAAAAAoyPE0DNOjbeusLXtmcjtGxvY81tRQjxZ37o1tlmryiKNqktoenkVq28kka599RzCn1lQh9wr/xxkYZ8gxc73OfG0zMl7zmnndD3yZ7ajm6npn0Pq5l+z/1fuow95kRrIZPpNPqyGdRgAAAAAAAAAACrJpBAAAAAAAAACgIJtGAAAAAAAAAAAKej76AuByyTvXKYmxreFezmvPanPf7OfeWXrOqazhdoxbcpfL7xkzAAA4v5az6r03OAc5zm/p8w75/V7qmKVe94xax9LzDx5b85n82p+dTKcRAAAAAAAAAICCbBoBAAAAAAAAACgo9niaM7V7AdiLuXJuvY8V2vI7OYY84DF1AgDAI9aM5yLPfDKEMdTanOQyN/n8TKcRAAAAAAAAAICCbBoBAAAAAAAAACgo9ngaADgr7dEAAAAAAAAYQacRAAAAAAAAAICCbBoBAAAAAAAAACjIphEAAAAAAAAAgIJsGgEAAAAAAAAAKMimEQAAAAAAAACAgmwaAQAAAAAAAAAoyKYRAAAAAAAAAICCbBoBAAAAAAAAACioadPI9Xrd+zq4sXXMZXYMueWRWZ4eYy638dRaHpllklsemeWxFsmk1vKotUxqLY/MMsktj8zyWItkUmt5ZJZJbnkejXnTppGPj48uF0O7rWMus2PILY/M8vQYc7mNp9byyCyT3PLILI+1SCa1lketZVJreWSWSW55ZJbHWiSTWssjs0xyy/NozJ+uDVt5Pj8/L+/v75eXl5fL09NTt4vjX9fr9fLx8XF5fX29/Pmz/vQgmY0ltzwyy9Mrs8tFbiOptTwyyyS3PDLLYy2SSa3lUWuZ1FoemWWSWx6Z5bEWyaTW8sgsk9zytGbWtGkEAAAAAAAAAIBz2bZNEgAAAAAAAACASDaNAAAAAAAAAAAUZNMIAAAAAAAAAEBBNo0AAAAAAAAAABRk0wgAAAAAAAAAQEE2jQAAAAAAAAAAFGTTCAAAAAAAAABAQf8DAaJzk45UyOYAAAAASUVORK5CYII=\n"
          },
          "metadata": {}
        },
        {
          "output_type": "display_data",
          "data": {
            "text/plain": [
              "<Figure size 2800x140 with 20 Axes>"
            ],
            "image/png": "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\n"
          },
          "metadata": {}
        },
        {
          "output_type": "display_data",
          "data": {
            "text/plain": [
              "<Figure size 2800x140 with 20 Axes>"
            ],
            "image/png": "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\n"
          },
          "metadata": {}
        },
        {
          "output_type": "display_data",
          "data": {
            "text/plain": [
              "<Figure size 2800x140 with 20 Axes>"
            ],
            "image/png": "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\n"
          },
          "metadata": {}
        }
      ],
      "source": [
        "fig, (ax) = plt.subplots(1,1,figsize=(6,3))\n",
        "ax.hist(np.sort(label),bins=np.arange(Ndigit+1)-1/2,density=False,rwidth=0.55,color=\"g\")\n",
        "ax.xaxis.set_major_locator(mpl.ticker.MultipleLocator(1))\n",
        "ax.set_ylabel(\"data points\")\n",
        "plt.show()\n",
        "for i in range(8): show_MNIST(data[i*20:],Nex=20)"
      ]
    },
    {
      "cell_type": "markdown",
      "metadata": {
        "id": "-TFn4fNhH2JC"
      },
      "source": [
        "## Contrastive divergence (CD)\n"
      ]
    },
    {
      "cell_type": "code",
      "execution_count": 7,
      "metadata": {
        "id": "TvXqUD_1H2JD"
      },
      "outputs": [],
      "source": [
        "# eq(213) page 97, activation via sigmoid\n",
        "# taking into account energy gap 2 for \"spin\" variables (-1,1)\n",
        "def CD_step(v_in,wei,bias,details=False,POTTS=False):\n",
        "    \"\"\"\n",
        "        Generates the state on the other layer:\n",
        "        Field \"H\" ->  activation \"a\" -> probability \"p\" -> Spins/bits v_out\n",
        "\n",
        "        Either (v_in=x, wei=w) or (v_in=z, wei=w.T)\n",
        "\n",
        "        details = True --> returns also probability (p) and activation (a)\n",
        "\n",
        "        POTTS means one-hot encoding (used only in hidden space)\n",
        "    \"\"\"\n",
        "    # local \"field\"\n",
        "    H = np.clip(np.dot(v_in, wei) + bias, a_min=-300, a_max=300)\n",
        "    # \"activation\"\n",
        "    a = exp(level_gap*H)\n",
        "    n = np.shape(H)\n",
        "    v_out = np.full(n, x_min, dtype=int) # initially, just a list on -1's or 0's\n",
        "    if POTTS: # RBM with a single hidden unit = 1 (that is, \"one-hot encoding\" with L states)\n",
        "        # p: state probability, normalized to 1 over all units=states\n",
        "        p = a/np.sum(a)\n",
        "        # F: cumulative probability\n",
        "        F = np.cumsum(p)\n",
        "        # pick a state \"i\" randomly with probability p[i]\n",
        "        r = np.random.rand()\n",
        "        i = 0\n",
        "        while r>F[i]: i+=1\n",
        "        v_out[i] = 1 # activate a single hidden unit\n",
        "    else: # normal Ising RBM\n",
        "        # p: local probability, normalized to 1 for each hidden unit\n",
        "        p = a / (a + 1.)\n",
        "        # at each position i, activate the 1's with local probability p[i]\n",
        "        v_out[np.random.random_sample(n) < p] = 1\n",
        "\n",
        "    if details: return v_out,p,a\n",
        "    else: return v_out"
      ]
    },
    {
      "cell_type": "markdown",
      "metadata": {
        "id": "YEgCb9lKH2JD"
      },
      "source": [
        "## Plot weights"
      ]
    },
    {
      "cell_type": "code",
      "execution_count": 8,
      "metadata": {
        "id": "Fugv9FNQH2JD"
      },
      "outputs": [],
      "source": [
        "def plot_weights_bias(wE, bE, epoch, L, side=0,cols=0,thr=0,s=1.5, title=False, save=True,cmap=\"bwr\"):\n",
        "    '''\n",
        "    Plot the weights of the RBM, one plot for each hidden unit.\n",
        "    '''\n",
        "    rows = int(np.ceil(L / cols))\n",
        "    if rows==1: rows=2\n",
        "    w=wE[epoch]\n",
        "    b=bE[epoch]\n",
        "    if side==0: side=int(sqrt(len(w)))\n",
        "    if thr==0: thr=4\n",
        "    plt.clf()\n",
        "    fig, AX = plt.subplots(rows, cols+1, figsize=(s*(1+cols),s*rows))\n",
        "    if title: fig.suptitle(f\"epoch = {epoch}\")\n",
        "    k=1\n",
        "    for i in range(rows):\n",
        "        for j in range(cols):\n",
        "            if rows==1: ax=AX[j+1]\n",
        "            else: ax=AX[i,j+1]\n",
        "            if k<=L:\n",
        "                ax.imshow(w[:,k-1].reshape(side, side), cmap=cmap,vmin=-thr,vmax=thr)\n",
        "                ax.set_xticks([])\n",
        "                ax.set_yticks([])\n",
        "                ax.set_title(f\"hidden {k}\")\n",
        "            else: fig.delaxes(ax)\n",
        "            k+=1\n",
        "        if i>0:  fig.delaxes(AX[i,0])\n",
        "\n",
        "    ax=AX[0,0];\n",
        "    im=ax.imshow(b.reshape(side, side), cmap=cmap,vmin=-thr,vmax=thr)\n",
        "    ax.set_xticks([])\n",
        "    ax.set_yticks([])\n",
        "    ax.set_title(\"bias\")\n",
        "    # colobar\n",
        "    cbar_ax = fig.add_axes([0.14, 0.15, 0.024, 0.33])\n",
        "    cbar = fig.colorbar(im, cax=cbar_ax)\n",
        "    cbar.ax.tick_params(labelsize=12)\n",
        "\n",
        "    S=0.3\n",
        "    plt.subplots_adjust(hspace=S)\n",
        "\n",
        "    if save: plt.savefig(f\"./FIG/FRAME/RBM_{epoch}_w-a.png\")\n",
        "\n",
        "    plt.show()\n",
        "    plt.close()\n"
      ]
    },
    {
      "cell_type": "markdown",
      "metadata": {
        "id": "CnUJN8jMH2JE"
      },
      "source": [
        "## Weights initialization"
      ]
    },
    {
      "cell_type": "code",
      "execution_count": 9,
      "metadata": {
        "id": "NVYPSZKnH2JE"
      },
      "outputs": [],
      "source": [
        "# initial bias of visible units, based on their average value in the dataset\n",
        "# Hinton, \"A Practical Guide to Training Restricted Boltzmann Machines\"\n",
        "def Hinton_bias_init(x):\n",
        "    xmean=np.array(np.mean(x,axis=0))\n",
        "    # remove values at extrema, to avoid divergences in the log's\n",
        "    S = 1e-4\n",
        "    x1,x2 = x_min+S,1-S\n",
        "    xmean[xmean<x1] = x1\n",
        "    xmean[xmean>x2] = x2\n",
        "    return (1/level_gap)*np.clip(log(xmean-x_min) - log(1-xmean),-300,300)\n",
        "\n",
        "# range of each initial weight\n",
        "# Glorot and Bengio, \"Understanding the difficulty of training deep feedforward neural networks\"\n",
        "sigma = sqrt(4. / float(L + D))"
      ]
    },
    {
      "cell_type": "markdown",
      "metadata": {
        "id": "T5piajQLH2JE"
      },
      "source": [
        "# Load Data"
      ]
    },
    {
      "cell_type": "code",
      "execution_count": 10,
      "metadata": {
        "id": "D4S2LIt5H2JF"
      },
      "outputs": [],
      "source": [
        "def LoadData(WhichFolder):\n",
        "\n",
        "   a_FileList = glob.glob(f\"{WhichFolder}/a_*\")\n",
        "   b_FileList = glob.glob(f\"{WhichFolder}/b_*\")\n",
        "   w_FileList = glob.glob(f\"{WhichFolder}/w_*\")\n",
        "\n",
        "   # Load all files into a dictionary\n",
        "   a = {fname: np.load(fname) for fname in a_FileList}\n",
        "   b = {fname: np.load(fname) for fname in b_FileList}\n",
        "   w = {fname: np.load(fname) for fname in w_FileList}\n",
        "\n",
        "   #return only the values of the dictionary\n",
        "   return a, b, w"
      ]
    },
    {
      "cell_type": "markdown",
      "metadata": {
        "id": "HjN5QAC1H2JF"
      },
      "source": [
        "## Gradient descent method"
      ]
    },
    {
      "cell_type": "code",
      "execution_count": 11,
      "metadata": {
        "id": "hyCYE_wlH2JF",
        "outputId": "92943d7d-20fa-4e43-8420-5aab414d2b15",
        "colab": {
          "base_uri": "https://localhost:8080/"
        }
      },
      "outputs": [
        {
          "output_type": "stream",
          "name": "stdout",
          "text": [
            "epsilon= 0.0001\n",
            "D=784\tsample size\n",
            "L=3\tnr. z states\n",
            "Gradient descent type: RMSprop\n",
            "learning rate        = 0.05 --> 0.05\n",
            "gamma=0.001\tregularization\n"
          ]
        }
      ],
      "source": [
        "# Gradient descent options\n",
        "GRAD_list=[\"SGD\",\"RMSprop\"]\n",
        "GRAD=GRAD_list[1]\n",
        "if GRAD==\"SGD\":\n",
        "    l_rate_ini,l_rate_fin=1.0, 0.25\n",
        "if GRAD==\"RMSprop\":\n",
        "    beta,epsilon=0.9,1e-4\n",
        "    l_rate_ini,l_rate_fin=0.05, 0.05\n",
        "    print(\"epsilon=\",epsilon)\n",
        "gamma = 0.001 ######### for regularization\n",
        "\n",
        "print(f\"D={D}\\tsample size\\nL={L}\\tnr. z states\")\n",
        "print(\"Gradient descent type:\",GRAD)\n",
        "print(f\"learning rate        = {l_rate_ini} --> {l_rate_fin}\")\n",
        "if gamma!=0: print(f\"gamma={gamma}\\tregularization\")"
      ]
    },
    {
      "cell_type": "markdown",
      "metadata": {
        "id": "NoKeuJMXH2JG"
      },
      "source": [
        "# Saving file"
      ]
    },
    {
      "cell_type": "code",
      "execution_count": 12,
      "metadata": {
        "id": "6OmPCxauH2JG",
        "outputId": "96d94240-4bed-4515-e038-1cfe4afca502",
        "colab": {
          "base_uri": "https://localhost:8080/",
          "height": 127
        }
      },
      "outputs": [
        {
          "output_type": "error",
          "ename": "SyntaxError",
          "evalue": "f-string: unmatched '[' (<ipython-input-12-189b120aadd4>, line 5)",
          "traceback": [
            "\u001b[0;36m  File \u001b[0;32m\"<ipython-input-12-189b120aadd4>\"\u001b[0;36m, line \u001b[0;32m5\u001b[0m\n\u001b[0;31m    fname = f'{FolderName}/{label}_RBM_{hp['Ndigit']}_{hp['L']}_{hp['Nt']}_{hp['Opt']}_{hp['l_rate_in']:.2f}-{hp['l_rate_fin']:.2f}_Ep{hp['epochs']}_Mini{hp['mini']}'\u001b[0m\n\u001b[0m                                            ^\u001b[0m\n\u001b[0;31mSyntaxError\u001b[0m\u001b[0;31m:\u001b[0m f-string: unmatched '['\n"
          ]
        }
      ],
      "source": [
        "def FileName(label, time, hp, FolderName):\n",
        "   #Label might be: a, b or w\n",
        "   #hyperparam: [#-if-digits, #-of-hidden-var, CDnumber, optimizr, l_rate_in, l_rate_fin, epochs, gamma, POTTS, SPINS ]\n",
        "\n",
        "   fname = f'{FolderName}/{label}_RBM_{hp['Ndigit']}_{hp['L']}_{hp['Nt']}_{hp['Opt']}_{hp['l_rate_in']:.2f}-{hp['l_rate_fin']:.2f}_Ep{hp['epochs']}_Mini{hp['mini']}'\n",
        "   if hp['gamma'] > 0: fname = fname + f'_reg{hp['gamma']:.3f}'\n",
        "   if hp['POTTS']: fname = fname + f'_POTTS'\n",
        "   if hp['SPINS']: fname = fname + f'_SPINS'\n",
        "   fname = fname + time + '.npy'\n",
        "\n",
        "   return fname\n",
        "\n",
        "def SaveFile(label, time, hp, data, FolderName):\n",
        "   fname = FileName(label, time, hp, FolderName)\n",
        "\n",
        "   np.save(fname, data)\n"
      ]
    },
    {
      "cell_type": "markdown",
      "metadata": {
        "id": "mYBueVU3H2JG"
      },
      "source": [
        "# Log-likelihood $\\mathcal{L}$ function\n",
        "\n",
        "Allow to compute the log likelihood with the training data"
      ]
    },
    {
      "cell_type": "code",
      "execution_count": 13,
      "metadata": {
        "id": "a5SwyIHyH2JH"
      },
      "outputs": [],
      "source": [
        "#TEST\n",
        "def log_likelihood(a, b, w, data):\n",
        "\n",
        "   list_log = []\n",
        "\n",
        "   #for all the epochs\n",
        "   for epoch in tqdm.tqdm(range(a.shape[0])):\n",
        "\n",
        "      Z_a = []\n",
        "      exp_data_dip = []\n",
        "      L = b.shape[1]\n",
        "      D = len(data[0])\n",
        "      q = 1.4\n",
        "      all_z = list(itertools.product([0, 1], repeat=L))\n",
        "\n",
        "      for z in all_z:\n",
        "         G = np.prod([np.exp(z[i]*b[1][i]) for i in range(L)])\n",
        "         H = a[epoch] + np.dot(w[epoch] , z)\n",
        "         #q = np.mean(np.ones(len(H))+np.exp(H))\n",
        "\n",
        "         Z_tilde = G*np.prod((np.ones(len(H))+np.exp(H))/q)\n",
        "         Z_a.append(Z_tilde)\n",
        "\n",
        "         #Ora voglio ciclare sulle x dei dati (i primi 1000 dati)\n",
        "         s_prod_exp_tot = 0\n",
        "         for ics in data:\n",
        "            s_prod_exp = H.dot(ics)\n",
        "            s_prod_exp_tot += s_prod_exp\n",
        "         exp_data_dip.append(s_prod_exp_tot)\n",
        "\n",
        "      #Z\n",
        "      Z = np.sum(Z_a)\n",
        "      log_Z = np.log(Z)+D*np.log(q)\n",
        "      #log_first_part = np.log(np.sum(np.exp(exp_data_dip)))\n",
        "      log_first_part = scipy.special.logsumexp(exp_data_dip)\n",
        "\n",
        "      log_L = (log_first_part - log_Z)/D\n",
        "\n",
        "      list_log.append(log_L)\n",
        "\n",
        "   return list_log"
      ]
    },
    {
      "cell_type": "code",
      "execution_count": 14,
      "metadata": {
        "id": "CWdvhzgpH2JH"
      },
      "outputs": [],
      "source": [
        "#Non mi piace, è da metterci mano\n",
        "\n",
        "def ComputeLogLL(WhichFolder, HowManyLL):\n",
        "\n",
        "\n",
        "   a_Dict, b_Dict, w_Dict = LoadData(WhichFolder)\n",
        "   a_list, b_list, w_list = list(a_Dict.values()), list(b_Dict.values()), list(w_Dict.values())\n",
        "\n",
        "   if HowManyLL > len(a_Dict):\n",
        "      print('Not enought files ')\n",
        "\n",
        "   else:\n",
        "\n",
        "      LogLik_List = []\n",
        "\n",
        "      for i in range(HowManyLL):\n",
        "         Logl = log_likelihood(a_list[i], b_list[i], w_list[i], data)\n",
        "         LogLik_List.append(Logl)\n",
        "\n",
        "      return LogLik_List"
      ]
    },
    {
      "cell_type": "markdown",
      "metadata": {
        "id": "VwV0_K60H2JH"
      },
      "source": [
        "# RBM train function\n"
      ]
    },
    {
      "cell_type": "code",
      "execution_count": 15,
      "metadata": {
        "id": "y9B_yHijH2JH"
      },
      "outputs": [],
      "source": [
        "DefaultHyperp = {'Ndigit': 3, 'L': 3, 'Nt': 2, 'Opt': 'RMSprop', 'l_rate_in': 0.05, 'l_rate_fin': 0.05, 'epochs': 150, 'mini': 20, 'gamma': 0.001, 'POTTS': False, 'SPINS': False}"
      ]
    },
    {
      "cell_type": "code",
      "execution_count": 16,
      "metadata": {
        "id": "aux-UhsAH2JI"
      },
      "outputs": [],
      "source": [
        "#'label' is the folder in which we want to save the file: SingleTrain for this, BM_RandomSearch for the random search\n",
        "def train_RBM(Hyperparams, label, Debug = False):\n",
        "\n",
        "   #Only to check if the directory label exist\n",
        "   if os.path.isdir(label):\n",
        "      print(\"Directory exists\")\n",
        "\n",
        "      L = Hyperparams['L']\n",
        "      Nepoch = Hyperparams['epochs']\n",
        "      Nt = Hyperparams['Nt']\n",
        "      gamma = Hyperparams['gamma']\n",
        "      l_rate_ini, l_rate_fin = Hyperparams['l_rate_in'], Hyperparams['l_rate_fin']\n",
        "      GRAD = Hyperparams['Opt']\n",
        "      POTTS, SPINS = Hyperparams['POTTS'], Hyperparams['SPINS']\n",
        "\n",
        "      # minibatches per epoch\n",
        "      Nmini = Hyperparams['mini']\n",
        "      # minibatch size at initial epoch and final one\n",
        "\n",
        "\n",
        "      N_ini, N_fin= 10, 500\n",
        "\n",
        "      print(Hyperparams)\n",
        "\n",
        "      # initial weights from a Normal distr. (see literature, e.g. page 98 of Mehta's review)\n",
        "      w = sigma * np.random.randn(D,L)\n",
        "      #a = sigma * np.random.randn(D)\n",
        "      # using Hinton initialization of visible biases\n",
        "      a = Hinton_bias_init(data)\n",
        "      # hidden biases initialized to zero\n",
        "      b = np.zeros(L)\n",
        "\n",
        "      if Debug: print(f\"Nepoch={Nepoch}\\nNmini={Nmini}\")\n",
        "\n",
        "      # recording history of weights (\"E\" means epoch)\n",
        "      wE,aE,bE=np.zeros((Nepoch+1,D,L)),np.zeros((Nepoch+1,D)),np.zeros((Nepoch+1,L))\n",
        "      wE[0],aE[0],bE[0]=np.copy(w),np.copy(a),np.copy(b)\n",
        "      gwE,gwE_d,gwE_m = np.zeros_like(wE),np.zeros_like(wE),np.zeros_like(wE)\n",
        "      gaE,gaE_d,gaE_m = np.zeros_like(aE),np.zeros_like(aE),np.zeros_like(aE)\n",
        "      gbE,gbE_d,gbE_m = np.zeros_like(bE),np.zeros_like(bE),np.zeros_like(bE)\n",
        "      miniE = np.zeros(Nepoch+1)\n",
        "      pzE=np.zeros((Nepoch+1,Nz))\n",
        "\n",
        "\n",
        "      if GRAD==\"RMSprop\":\n",
        "         gw2,ga2,gb2 = np.zeros_like(w),np.zeros_like(a),np.zeros_like(b)\n",
        "\n",
        "      indices=np.arange(Nd).astype(\"int\")\n",
        "\n",
        "      if Debug:\n",
        "         plot_weights_bias(wE, aE, 0, L, cols=6, save=False)\n",
        "\n",
        "      # for the plot with panels\n",
        "      Ncols=min(8,max(2,L//2))\n",
        "\n",
        "      if Debug:\n",
        "         if POTTS: print(\"Starting the training, POTTS=True\")\n",
        "         else: print(\"Starting the training\")\n",
        "\n",
        "      # Note: here an epoch does not analyze the whole dataset\n",
        "      for epoch in tqdm.tqdm(range(1,Nepoch+1)):\n",
        "         # q maps epochs to interval [0,1]\n",
        "         q = (epoch-1.)/(Nepoch-1.)\n",
        "         # N, size of the mini batch\n",
        "         # stays closer to N_ini for some time, then it progressively accelerates toward N_fin\n",
        "         N = int(N_ini + (N_fin-N_ini)*(q**2))\n",
        "         #  l_rate interpolates between initial and final value\n",
        "         l_rate = l_rate_ini + (l_rate_fin-l_rate_ini)*q\n",
        "\n",
        "         selected = np.random.choice(indices, N, replace=False)\n",
        "\n",
        "         for mini in range(Nmini):\n",
        "            # initializitation for averages in minibatch\n",
        "            # visible variables \"v\" --> \"x\"\n",
        "            #  hidden variables \"h\" --> \"z\"\n",
        "            x_data, x_model = np.zeros(D),np.zeros(D)\n",
        "            z_data, z_model = np.zeros(L),np.zeros(L)\n",
        "            xz_data,xz_model= np.zeros((D,L)),np.zeros((D,L))\n",
        "            pz = np.zeros(L)\n",
        "\n",
        "            # Minibatch of size N: points randomply picked (without repetition) from data\n",
        "            #if Debug:\n",
        "               #if epoch==1 and mini<=3: print(selected)\n",
        "\n",
        "            for k in range(N):\n",
        "               ###################################\n",
        "               x0 = data[selected[k]]\n",
        "               # positive CD phase: generating z from x[k]\n",
        "               z = CD_step(x0,w,b,POTTS=POTTS)\n",
        "               x_data  += x0\n",
        "               z_data  += z\n",
        "               xz_data += np.outer(x0,z)\n",
        "               # fantasy\n",
        "               zf=np.copy(z)\n",
        "               # Contrastive divergence with Nt steps\n",
        "               for t in range(Nt):\n",
        "                  # negative CD pzase: generating fantasy xf from fantasy zf\n",
        "                  xf = CD_step(zf,w.T,a)\n",
        "                  # positive CD phase: generating fantasy zf from fantasy xf\n",
        "                  zf = CD_step(xf,w,b,POTTS=POTTS)\n",
        "               x_model += xf\n",
        "               z_model += zf\n",
        "               xz_model+= np.outer(xf,zf)\n",
        "               # recording probability of encoding in z-space, if POTTS\n",
        "               if POTTS: pz[zf]+=1\n",
        "               ###################################\n",
        "\n",
        "            # gradient of the likelihood: follow it along its positive direction\n",
        "            gw_d,gw_m = xz_data/N, xz_model/N\n",
        "            ga_d,ga_m = x_data/N, x_model/N\n",
        "            gb_d,gb_m = z_data/N, z_model/N\n",
        "            gw=np.copy(gw_d - gw_m)\n",
        "            ga=np.copy(ga_d - ga_m)\n",
        "            gb=np.copy(gb_d - gb_m)\n",
        "\n",
        "            # gradient ascent step\n",
        "            if GRAD==\"RMSprop\":\n",
        "               # RMSprop gradient ascent\n",
        "               gw2 = beta*gw2+(1-beta)*np.square(gw)\n",
        "               ga2 = beta*ga2+(1-beta)*np.square(ga)\n",
        "               gb2 = beta*gb2+(1-beta)*np.square(gb)\n",
        "               w += l_rate*gw/sqrt(epsilon+gw2)\n",
        "               a += l_rate*ga/sqrt(epsilon+ga2)\n",
        "               b += l_rate*gb/sqrt(epsilon+gb2)\n",
        "            else:\n",
        "                  # defaulting to the vanilla stochastic gradient ascent (SGD)\n",
        "               w += l_rate*gw\n",
        "               a += l_rate*ga\n",
        "               b += l_rate*gb\n",
        "            # regularization (LASSO)\n",
        "            if gamma>0.:\n",
        "               w -= (gamma*l_rate)*sign(w)\n",
        "               a -= (gamma*l_rate)*sign(a)\n",
        "               b -= (gamma*l_rate)*sign(b)\n",
        "\n",
        "         wE[epoch],gwE[epoch],gwE_d[epoch],gwE_m[epoch]=np.copy(w),np.copy(gw),np.copy(gw_d),np.copy(gw_m)\n",
        "         aE[epoch],gaE[epoch],gaE_d[epoch],gaE_m[epoch]=np.copy(a),np.copy(ga),np.copy(ga_d),np.copy(ga_m)\n",
        "         bE[epoch],gbE[epoch],gbE_d[epoch],gbE_m[epoch]=np.copy(b),np.copy(gb),np.copy(gb_d),np.copy(gb_m)\n",
        "         miniE[epoch]=N\n",
        "\n",
        "         #Computing the likelihood\n",
        "\n",
        "         if POTTS: pzE[epoch] = pz/np.sum(pz)\n",
        "         # if Debug:\n",
        "         #    print(\"epoch\",epoch,\"/\",Nepoch,\" Nt:\",Nt,\" N:\",N,\" L:\",L,\n",
        "         #          \" rate:\",l_rate,\" gam:\",gamma,\"SPINS=\",SPINS,\"POTTS=\",POTTS)\n",
        "\n",
        "         str_time = datetime.datetime.now().strftime(\"_%m%d_%H%M\")\n",
        "\n",
        "      if Debug:\n",
        "         plot_weights_bias(wE, aE, epoch, L, cols=Ncols, save=False)\n",
        "\n",
        "      SaveFile('w', str_time, Hyperparams, wE, label)\n",
        "      SaveFile('b', str_time, Hyperparams, bE, label)\n",
        "      SaveFile('a', str_time, Hyperparams, aE, label)\n",
        "\n",
        "\n",
        "\n",
        "      if Debug: print(\"END of learning phase\")\n",
        "\n",
        "   else:\n",
        "      print(\"Directory does not exist\")\n"
      ]
    },
    {
      "cell_type": "code",
      "execution_count": 17,
      "metadata": {
        "id": "ANotjZJPH2JI",
        "outputId": "efdde826-4aae-4ef5-b62b-aa9009fedd3b",
        "colab": {
          "base_uri": "https://localhost:8080/",
          "height": 971
        }
      },
      "outputs": [
        {
          "output_type": "stream",
          "name": "stdout",
          "text": [
            "Directory exists\n",
            "{'Ndigit': 3, 'L': 3, 'Nt': 2, 'Opt': 'RMSprop', 'l_rate_in': 0.05, 'l_rate_fin': 0.05, 'epochs': 150, 'mini': 20, 'gamma': 0.001, 'POTTS': False, 'SPINS': False}\n",
            "Nepoch=150\n",
            "Nmini=20\n"
          ]
        },
        {
          "output_type": "display_data",
          "data": {
            "text/plain": [
              "<Figure size 640x480 with 0 Axes>"
            ]
          },
          "metadata": {}
        },
        {
          "output_type": "display_data",
          "data": {
            "text/plain": [
              "<Figure size 1050x300 with 5 Axes>"
            ],
            "image/png": "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\n"
          },
          "metadata": {}
        },
        {
          "output_type": "stream",
          "name": "stdout",
          "text": [
            "Starting the training\n"
          ]
        },
        {
          "output_type": "stream",
          "name": "stderr",
          "text": [
            "100%|██████████| 150/150 [02:05<00:00,  1.19it/s]\n"
          ]
        },
        {
          "output_type": "display_data",
          "data": {
            "text/plain": [
              "<Figure size 640x480 with 0 Axes>"
            ]
          },
          "metadata": {}
        },
        {
          "output_type": "display_data",
          "data": {
            "text/plain": [
              "<Figure size 450x300 with 5 Axes>"
            ],
            "image/png": "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\n"
          },
          "metadata": {}
        },
        {
          "output_type": "error",
          "ename": "NameError",
          "evalue": "name 'SaveFile' is not defined",
          "traceback": [
            "\u001b[0;31m---------------------------------------------------------------------------\u001b[0m",
            "\u001b[0;31mNameError\u001b[0m                                 Traceback (most recent call last)",
            "\u001b[0;32m<ipython-input-17-62cd2562a3c1>\u001b[0m in \u001b[0;36m<cell line: 0>\u001b[0;34m()\u001b[0m\n\u001b[0;32m----> 1\u001b[0;31m \u001b[0mtrain_RBM\u001b[0m\u001b[0;34m(\u001b[0m\u001b[0mDefaultHyperp\u001b[0m\u001b[0;34m,\u001b[0m \u001b[0mlabel\u001b[0m \u001b[0;34m=\u001b[0m \u001b[0;34m'SingleTrain'\u001b[0m\u001b[0;34m,\u001b[0m \u001b[0mDebug\u001b[0m \u001b[0;34m=\u001b[0m \u001b[0;32mTrue\u001b[0m\u001b[0;34m)\u001b[0m\u001b[0;34m\u001b[0m\u001b[0;34m\u001b[0m\u001b[0m\n\u001b[0m",
            "\u001b[0;32m<ipython-input-16-bd7cda2b9119>\u001b[0m in \u001b[0;36mtrain_RBM\u001b[0;34m(Hyperparams, label, Debug)\u001b[0m\n\u001b[1;32m    151\u001b[0m          \u001b[0mplot_weights_bias\u001b[0m\u001b[0;34m(\u001b[0m\u001b[0mwE\u001b[0m\u001b[0;34m,\u001b[0m \u001b[0maE\u001b[0m\u001b[0;34m,\u001b[0m \u001b[0mepoch\u001b[0m\u001b[0;34m,\u001b[0m \u001b[0mL\u001b[0m\u001b[0;34m,\u001b[0m \u001b[0mcols\u001b[0m\u001b[0;34m=\u001b[0m\u001b[0mNcols\u001b[0m\u001b[0;34m,\u001b[0m \u001b[0msave\u001b[0m\u001b[0;34m=\u001b[0m\u001b[0;32mFalse\u001b[0m\u001b[0;34m)\u001b[0m\u001b[0;34m\u001b[0m\u001b[0;34m\u001b[0m\u001b[0m\n\u001b[1;32m    152\u001b[0m \u001b[0;34m\u001b[0m\u001b[0m\n\u001b[0;32m--> 153\u001b[0;31m       \u001b[0mSaveFile\u001b[0m\u001b[0;34m(\u001b[0m\u001b[0;34m'w'\u001b[0m\u001b[0;34m,\u001b[0m \u001b[0mstr_time\u001b[0m\u001b[0;34m,\u001b[0m \u001b[0mHyperparams\u001b[0m\u001b[0;34m,\u001b[0m \u001b[0mwE\u001b[0m\u001b[0;34m,\u001b[0m \u001b[0mlabel\u001b[0m\u001b[0;34m)\u001b[0m\u001b[0;34m\u001b[0m\u001b[0;34m\u001b[0m\u001b[0m\n\u001b[0m\u001b[1;32m    154\u001b[0m       \u001b[0mSaveFile\u001b[0m\u001b[0;34m(\u001b[0m\u001b[0;34m'b'\u001b[0m\u001b[0;34m,\u001b[0m \u001b[0mstr_time\u001b[0m\u001b[0;34m,\u001b[0m \u001b[0mHyperparams\u001b[0m\u001b[0;34m,\u001b[0m \u001b[0mbE\u001b[0m\u001b[0;34m,\u001b[0m \u001b[0mlabel\u001b[0m\u001b[0;34m)\u001b[0m\u001b[0;34m\u001b[0m\u001b[0;34m\u001b[0m\u001b[0m\n\u001b[1;32m    155\u001b[0m       \u001b[0mSaveFile\u001b[0m\u001b[0;34m(\u001b[0m\u001b[0;34m'a'\u001b[0m\u001b[0;34m,\u001b[0m \u001b[0mstr_time\u001b[0m\u001b[0;34m,\u001b[0m \u001b[0mHyperparams\u001b[0m\u001b[0;34m,\u001b[0m \u001b[0maE\u001b[0m\u001b[0;34m,\u001b[0m \u001b[0mlabel\u001b[0m\u001b[0;34m)\u001b[0m\u001b[0;34m\u001b[0m\u001b[0;34m\u001b[0m\u001b[0m\n",
            "\u001b[0;31mNameError\u001b[0m: name 'SaveFile' is not defined"
          ]
        }
      ],
      "source": [
        "train_RBM(DefaultHyperp, label = 'SingleTrain', Debug = True)"
      ]
    },
    {
      "cell_type": "code",
      "execution_count": 18,
      "metadata": {
        "id": "U0ITPf5wH2JJ",
        "outputId": "b17b81eb-5085-41a4-c13f-8a1d22acbcac",
        "colab": {
          "base_uri": "https://localhost:8080/"
        }
      },
      "outputs": [
        {
          "output_type": "stream",
          "name": "stdout",
          "text": [
            "Not enought files \n"
          ]
        }
      ],
      "source": [
        "LogLikely_List = ComputeLogLL('SingleTrain', HowManyLL=1)"
      ]
    },
    {
      "cell_type": "code",
      "execution_count": null,
      "metadata": {
        "id": "6ruUGOqZH2JJ"
      },
      "outputs": [],
      "source": [
        "epochs = [np.arange(len(LogLikely_List[i])) for i in range(len(LogLikely_List))]\n",
        "\n",
        "plt.close('all')\n",
        "\n",
        "fig, ax = plt.subplots(len(epochs), figsize = (8, 8))\n",
        "\n",
        "ax.plot(epochs[0], LogLikely_List[0])\n",
        "ax.grid(True)\n",
        "# ax1 = ax[1]\n",
        "# ax1.plot(epochs[1], LogLikely_List[1])\n",
        "plt.show()\n"
      ]
    },
    {
      "cell_type": "markdown",
      "metadata": {
        "id": "hhAklKXCH2JK"
      },
      "source": [
        "# Implementing the Random Search"
      ]
    },
    {
      "cell_type": "code",
      "execution_count": null,
      "metadata": {
        "id": "rJU3DPnEH2JL"
      },
      "outputs": [],
      "source": [
        "HP = {'L': [3, 6],\n",
        "      'Nt': [2, 6],\n",
        "      'Opt': ['RMSprop', 'SGD'],\n",
        "      'l_rate_in': [1, 0.1],\n",
        "      'l_rate_fin': [0.1, 0.05],\n",
        "      'epochs': [100, 250],\n",
        "      'mini': [10, 50],\n",
        "      'gamma': [0.1, 0.001],\n",
        "      #'POTTS': [False, True],\n",
        "      #'SPINS': False\n",
        "      }\n",
        "\n",
        "\n",
        "def RandomSearch(HP, Ndigit = 3, nModels = 10):\n",
        "\n",
        "   HyperParams_List = []\n",
        "\n",
        "   for _ in range(nModels):\n",
        "\n",
        "      L, Nt = np.random.randint(HP['L'][0], HP['L'][1]), np.random.randint(HP['Nt'][0], HP['Nt'][1] )\n",
        "      l_rate_in = np.random.uniform(HP['l_rate_in'][0], HP['l_rate_in'][1])\n",
        "      l_rate_fin = np.random.uniform(HP['l_rate_fin'][0], HP['l_rate_fin'][1])\n",
        "      epochs, mini = np.random.randint(HP['epochs'][0], HP['epochs'][1]), np.random.randint(HP['mini'][0], HP['mini'][1] )\n",
        "      gamma = np.random.uniform(HP['gamma'][0], HP['gamma'][1])\n",
        "\n",
        "      Opt = np.random.choice(HP['Opt'])\n",
        "\n",
        "      HyperParams = {'Ndigit': Ndigit, 'L': L, 'Nt': Nt, 'Opt': Opt, 'l_rate_in': l_rate_in,\n",
        "                     'l_rate_fin': l_rate_fin, 'epochs': epochs, 'mini': mini, 'gamma': gamma, 'POTTS': False, 'SPINS': False}\n",
        "\n",
        "      HyperParams_List.append(HyperParams)\n",
        "\n",
        "   return HyperParams_List\n"
      ]
    },
    {
      "cell_type": "code",
      "execution_count": null,
      "metadata": {
        "id": "dyXl-iKxH2JL"
      },
      "outputs": [],
      "source": [
        "HyperParam_List = RandomSearch(HP, nModels = 3)"
      ]
    },
    {
      "cell_type": "markdown",
      "metadata": {
        "id": "lcxdceNWH2JM"
      },
      "source": [
        "# Training with all the Models"
      ]
    },
    {
      "cell_type": "code",
      "execution_count": null,
      "metadata": {
        "id": "JTXjlOowH2JN"
      },
      "outputs": [],
      "source": [
        "for HP in HyperParam_List:\n",
        "   train_RBM(HP, label = 'BM_RandomSearch', Debug = False, )"
      ]
    },
    {
      "cell_type": "code",
      "execution_count": null,
      "metadata": {
        "id": "Pwu4i5RoH2JN"
      },
      "outputs": [],
      "source": [
        "LogLikely_ListRS = ComputeLogLL('BM_RandomSearch', 3)"
      ]
    },
    {
      "cell_type": "code",
      "execution_count": null,
      "metadata": {
        "id": "PGQscQ4SH2JO"
      },
      "outputs": [],
      "source": []
    },
    {
      "cell_type": "code",
      "execution_count": null,
      "metadata": {
        "id": "0J7brSOLH2JV"
      },
      "outputs": [],
      "source": []
    },
    {
      "cell_type": "code",
      "execution_count": null,
      "metadata": {
        "id": "FhISCwHZH2JV"
      },
      "outputs": [],
      "source": []
    },
    {
      "cell_type": "code",
      "execution_count": null,
      "metadata": {
        "id": "XX06VlYOH2JV"
      },
      "outputs": [],
      "source": []
    },
    {
      "cell_type": "markdown",
      "metadata": {
        "id": "Ym7_jm5KH2JV"
      },
      "source": [
        "## Test generative power of the trained RBM"
      ]
    },
    {
      "cell_type": "code",
      "execution_count": null,
      "metadata": {
        "id": "Qthuqr5QH2JW"
      },
      "outputs": [],
      "source": [
        "#aE = np.load('WEIGHTS/a_RBM_3_3_2_RMSprop_0.05-0.05_Ep150_reg0.001_0312_1502.npy')\n",
        "#bE = np.load('WEIGHTS/b_RBM_3_3_2_RMSprop_0.05-0.05_Ep150_reg0.001_0312_1502.npy')\n",
        "#wE = np.load('WEIGHTS/w_RBM_3_3_2_RMSprop_0.05-0.05_Ep150_reg0.001_0312_1502.npy')\n",
        "\n",
        "ee=-1\n",
        "NN=200\n",
        "traj_x,traj_z = np.zeros((NN+2,D)), np.zeros((NN+2,L))\n",
        "xf=np.copy(data[np.random.randint(Nd)])\n",
        "traj_x[0]=np.copy(xf)\n",
        "\n",
        "# AF: multiply weights and biases by a number >1 to achieve a more deterministic behavior,\n",
        "# equivalent to lower the temperature in a Boltzmann weight -> select lowest energies\n",
        "# Note: here, this is done in the negative CD step only\n",
        "AF=10.\n",
        "\n",
        "for t in range(NN):\n",
        "    t1=t+1\n",
        "    # positive CD phase: generating fantasy zf from fantasy xf\n",
        "    zf = CD_step(xf,1*wE[ee],1*bE[ee],POTTS=POTTS)\n",
        "    traj_z[t] = np.copy(zf)\n",
        "    # negative CD pzase: generating fantasy xf from fantasy zf\n",
        "    xf = CD_step(zf,AF*wE[ee].T,AF*aE[ee])\n",
        "    traj_x[t1] = np.copy(xf)\n",
        "\n",
        "\n",
        "plot_weights_bias(wE, aE, 150, L, cols=3, save=False)\n",
        "\n",
        "col0,col1,col2,col3,col4=(0.8,0,0,1),(1,0.6,0,1),(0,.7,0,1),(0.2,0.2,1,1),(1,0,1,1)\n",
        "show_MNIST(traj_x[0:],Nex=10,colors=(col0,col1))\n",
        "show_MNIST(traj_x[10:],Nex=10,colors=(col1,col2))\n",
        "show_MNIST(traj_x[20:],Nex=10,colors=(col2,col3))\n",
        "show_MNIST(traj_x[40:],Nex=10,colors=(col3,col4))\n",
        "print(\"L:\",L,\"    amplification of weights:\",AF )"
      ]
    },
    {
      "cell_type": "markdown",
      "metadata": {
        "id": "D3Ul7vv-H2JW"
      },
      "source": [
        "## Plot of the gradient amplitude"
      ]
    },
    {
      "cell_type": "code",
      "execution_count": null,
      "metadata": {
        "id": "Y25OuxfsH2JW"
      },
      "outputs": [],
      "source": [
        "def make_fname(strin):\n",
        "    fname=\"FIG/RBM_\"+strin+\"_MNIST\"+str(Ndigit)+\"_E\"+str(NE)+\"_N\"+str(N_ini)+\"-\"+str(N_fin)\n",
        "    fname=fname+\"_\"+GRAD+\"-\"+str(l_rate_ini)+\"-\"+str(l_rate_fin)+\"_CD-\"+str(Nt)+\"_L\"+str(L)\n",
        "    if gamma>0:  fname=fname+\"_reg\"+str(gamma)\n",
        "    return fname+\".png\"\n",
        "\n",
        "NE = len(gwE)-1\n",
        "print(\"NE=\",NE)\n",
        "mgw,mga,mgb,epo=np.zeros(NE),np.zeros(NE),np.zeros(NE),np.zeros(NE)\n",
        "DE=1\n",
        "if NE>30: DE=2\n",
        "if NE>50: DE=5\n",
        "if NE>100: DE=10\n",
        "# compute RMS average of gradients during epochs\n",
        "for ep in range(1,1+NE):\n",
        "    epo[ep-1]=ep\n",
        "    mgw[ep-1] = np.std(gwE[ep])\n",
        "    mga[ep-1] = np.std(gaE[ep])\n",
        "    mgb[ep-1] = np.std(gbE[ep])\n",
        "\n",
        "#############################################################################\n",
        "# creating grid for subplots\n",
        "fig, ax = plt.subplots(1, 1, figsize=(8,5.5))\n",
        "fig.subplots_adjust( left=None, bottom=None,  right=None, top=None, wspace=None, hspace=None)\n",
        "\n",
        "ax.xaxis.set_major_locator(mpl.ticker.MultipleLocator(DE))\n",
        "ax.plot(epo,mgw,\"o-\",c=\"#CC77EC\",label=\"$w$\",zorder=10)\n",
        "ax.plot(epo,mga,\"d--\",c=\"#22C040\",label=\"$a$\",zorder=5)\n",
        "ax.plot(epo,mgb,\"^:\",c=\"#EEC006\",label=\"$b$\",zorder=8)\n",
        "ax.plot(epo,.35/sqrt(miniE[1:]),\"k-.\",label=\"$\\sim 1 / \\sqrt{N}$\",zorder=20,lw=2)\n",
        "ax.set_xlabel(\"Epoch\")\n",
        "ax.set_ylabel(\"gradient RMS\")\n",
        "ax.set_xlim(0.5,NE+0.5)\n",
        "if 1==2: ax.set_ylim(0,)\n",
        "else:\n",
        "    ax.set_xlim(0.8,Nepoch*1.1)\n",
        "    ax.set_xscale(\"log\")\n",
        "    ax.set_yscale(\"log\")\n",
        "ax.legend()\n",
        "\n",
        "fname=make_fname(\"grad\")\n",
        "fig.savefig(fname,dpi=200,bbox_inches='tight',pad_inches=0.02, transparent=False)\n",
        "plt.show()\n",
        "print(fname)"
      ]
    },
    {
      "cell_type": "markdown",
      "source": [
        "# Optional point 5 WORK IN PROGRESS, DA Fare che si prende i pesi e bias dai file"
      ],
      "metadata": {
        "id": "u1-KMPvDJI5-"
      }
    },
    {
      "cell_type": "markdown",
      "source": [
        "Ora era fatto che si prende i pesi e bias dalla versione vecchia di Baiesi (quindi ora lanciato così dice che non conosce wE, aE, bE)"
      ],
      "metadata": {
        "id": "3hLK20g8KK4w"
      }
    },
    {
      "cell_type": "code",
      "source": [
        "W = wE[Nepoch]\n",
        "a = aE[epoch]\n",
        "b = bE[epoch]\n",
        "\n",
        "selectA = 1\n",
        "selectB = 2\n",
        "index_selectA = np.random.choice( np.where(label == selectA)[0] )\n",
        "index_selectB = np.random.choice( np.where(label == selectB)[0] )\n",
        "dataA = data[index_selectA]\n",
        "dataB = data[index_selectB]\n",
        "\n",
        "zA = CD_step(dataA,W,b)\n",
        "zB = CD_step(dataB,W,b)\n",
        "\n",
        "def energy(x, z, W, a, b):\n",
        "    return -(np.dot(x, a) + np.dot(z, b) + np.dot(x, np.dot(W , z)))\n",
        "\n",
        "n_steps = 100\n",
        "energies = []\n",
        "intermediate_images = []\n",
        "\n",
        "for alpha in np.linspace(0, 1, n_steps):\n",
        "    # PART OVERCOME BARRIER\n",
        "    '''\n",
        "    x_intermediate = np.zeros(D)\n",
        "    #ora per ogni pixel, decido con la soglia random se prendere il valore da dataA o da dataB\n",
        "    for i in range(D):\n",
        "        if np.random.uniform() > alpha:\n",
        "            x_intermediate[i] = dataA[i]\n",
        "        else:\n",
        "            x_intermediate[i] = dataB[i]\n",
        "    '''\n",
        "    # ----------------------\n",
        "    # PART SHOW BARRIER\n",
        "    x_intermediate = (1 - alpha) * dataA + alpha * dataB  # Interpolazione lineare\n",
        "    x_intermediate = (x_intermediate > 0.5).astype(int)  # Soglia binaria\n",
        "    z_intermediate = CD_step(x_intermediate, W, b,)\n",
        "    # ----------------------\n",
        "    E = energy(x_intermediate, z_intermediate, W, a, b)\n",
        "    energies.append(E)\n",
        "    intermediate_images.append(x_intermediate.reshape(28, 28))\n",
        "\n",
        "\n",
        "plt.figure(figsize=(8, 4))\n",
        "plt.plot(range(n_steps), energies, marker='o')\n",
        "plt.xlabel(f\"Linear transition between {selectA} and {selectB}\")\n",
        "plt.ylabel(\"Energy\")\n",
        "plt.title(f\"Energetic barrier between {selectA} and {selectB}\")\n",
        "plt.grid()\n",
        "plt.show()\n",
        "\n",
        "# show some intermediate step\n",
        "show_inter_steps = 5\n",
        "fig, axes = plt.subplots(1, show_inter_steps, figsize=(10, 2))\n",
        "for i, ax in enumerate(axes):\n",
        "    ax.imshow(intermediate_images[i * (n_steps // show_inter_steps)], cmap='gray')\n",
        "    ax.axis('off')\n",
        "plt.show()"
      ],
      "metadata": {
        "id": "Krh5JwRsJIXX",
        "outputId": "a41898ac-8735-4672-b288-467dbb832259",
        "colab": {
          "base_uri": "https://localhost:8080/",
          "height": 572
        }
      },
      "execution_count": 21,
      "outputs": [
        {
          "output_type": "display_data",
          "data": {
            "text/plain": [
              "<Figure size 800x400 with 1 Axes>"
            ],
            "image/png": "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\n"
          },
          "metadata": {}
        },
        {
          "output_type": "display_data",
          "data": {
            "text/plain": [
              "<Figure size 1000x200 with 5 Axes>"
            ],
            "image/png": "iVBORw0KGgoAAAANSUhEUgAAAxsAAACZCAYAAABHTieHAAAAOnRFWHRTb2Z0d2FyZQBNYXRwbG90bGliIHZlcnNpb24zLjEwLjAsIGh0dHBzOi8vbWF0cGxvdGxpYi5vcmcvlHJYcgAAAAlwSFlzAAAPYQAAD2EBqD+naQAABP9JREFUeJzt3dtu02AUhFGCeP9XNleIU0hDms/bv73WdVW5dEAa7Qy+bdu2fQEAAHizr9MPAAAAnJOyAQAAJJQNAAAgoWwAAAAJZQMAAEgoGwAAQELZAAAAEsoGAACQ+PbsF95ut/I5WNRe74SUP+7Z852kMsg9/g1kkvwx6dn8uWwAAAAJZQMAAEgoGwAAQELZAAAAEsoGAACQUDYAAICEsgEAACSUDQAAIKFsAAAACWUDAABIKBsAAEBC2QAAABLKBgAAkPg2/QAAwPVs25Z+/9vtln5/1iZ/+3HZAAAAEsoGAACQUDYAAICEsgEAACQMxAGAt6mHt8965jmMeM9H/o7HZQMAAEgoGwAAQELZAAAAEsoGAACQMBAf9uyQ6SojIvYlf0yTwbUdZYz7qnvPL2vrkL81uGwAAAAJZQMAAEgoGwAAQELZAAAAEgbiO1p9yMTa5I9pMri21cb8r+btKqPd1cjfulw2AACAhLIBAAAklA0AACBhswEAfGi1z43/+bw2Q2uTv3W5bAAAAAllAwAASCgbAABAQtkAAAASBuKhK4+BmCd/TJNBjuTewPjZjP75dauNlZl35fy5bAAAAAllAwAASCgbAABAQtkAAAASBuIAwCV9ZrQLn3WV/LlsAAAACWUDAABIKBsAAEBC2QAAABIG4m9yxkEP65A/pskgAPe4bAAAAAllAwAASCgbAABAQtkAAAASBuIHdO+NkrAX+WOaDAKch8sGAACQUDYAAICEsgEAACRsNl7g5VVMkj+mySBXd+/vgK0Re1ktfy4bAABAQtkAAAASygYAAJBQNgAAgISB+AfqIeSRBz3Mkz+mySAAn+GyAQAAJJQNAAAgoWwAAAAJZQMAAEgYiO/IEJJJ8sc0GeQsZJlJq+XPZQMAAEgoGwAAQELZAAAAEsoGAACQMBD/Rf2mXHhE/pgmgzwiH489++ez2rj3KOTvsSPnz2UDAABIKBsAAEBC2QAAABLKBgAAkDAQDxmBMUn+mCaDazPI/bcjj3HPQv7+bbX8uWwAAAAJZQMAAEgoGwAAQOLSm413fh7wKJ+LYx3yxzQZpHCULJSf+T/Kz8jfjvK7kb+fXDYAAICEsgEAACSUDQAAIKFsAAAAiUsPxAGA1x1lqFq/AO4oPye/O8rvRf4ec9kAAAASygYAAJBQNgAAgISyAQAAJC4zEK/HO/CI/DFNBjmLd2Z59eEt+5O//+eyAQAAJJQNAAAgoWwAAAAJZQMAAEhcZiD+TlcZ9HBM8sc0GeSHlf7jAbk9H/lbg8sGAACQUDYAAICEsgEAACROudnwwhUmyR/TZJCrkVMmyd9jLhsAAEBC2QAAABLKBgAAkFA2AACAxCkH4q8y8GGS/DFNBvnVM3moX6omk9clf+fhsgEAACSUDQAAIKFsAAAACWUDAABIXHogbvjDJPljmgzyWTLEJPlbg8sGAACQUDYAAICEsgEAACSUDQAAIKFsAAAACWUDAABIKBsAAEBC2QAAABLKBgAAkDjlG8S9UZJJ8sc0GQTgKFw2AACAhLIBAAAklA0AACChbAAAAAllAwAASCgbAABAQtkAAAASygYAAJBQNgAAgISyAQAAJJQNAAAgoWwAAAAJZQMAAEjctm3bph8CAAA4H5cNAAAgoWwAAAAJZQMAAEgoGwAAQELZAAAAEsoGAACQUDYAAICEsgEAACSUDQAAIPEdL3r2bAKdljgAAAAASUVORK5CYII=\n"
          },
          "metadata": {}
        }
      ]
    },
    {
      "cell_type": "code",
      "source": [
        "W = wE[Nepoch]\n",
        "a = aE[epoch]\n",
        "b = bE[epoch]\n",
        "\n",
        "selectA = 1\n",
        "selectB = 2\n",
        "index_selectA = np.random.choice( np.where(label == selectA)[0] )\n",
        "index_selectB = np.random.choice( np.where(label == selectB)[0] )\n",
        "dataA = data[index_selectA]\n",
        "dataB = data[index_selectB]\n",
        "\n",
        "zA = CD_step(dataA,W,b)\n",
        "zB = CD_step(dataB,W,b)\n",
        "\n",
        "def energy(x, z, W, a, b):\n",
        "    return -(np.dot(x, a) + np.dot(z, b) + np.dot(x, np.dot(W , z)))\n",
        "\n",
        "n_steps = 100\n",
        "energies = []\n",
        "intermediate_images = []\n",
        "\n",
        "for alpha in np.linspace(0, 1, n_steps):\n",
        "    # PART OVERCOME BARRIER\n",
        "    x_intermediate = np.zeros(D)\n",
        "    #ora per ogni pixel, decido con la soglia random se prendere il valore da dataA o da dataB\n",
        "    for i in range(D):\n",
        "        if np.random.uniform() > alpha:\n",
        "            x_intermediate[i] = dataA[i]\n",
        "        else:\n",
        "            x_intermediate[i] = dataB[i]\n",
        "    # ----------------------\n",
        "    '''\n",
        "    # PART SHOW BARRIER\n",
        "    x_intermediate = (1 - alpha) * dataA + alpha * dataB  # Interpolazione lineare\n",
        "    x_intermediate = (x_intermediate > 0.5).astype(int)  # Soglia binaria\n",
        "    z_intermediate = CD_step(x_intermediate, W, b,)\n",
        "    # ----------------------\n",
        "    '''\n",
        "    E = energy(x_intermediate, z_intermediate, W, a, b)\n",
        "    energies.append(E)\n",
        "    intermediate_images.append(x_intermediate.reshape(28, 28))\n",
        "\n",
        "\n",
        "plt.figure(figsize=(8, 4))\n",
        "plt.plot(range(n_steps), energies, marker='o')\n",
        "plt.xlabel(f\"Random transition between {selectA} and {selectB}\")\n",
        "plt.ylabel(\"Energy\")\n",
        "plt.title(f\"Energetic barrier between {selectA} and {selectB}\")\n",
        "plt.grid()\n",
        "plt.show()\n",
        "\n",
        "# show some intermediate step\n",
        "show_inter_steps = 5\n",
        "fig, axes = plt.subplots(1, show_inter_steps, figsize=(10, 2))\n",
        "for i, ax in enumerate(axes):\n",
        "    ax.imshow(intermediate_images[i * (n_steps // show_inter_steps)], cmap='gray')\n",
        "    ax.axis('off')\n",
        "plt.show()"
      ],
      "metadata": {
        "id": "UYnCBHltJMgn",
        "outputId": "3ba7f7cc-0600-4614-f369-6238e41576a0",
        "colab": {
          "base_uri": "https://localhost:8080/",
          "height": 572
        }
      },
      "execution_count": 23,
      "outputs": [
        {
          "output_type": "display_data",
          "data": {
            "text/plain": [
              "<Figure size 800x400 with 1 Axes>"
            ],
            "image/png": "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\n"
          },
          "metadata": {}
        },
        {
          "output_type": "display_data",
          "data": {
            "text/plain": [
              "<Figure size 1000x200 with 5 Axes>"
            ],
            "image/png": "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\n"
          },
          "metadata": {}
        }
      ]
    },
    {
      "cell_type": "code",
      "source": [],
      "metadata": {
        "id": "yRZfzVZyKWwe"
      },
      "execution_count": null,
      "outputs": []
    }
  ],
  "metadata": {
    "kernelspec": {
      "display_name": "Python 3",
      "name": "python3"
>>>>>>> bad42787b7e673824ff4b1396a174ccab276af95
    },
    "language_info": {
      "codemirror_mode": {
        "name": "ipython",
        "version": 3
      },
      "file_extension": ".py",
      "mimetype": "text/x-python",
      "name": "python",
      "nbconvert_exporter": "python",
      "pygments_lexer": "ipython3",
      "version": "3.12.7"
    },
    "colab": {
      "provenance": [],
      "gpuType": "T4"
    },
    "accelerator": "GPU"
  },
<<<<<<< HEAD
  {
   "cell_type": "markdown",
   "metadata": {},
   "source": [
    "## Plotting data stats"
   ]
  },
  {
   "cell_type": "code",
   "execution_count": 5,
   "metadata": {},
   "outputs": [
    {
     "data": {
      "image/png": "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",
      "text/plain": [
       "<Figure size 600x300 with 1 Axes>"
      ]
     },
     "metadata": {},
     "output_type": "display_data"
    },
    {
     "data": {
      "image/png": "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",
      "text/plain": [
       "<Figure size 2800x140 with 20 Axes>"
      ]
     },
     "metadata": {},
     "output_type": "display_data"
    },
    {
     "data": {
      "image/png": "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",
      "text/plain": [
       "<Figure size 2800x140 with 20 Axes>"
      ]
     },
     "metadata": {},
     "output_type": "display_data"
    },
    {
     "data": {
      "image/png": "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",
      "text/plain": [
       "<Figure size 2800x140 with 20 Axes>"
      ]
     },
     "metadata": {},
     "output_type": "display_data"
    },
    {
     "data": {
      "image/png": "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",
      "text/plain": [
       "<Figure size 2800x140 with 20 Axes>"
      ]
     },
     "metadata": {},
     "output_type": "display_data"
    },
    {
     "data": {
      "image/png": "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",
      "text/plain": [
       "<Figure size 2800x140 with 20 Axes>"
      ]
     },
     "metadata": {},
     "output_type": "display_data"
    },
    {
     "data": {
      "image/png": "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",
      "text/plain": [
       "<Figure size 2800x140 with 20 Axes>"
      ]
     },
     "metadata": {},
     "output_type": "display_data"
    },
    {
     "data": {
      "image/png": "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",
      "text/plain": [
       "<Figure size 2800x140 with 20 Axes>"
      ]
     },
     "metadata": {},
     "output_type": "display_data"
    },
    {
     "data": {
      "image/png": "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",
      "text/plain": [
       "<Figure size 2800x140 with 20 Axes>"
      ]
     },
     "metadata": {},
     "output_type": "display_data"
    }
   ],
   "source": [
    "fig, (ax) = plt.subplots(1,1,figsize=(6,3))\n",
    "ax.hist(np.sort(label),bins=np.arange(Ndigit+1)-1/2,density=False,rwidth=0.55,color=\"g\")\n",
    "ax.xaxis.set_major_locator(mpl.ticker.MultipleLocator(1))\n",
    "ax.set_ylabel(\"data points\")\n",
    "plt.show()\n",
    "for i in range(8): show_MNIST(data[i*20:],Nex=20)"
   ]
  },
  {
   "cell_type": "markdown",
   "metadata": {},
   "source": [
    "## Contrastive divergence (CD)\n"
   ]
  },
  {
   "cell_type": "code",
   "execution_count": 6,
   "metadata": {},
   "outputs": [],
   "source": [
    "# eq(213) page 97, activation via sigmoid\n",
    "# taking into account energy gap 2 for \"spin\" variables (-1,1)\n",
    "def CD_step(v_in,wei,bias,details=False,POTTS=False):\n",
    "    \"\"\"\n",
    "        Generates the state on the other layer: \n",
    "        Field \"H\" ->  activation \"a\" -> probability \"p\" -> Spins/bits v_out\n",
    "\n",
    "        Either (v_in=x, wei=w) or (v_in=z, wei=w.T)\n",
    "\n",
    "        details = True --> returns also probability (p) and activation (a) \n",
    "\n",
    "        POTTS means one-hot encoding (used only in hidden space)\n",
    "    \"\"\"\n",
    "    # local \"field\"\n",
    "    H = np.clip(np.dot(v_in, wei) + bias, a_min=-300, a_max=300)\n",
    "    # \"activation\"\n",
    "    a = exp(level_gap*H)\n",
    "    n = np.shape(H)\n",
    "    v_out = np.full(n, x_min, dtype=int) # initially, just a list on -1's or 0's\n",
    "    if POTTS: # RBM with a single hidden unit = 1 (that is, \"one-hot encoding\" with L states)\n",
    "        # p: state probability, normalized to 1 over all units=states\n",
    "        p = a/np.sum(a)\n",
    "        # F: cumulative probability\n",
    "        F = np.cumsum(p)\n",
    "        # pick a state \"i\" randomly with probability p[i]\n",
    "        r = np.random.rand()\n",
    "        i = 0\n",
    "        while r>F[i]: i+=1\n",
    "        v_out[i] = 1 # activate a single hidden unit\n",
    "    else: # normal Ising RBM\n",
    "        # p: local probability, normalized to 1 for each hidden unit\n",
    "        p = a / (a + 1.)\n",
    "        # at each position i, activate the 1's with local probability p[i]\n",
    "        v_out[np.random.random_sample(n) < p] = 1 \n",
    "\n",
    "    if details: return v_out,p,a\n",
    "    else: return v_out"
   ]
  },
  {
   "cell_type": "markdown",
   "metadata": {},
   "source": [
    "## Plot weights"
   ]
  },
  {
   "cell_type": "code",
   "execution_count": 7,
   "metadata": {},
   "outputs": [],
   "source": [
    "def plot_weights_bias(wE, bE, epoch, L, side=0,cols=0,thr=0,s=1.5, title=False, save=True,cmap=\"bwr\"):\n",
    "    '''\n",
    "    Plot the weights of the RBM, one plot for each hidden unit.\n",
    "    '''\n",
    "    rows = int(np.ceil(L / cols))\n",
    "    if rows==1: rows=2\n",
    "    w=wE[epoch]\n",
    "    b=bE[epoch]\n",
    "    if side==0: side=int(sqrt(len(w)))\n",
    "    if thr==0: thr=4\n",
    "    plt.clf()\n",
    "    fig, AX = plt.subplots(rows, cols+1, figsize=(s*(1+cols),s*rows))\n",
    "    if title: fig.suptitle(f\"epoch = {epoch}\")\n",
    "    k=1\n",
    "    for i in range(rows):\n",
    "        for j in range(cols):\n",
    "            if rows==1: ax=AX[j+1]\n",
    "            else: ax=AX[i,j+1]\n",
    "            if k<=L:\n",
    "                ax.imshow(w[:,k-1].reshape(side, side), cmap=cmap,vmin=-thr,vmax=thr)\n",
    "                ax.set_xticks([])\n",
    "                ax.set_yticks([])\n",
    "                ax.set_title(f\"hidden {k}\")\n",
    "            else: fig.delaxes(ax)\n",
    "            k+=1\n",
    "        if i>0:  fig.delaxes(AX[i,0])\n",
    "    \n",
    "    ax=AX[0,0];\n",
    "    im=ax.imshow(b.reshape(side, side), cmap=cmap,vmin=-thr,vmax=thr)\n",
    "    ax.set_xticks([])\n",
    "    ax.set_yticks([])\n",
    "    ax.set_title(\"bias\")\n",
    "    # colobar\n",
    "    cbar_ax = fig.add_axes([0.14, 0.15, 0.024, 0.33])\n",
    "    cbar = fig.colorbar(im, cax=cbar_ax)\n",
    "    cbar.ax.tick_params(labelsize=12)\n",
    "    \n",
    "    S=0.3\n",
    "    plt.subplots_adjust(hspace=S)\n",
    "\n",
    "    if save: plt.savefig(f\"./FIG/FRAME/RBM_{epoch}_w-a.png\")\n",
    "\n",
    "    plt.show()\n",
    "    plt.close()\n"
   ]
  },
  {
   "cell_type": "markdown",
   "metadata": {},
   "source": [
    "## Weights initialization "
   ]
  },
  {
   "cell_type": "code",
   "execution_count": 8,
   "metadata": {},
   "outputs": [],
   "source": [
    "# initial bias of visible units, based on their average value in the dataset\n",
    "# Hinton, \"A Practical Guide to Training Restricted Boltzmann Machines\"\n",
    "def Hinton_bias_init(x):\n",
    "    xmean=np.array(np.mean(x,axis=0))\n",
    "    # remove values at extrema, to avoid divergences in the log's\n",
    "    S = 1e-4\n",
    "    x1,x2 = x_min+S,1-S\n",
    "    xmean[xmean<x1] = x1\n",
    "    xmean[xmean>x2] = x2\n",
    "    return (1/level_gap)*np.clip(log(xmean-x_min) - log(1-xmean),-300,300)\n",
    "    \n",
    "# range of each initial weight\n",
    "# Glorot and Bengio, \"Understanding the difficulty of training deep feedforward neural networks\"\n",
    "sigma = sqrt(4. / float(L + D))"
   ]
  },
  {
   "cell_type": "markdown",
   "metadata": {},
   "source": [
    "# Load Data"
   ]
  },
  {
   "cell_type": "code",
   "execution_count": 2,
   "metadata": {},
   "outputs": [],
   "source": [
    "def LoadData(WhichFolder, WhichData):\n",
    "\n",
    "   data_FileList = glob.glob(f\"{WhichFolder}/{WhichData}_*\") \n",
    "\n",
    "   # Load all files into a dictionary\n",
    "   data = {fname: np.load(fname) for fname in data_FileList}\n",
    "\n",
    "   #return only the values of the dictionary\n",
    "   return data"
   ]
  },
  {
   "cell_type": "code",
   "execution_count": 10,
   "metadata": {},
   "outputs": [],
   "source": [
    "test = LoadData('SingleTrain', 'b')\n",
    "\n",
    "#test"
   ]
  },
  {
   "cell_type": "markdown",
   "metadata": {},
   "source": [
    "## Gradient descent method"
   ]
  },
  {
   "cell_type": "code",
   "execution_count": 10,
   "metadata": {},
   "outputs": [
    {
     "name": "stdout",
     "output_type": "stream",
     "text": [
      "epsilon= 0.0001\n",
      "D=784\tsample size\n",
      "L=3\tnr. z states\n",
      "Gradient descent type: RMSprop\n",
      "learning rate        = 0.05 --> 0.05\n",
      "gamma=0.001\tregularization\n"
     ]
    }
   ],
   "source": [
    "# Gradient descent options\n",
    "GRAD_list=[\"SGD\",\"RMSprop\"]\n",
    "GRAD=GRAD_list[1]\n",
    "if GRAD==\"SGD\":\n",
    "    l_rate_ini,l_rate_fin=1.0, 0.25\n",
    "if GRAD==\"RMSprop\":\n",
    "    beta,epsilon=0.9,1e-4\n",
    "    l_rate_ini,l_rate_fin=0.05, 0.05\n",
    "    print(\"epsilon=\",epsilon)\n",
    "gamma = 0.001 ######### for regularization\n",
    "\n",
    "print(f\"D={D}\\tsample size\\nL={L}\\tnr. z states\")\n",
    "print(\"Gradient descent type:\",GRAD)\n",
    "print(f\"learning rate        = {l_rate_ini} --> {l_rate_fin}\")\n",
    "if gamma!=0: print(f\"gamma={gamma}\\tregularization\")"
   ]
  },
  {
   "cell_type": "markdown",
   "metadata": {},
   "source": [
    "# Saving file"
   ]
  },
  {
   "cell_type": "code",
   "execution_count": null,
   "metadata": {},
   "outputs": [],
   "source": [
    "def FileName(label, time, hp, FolderName):\n",
    "   #Label might be: a, b or w, logL\n",
    "   #hyperparam: [#-if-digits, #-of-hidden-var, CDnumber, optimizr, l_rate_in, l_rate_fin, epochs, gamma, POTTS, SPINS ]\n",
    "\n",
    "   fname = f'{FolderName}/{label}_RBM_{hp['Ndigit']}_{hp['L']}_{hp['Nt']}_{hp['Opt']}_{hp['l_rate_in']:.2f}-{hp['l_rate_fin']:.2f}_Ep{hp['epochs']}_Mini{hp['mini']}'\n",
    "   if hp['gamma'] > 0: fname = fname + f'_reg{hp['gamma']:.3f}'\n",
    "   if hp['POTTS']: fname = fname + f'_POTTS'\n",
    "   if hp['SPINS']: fname = fname + f'_SPINS'\n",
    "   fname = fname + time + '.npy'\n",
    "\n",
    "   return fname\n",
    "\n",
    "def SaveFile(label, time, hp, data, FolderName):\n",
    "   fname = FileName(label, time, hp, FolderName)\n",
    "\n",
    "   np.save(fname, data)\n"
   ]
  },
  {
   "cell_type": "markdown",
   "metadata": {},
   "source": [
    "# Log-likelihood $\\mathcal{L}$ function\n",
    "\n",
    "Allow to compute the log likelihood with the training data"
   ]
  },
  {
   "cell_type": "code",
   "execution_count": 17,
   "metadata": {},
   "outputs": [],
   "source": [
    "def log_likelihood(a, b, w, data):\n",
    "    \n",
    "    Z_a = []\n",
    "    exp_data_dip = []\n",
    "    L = len(b)\n",
    "    D = len(data[0])\n",
    "    q = 1.4\n",
    "    all_z = list(itertools.product([0, 1], repeat=L))\n",
    "    for z in all_z:\n",
    "        G = np.prod([np.exp(z[i]*b[i]) for i in range(len(b))])\n",
    "        H = a + np.dot(w,z) \n",
    "        #q = np.mean(np.ones(len(H))+np.exp(H))\n",
    "    \n",
    "        Z_tilde = G*np.prod((np.ones(len(H))+np.exp(H))/q)\n",
    "        Z_a.append(Z_tilde)\n",
    "\n",
    "        #Ora voglio ciclare sulle x dei dati (i primi 1000 dati)\n",
    "        s_prod_exp_tot = 0\n",
    "        for ics in data:\n",
    "            s_prod_exp = H.dot(ics)\n",
    "            s_prod_exp_tot += s_prod_exp\n",
    "        exp_data_dip.append(s_prod_exp_tot)\n",
    "\n",
    "    #Z\n",
    "    Z = np.sum(Z_a)\n",
    "    log_Z = np.log(Z)+D*np.log(q)\n",
    "    #log_first_part = np.log(np.sum(np.exp(exp_data_dip)))\n",
    "    log_first_part = scipy.special.logsumexp(exp_data_dip)\n",
    "    \n",
    "    log_L = (log_first_part - log_Z)/D\n",
    "\n",
    "    return log_L"
   ]
  },
  {
   "cell_type": "markdown",
   "metadata": {},
   "source": [
    "# RBM train function\n"
   ]
  },
  {
   "cell_type": "code",
   "execution_count": 13,
   "metadata": {},
   "outputs": [],
   "source": [
    "DefaultHyperp = {'Ndigit': 3, 'L': 3, 'Nt': 2, 'Opt': 'RMSprop', 'l_rate_in': 0.05, 'l_rate_fin': 0.05, 'epochs': 150, 'mini': 20, 'gamma': 0.001, 'POTTS': False, 'SPINS': False}"
   ]
  },
  {
   "cell_type": "code",
   "execution_count": null,
   "metadata": {},
   "outputs": [],
   "source": [
    "#'FolderName' is the folder in which we want to save the file: SingleTrain for this, BM_RandomSearch for the random search\n",
    "def train_RBM(Hyperparams, FolderName, Debug = False, LL_Plot = True, ReturnLL = False): \n",
    "\n",
    "   #Only to check if the directory FolderName exist\n",
    "   if os.path.isdir(FolderName):\n",
    "      print(\"Directory exists\")\n",
    "   \n",
    "      L = Hyperparams['L']\n",
    "      Nepoch = Hyperparams['epochs']\n",
    "      Nt = Hyperparams['Nt']\n",
    "      gamma = Hyperparams['gamma']\n",
    "      l_rate_ini, l_rate_fin = Hyperparams['l_rate_in'], Hyperparams['l_rate_fin']\n",
    "      GRAD = Hyperparams['Opt']\n",
    "      POTTS, SPINS = Hyperparams['POTTS'], Hyperparams['SPINS']\n",
    "\n",
    "      # minibatches per epoch\n",
    "      Nmini = Hyperparams['mini']\n",
    "      # minibatch size at initial epoch and final one\n",
    "      N_ini, N_fin= 10, 400\n",
    "\n",
    "      print(Hyperparams)\n",
    "\n",
    "      # initial weights from a Normal distr. (see literature, e.g. page 98 of Mehta's review)\n",
    "      w = sigma * np.random.randn(D,L)\n",
    "      #a = sigma * np.random.randn(D)\n",
    "      # using Hinton initialization of visible biases\n",
    "      a = Hinton_bias_init(data)\n",
    "      # hidden biases initialized to zero\n",
    "      b = np.zeros(L)\n",
    "\n",
    "      if Debug: print(f\"Nepoch={Nepoch}\\nNmini={Nmini}\")\n",
    "\n",
    "      # recording history of weights (\"E\" means epoch)\n",
    "      wE,aE,bE=np.zeros((Nepoch+1,D,L)),np.zeros((Nepoch+1,D)),np.zeros((Nepoch+1,L))\n",
    "      wE[0],aE[0],bE[0]=np.copy(w),np.copy(a),np.copy(b)\n",
    "      gwE,gwE_d,gwE_m = np.zeros_like(wE),np.zeros_like(wE),np.zeros_like(wE)\n",
    "      gaE,gaE_d,gaE_m = np.zeros_like(aE),np.zeros_like(aE),np.zeros_like(aE)\n",
    "      gbE,gbE_d,gbE_m = np.zeros_like(bE),np.zeros_like(bE),np.zeros_like(bE)\n",
    "      miniE = np.zeros(Nepoch+1)\n",
    "      pzE=np.zeros((Nepoch+1,Nz))\n",
    "      \n",
    "      log_L_list = []\n",
    "\n",
    "\n",
    "      if GRAD==\"RMSprop\": \n",
    "         gw2,ga2,gb2 = np.zeros_like(w),np.zeros_like(a),np.zeros_like(b)\n",
    "\n",
    "      indices=np.arange(Nd).astype(\"int\")\n",
    "\n",
    "      if Debug:\n",
    "         plot_weights_bias(wE, aE, 0, L, cols=6, save=False)\n",
    "\n",
    "      # for the plot with panels\n",
    "      Ncols=min(8,max(2,L//2))\n",
    "\n",
    "      if Debug:\n",
    "         if POTTS: print(\"Starting the training, POTTS=True\")\n",
    "         else: print(\"Starting the training\")\n",
    "\n",
    "      # Note: here an epoch does not analyze the whole dataset\n",
    "      for epoch in tqdm.tqdm(range(1,Nepoch+1)):\n",
    "         # q maps epochs to interval [0,1]\n",
    "         q = (epoch-1.)/(Nepoch-1.) \n",
    "         # N, size of the mini batch\n",
    "         # stays closer to N_ini for some time, then it progressively accelerates toward N_fin\n",
    "         N = int(N_ini + (N_fin-N_ini)*(q**2))\n",
    "         #  l_rate interpolates between initial and final value\n",
    "         l_rate = l_rate_ini + (l_rate_fin-l_rate_ini)*q\n",
    "\n",
    "         selected = np.random.choice(indices, N, replace=False)\n",
    "\n",
    "         for mini in range(Nmini):\n",
    "            # initializitation for averages in minibatch\n",
    "            # visible variables \"v\" --> \"x\"\n",
    "            #  hidden variables \"h\" --> \"z\"\n",
    "            x_data, x_model = np.zeros(D),np.zeros(D)\n",
    "            z_data, z_model = np.zeros(L),np.zeros(L)\n",
    "            xz_data,xz_model= np.zeros((D,L)),np.zeros((D,L))\n",
    "            pz = np.zeros(L)\n",
    "            \n",
    "            # Minibatch of size N: points randomply picked (without repetition) from data\n",
    "            #if Debug:\n",
    "               #if epoch==1 and mini<=3: print(selected)\n",
    "\n",
    "            for k in range(N):\n",
    "               ###################################\n",
    "               x0 = data[selected[k]]\n",
    "               # positive CD phase: generating z from x[k]\n",
    "               z = CD_step(x0,w,b,POTTS=POTTS)\n",
    "               x_data  += x0\n",
    "               z_data  += z\n",
    "               xz_data += np.outer(x0,z)\n",
    "               # fantasy\n",
    "               zf=np.copy(z)\n",
    "               # Contrastive divergence with Nt steps\n",
    "               for t in range(Nt):\n",
    "                  # negative CD pzase: generating fantasy xf from fantasy zf\n",
    "                  xf = CD_step(zf,w.T,a)\n",
    "                  # positive CD phase: generating fantasy zf from fantasy xf \n",
    "                  zf = CD_step(xf,w,b,POTTS=POTTS)\n",
    "               x_model += xf\n",
    "               z_model += zf\n",
    "               xz_model+= np.outer(xf,zf)\n",
    "               # recording probability of encoding in z-space, if POTTS\n",
    "               if POTTS: pz[zf]+=1\n",
    "               ###################################\n",
    "            \n",
    "            # gradient of the likelihood: follow it along its positive direction\n",
    "            gw_d,gw_m = xz_data/N, xz_model/N\n",
    "            ga_d,ga_m = x_data/N, x_model/N\n",
    "            gb_d,gb_m = z_data/N, z_model/N\n",
    "            gw=np.copy(gw_d - gw_m)\n",
    "            ga=np.copy(ga_d - ga_m)\n",
    "            gb=np.copy(gb_d - gb_m)\n",
    "\n",
    "            # gradient ascent step\n",
    "            if GRAD==\"RMSprop\":\n",
    "               # RMSprop gradient ascent\n",
    "               gw2 = beta*gw2+(1-beta)*np.square(gw)\n",
    "               ga2 = beta*ga2+(1-beta)*np.square(ga)\n",
    "               gb2 = beta*gb2+(1-beta)*np.square(gb)\n",
    "               w += l_rate*gw/sqrt(epsilon+gw2)\n",
    "               a += l_rate*ga/sqrt(epsilon+ga2)\n",
    "               b += l_rate*gb/sqrt(epsilon+gb2)\n",
    "            else: \n",
    "                  # defaulting to the vanilla stochastic gradient ascent (SGD)\n",
    "               w += l_rate*gw\n",
    "               a += l_rate*ga\n",
    "               b += l_rate*gb\n",
    "            # regularization (LASSO)\n",
    "            if gamma>0.:\n",
    "               w -= (gamma*l_rate)*sign(w)\n",
    "               a -= (gamma*l_rate)*sign(a)\n",
    "               b -= (gamma*l_rate)*sign(b)\n",
    "\n",
    "         wE[epoch],gwE[epoch],gwE_d[epoch],gwE_m[epoch]=np.copy(w),np.copy(gw),np.copy(gw_d),np.copy(gw_m)\n",
    "         aE[epoch],gaE[epoch],gaE_d[epoch],gaE_m[epoch]=np.copy(a),np.copy(ga),np.copy(ga_d),np.copy(ga_m)\n",
    "         bE[epoch],gbE[epoch],gbE_d[epoch],gbE_m[epoch]=np.copy(b),np.copy(gb),np.copy(gb_d),np.copy(gb_m)\n",
    "         miniE[epoch]=N\n",
    "\n",
    "         #Computing the likelihood\n",
    "         log_L = log_likelihood(a, b, w, data)\n",
    "         log_L_list.append(log_L)\n",
    "\n",
    "         if POTTS: pzE[epoch] = pz/np.sum(pz)\n",
    "         # if Debug: \n",
    "         #    print(\"epoch\",epoch,\"/\",Nepoch,\" Nt:\",Nt,\" N:\",N,\" L:\",L,\n",
    "         #          \" rate:\",l_rate,\" gam:\",gamma,\"SPINS=\",SPINS,\"POTTS=\",POTTS)\n",
    "      \n",
    "         str_time = datetime.datetime.now().strftime(\"_%m%d_%H%M\")\n",
    "\n",
    "      if Debug:\n",
    "         plot_weights_bias(wE, aE, epoch, L, cols=Ncols, save=False)\n",
    "\n",
    "      SaveFile('w', str_time, Hyperparams, wE, FolderName)\n",
    "      SaveFile('b', str_time, Hyperparams, bE, FolderName)\n",
    "      SaveFile('a', str_time, Hyperparams, aE, FolderName)\n",
    "      SaveFile('logL', str_time, Hyperparams, log_L_list, FolderName)\n",
    "\n",
    "\n",
    "      \n",
    "      if Debug: print(\"END of learning phase\")\n",
    "\n",
    "      if LL_Plot:\n",
    "         plt.plot(range(Nepoch), log_L_list)\n",
    "         plt.title(\"log-Likehood trend\")  # Titolo\n",
    "         plt.xlabel(\"# epoch\")  # Etichetta asse X\n",
    "         plt.ylabel(\"log-L\")  # Etichetta asse Y\n",
    "         plt.grid(True)  # Aggiunge una griglia\n",
    "         plt.show()\n",
    "\n",
    "      if ReturnLL: \n",
    "         return np.mean(log_L_list[-50:])\n",
    "\n",
    "   else:\n",
    "      print(\"Directory does not exist\")\n"
   ]
  },
  {
   "cell_type": "code",
   "execution_count": null,
   "metadata": {},
   "outputs": [],
   "source": [
    "train_RBM(DefaultHyperp, FolderName = 'SingleTrain', Debug = True, LLPlots = True)"
   ]
  },
  {
   "cell_type": "markdown",
   "metadata": {},
   "source": [
    "# Verify how $\\mathcal{L}$ changes with L and CD"
   ]
  },
  {
   "cell_type": "code",
   "execution_count": 56,
   "metadata": {},
   "outputs": [
    {
     "name": "stdout",
     "output_type": "stream",
     "text": [
      "Directory exists\n",
      "{'Ndigit': 3, 'L': 1, 'Nt': 2, 'Opt': 'RMSprop', 'l_rate_in': 0.05, 'l_rate_fin': 0.05, 'epochs': 200, 'mini': 20, 'gamma': 0.001, 'POTTS': False, 'SPINS': False}\n"
     ]
    },
    {
     "name": "stderr",
     "output_type": "stream",
     "text": [
      "100%|██████████| 200/200 [00:39<00:00,  5.01it/s]\n"
     ]
    },
    {
     "name": "stdout",
     "output_type": "stream",
     "text": [
      "Directory exists\n",
      "{'Ndigit': 3, 'L': 1, 'Nt': 3, 'Opt': 'RMSprop', 'l_rate_in': 0.05, 'l_rate_fin': 0.05, 'epochs': 200, 'mini': 20, 'gamma': 0.001, 'POTTS': False, 'SPINS': False}\n"
     ]
    },
    {
     "name": "stderr",
     "output_type": "stream",
     "text": [
      "100%|██████████| 200/200 [00:51<00:00,  3.85it/s]\n"
     ]
    },
    {
     "name": "stdout",
     "output_type": "stream",
     "text": [
      "Directory exists\n",
      "{'Ndigit': 3, 'L': 1, 'Nt': 4, 'Opt': 'RMSprop', 'l_rate_in': 0.05, 'l_rate_fin': 0.05, 'epochs': 200, 'mini': 20, 'gamma': 0.001, 'POTTS': False, 'SPINS': False}\n"
     ]
    },
    {
     "name": "stderr",
     "output_type": "stream",
     "text": [
      "100%|██████████| 200/200 [01:02<00:00,  3.18it/s]\n"
     ]
    },
    {
     "name": "stdout",
     "output_type": "stream",
     "text": [
      "Directory exists\n",
      "{'Ndigit': 3, 'L': 1, 'Nt': 5, 'Opt': 'RMSprop', 'l_rate_in': 0.05, 'l_rate_fin': 0.05, 'epochs': 200, 'mini': 20, 'gamma': 0.001, 'POTTS': False, 'SPINS': False}\n"
     ]
    },
    {
     "name": "stderr",
     "output_type": "stream",
     "text": [
      "100%|██████████| 200/200 [01:13<00:00,  2.71it/s]\n"
     ]
    },
    {
     "name": "stdout",
     "output_type": "stream",
     "text": [
      "Directory exists\n",
      "{'Ndigit': 3, 'L': 2, 'Nt': 2, 'Opt': 'RMSprop', 'l_rate_in': 0.05, 'l_rate_fin': 0.05, 'epochs': 200, 'mini': 20, 'gamma': 0.001, 'POTTS': False, 'SPINS': False}\n"
     ]
    },
    {
     "name": "stderr",
     "output_type": "stream",
     "text": [
      "100%|██████████| 200/200 [01:04<00:00,  3.08it/s]\n"
     ]
    },
    {
     "name": "stdout",
     "output_type": "stream",
     "text": [
      "Directory exists\n",
      "{'Ndigit': 3, 'L': 2, 'Nt': 3, 'Opt': 'RMSprop', 'l_rate_in': 0.05, 'l_rate_fin': 0.05, 'epochs': 200, 'mini': 20, 'gamma': 0.001, 'POTTS': False, 'SPINS': False}\n"
     ]
    },
    {
     "name": "stderr",
     "output_type": "stream",
     "text": [
      "100%|██████████| 200/200 [01:19<00:00,  2.51it/s]\n"
     ]
    },
    {
     "name": "stdout",
     "output_type": "stream",
     "text": [
      "Directory exists\n",
      "{'Ndigit': 3, 'L': 2, 'Nt': 4, 'Opt': 'RMSprop', 'l_rate_in': 0.05, 'l_rate_fin': 0.05, 'epochs': 200, 'mini': 20, 'gamma': 0.001, 'POTTS': False, 'SPINS': False}\n"
     ]
    },
    {
     "name": "stderr",
     "output_type": "stream",
     "text": [
      "100%|██████████| 200/200 [01:34<00:00,  2.13it/s]\n"
     ]
    },
    {
     "name": "stdout",
     "output_type": "stream",
     "text": [
      "Directory exists\n",
      "{'Ndigit': 3, 'L': 2, 'Nt': 5, 'Opt': 'RMSprop', 'l_rate_in': 0.05, 'l_rate_fin': 0.05, 'epochs': 200, 'mini': 20, 'gamma': 0.001, 'POTTS': False, 'SPINS': False}\n"
     ]
    },
    {
     "name": "stderr",
     "output_type": "stream",
     "text": [
      "100%|██████████| 200/200 [01:49<00:00,  1.83it/s]\n"
     ]
    },
    {
     "name": "stdout",
     "output_type": "stream",
     "text": [
      "Directory exists\n",
      "{'Ndigit': 3, 'L': 3, 'Nt': 2, 'Opt': 'RMSprop', 'l_rate_in': 0.05, 'l_rate_fin': 0.05, 'epochs': 200, 'mini': 20, 'gamma': 0.001, 'POTTS': False, 'SPINS': False}\n"
     ]
    },
    {
     "name": "stderr",
     "output_type": "stream",
     "text": [
      "100%|██████████| 200/200 [01:28<00:00,  2.25it/s]\n"
     ]
    },
    {
     "name": "stdout",
     "output_type": "stream",
     "text": [
      "Directory exists\n",
      "{'Ndigit': 3, 'L': 3, 'Nt': 3, 'Opt': 'RMSprop', 'l_rate_in': 0.05, 'l_rate_fin': 0.05, 'epochs': 200, 'mini': 20, 'gamma': 0.001, 'POTTS': False, 'SPINS': False}\n"
     ]
    },
    {
     "name": "stderr",
     "output_type": "stream",
     "text": [
      "100%|██████████| 200/200 [01:44<00:00,  1.92it/s]\n"
     ]
    },
    {
     "name": "stdout",
     "output_type": "stream",
     "text": [
      "Directory exists\n",
      "{'Ndigit': 3, 'L': 3, 'Nt': 4, 'Opt': 'RMSprop', 'l_rate_in': 0.05, 'l_rate_fin': 0.05, 'epochs': 200, 'mini': 20, 'gamma': 0.001, 'POTTS': False, 'SPINS': False}\n"
     ]
    },
    {
     "name": "stderr",
     "output_type": "stream",
     "text": [
      "100%|██████████| 200/200 [02:00<00:00,  1.66it/s]\n"
     ]
    },
    {
     "name": "stdout",
     "output_type": "stream",
     "text": [
      "Directory exists\n",
      "{'Ndigit': 3, 'L': 3, 'Nt': 5, 'Opt': 'RMSprop', 'l_rate_in': 0.05, 'l_rate_fin': 0.05, 'epochs': 200, 'mini': 20, 'gamma': 0.001, 'POTTS': False, 'SPINS': False}\n"
     ]
    },
    {
     "name": "stderr",
     "output_type": "stream",
     "text": [
      "100%|██████████| 200/200 [02:17<00:00,  1.45it/s]\n"
     ]
    },
    {
     "name": "stdout",
     "output_type": "stream",
     "text": [
      "Directory exists\n",
      "{'Ndigit': 3, 'L': 4, 'Nt': 2, 'Opt': 'RMSprop', 'l_rate_in': 0.05, 'l_rate_fin': 0.05, 'epochs': 200, 'mini': 20, 'gamma': 0.001, 'POTTS': False, 'SPINS': False}\n"
     ]
    },
    {
     "name": "stderr",
     "output_type": "stream",
     "text": [
      "100%|██████████| 200/200 [01:58<00:00,  1.68it/s]\n"
     ]
    },
    {
     "name": "stdout",
     "output_type": "stream",
     "text": [
      "Directory exists\n",
      "{'Ndigit': 3, 'L': 4, 'Nt': 3, 'Opt': 'RMSprop', 'l_rate_in': 0.05, 'l_rate_fin': 0.05, 'epochs': 200, 'mini': 20, 'gamma': 0.001, 'POTTS': False, 'SPINS': False}\n"
     ]
    },
    {
     "name": "stderr",
     "output_type": "stream",
     "text": [
      "100%|██████████| 200/200 [02:12<00:00,  1.51it/s]\n"
     ]
    },
    {
     "name": "stdout",
     "output_type": "stream",
     "text": [
      "Directory exists\n",
      "{'Ndigit': 3, 'L': 4, 'Nt': 4, 'Opt': 'RMSprop', 'l_rate_in': 0.05, 'l_rate_fin': 0.05, 'epochs': 200, 'mini': 20, 'gamma': 0.001, 'POTTS': False, 'SPINS': False}\n"
     ]
    },
    {
     "name": "stderr",
     "output_type": "stream",
     "text": [
      "100%|██████████| 200/200 [02:25<00:00,  1.37it/s]\n"
     ]
    },
    {
     "name": "stdout",
     "output_type": "stream",
     "text": [
      "Directory exists\n",
      "{'Ndigit': 3, 'L': 4, 'Nt': 5, 'Opt': 'RMSprop', 'l_rate_in': 0.05, 'l_rate_fin': 0.05, 'epochs': 200, 'mini': 20, 'gamma': 0.001, 'POTTS': False, 'SPINS': False}\n"
     ]
    },
    {
     "name": "stderr",
     "output_type": "stream",
     "text": [
      "100%|██████████| 200/200 [02:39<00:00,  1.25it/s]\n"
     ]
    },
    {
     "name": "stdout",
     "output_type": "stream",
     "text": [
      "Directory exists\n",
      "{'Ndigit': 3, 'L': 5, 'Nt': 2, 'Opt': 'RMSprop', 'l_rate_in': 0.05, 'l_rate_fin': 0.05, 'epochs': 200, 'mini': 20, 'gamma': 0.001, 'POTTS': False, 'SPINS': False}\n"
     ]
    },
    {
     "name": "stderr",
     "output_type": "stream",
     "text": [
      "100%|██████████| 200/200 [03:10<00:00,  1.05it/s]\n"
     ]
    },
    {
     "name": "stdout",
     "output_type": "stream",
     "text": [
      "Directory exists\n",
      "{'Ndigit': 3, 'L': 5, 'Nt': 3, 'Opt': 'RMSprop', 'l_rate_in': 0.05, 'l_rate_fin': 0.05, 'epochs': 200, 'mini': 20, 'gamma': 0.001, 'POTTS': False, 'SPINS': False}\n"
     ]
    },
    {
     "name": "stderr",
     "output_type": "stream",
     "text": [
      "100%|██████████| 200/200 [03:23<00:00,  1.02s/it]\n"
     ]
    },
    {
     "name": "stdout",
     "output_type": "stream",
     "text": [
      "Directory exists\n",
      "{'Ndigit': 3, 'L': 5, 'Nt': 4, 'Opt': 'RMSprop', 'l_rate_in': 0.05, 'l_rate_fin': 0.05, 'epochs': 200, 'mini': 20, 'gamma': 0.001, 'POTTS': False, 'SPINS': False}\n"
     ]
    },
    {
     "name": "stderr",
     "output_type": "stream",
     "text": [
      "100%|██████████| 200/200 [03:38<00:00,  1.09s/it]\n"
     ]
    },
    {
     "name": "stdout",
     "output_type": "stream",
     "text": [
      "Directory exists\n",
      "{'Ndigit': 3, 'L': 5, 'Nt': 5, 'Opt': 'RMSprop', 'l_rate_in': 0.05, 'l_rate_fin': 0.05, 'epochs': 200, 'mini': 20, 'gamma': 0.001, 'POTTS': False, 'SPINS': False}\n"
     ]
    },
    {
     "name": "stderr",
     "output_type": "stream",
     "text": [
      "100%|██████████| 200/200 [03:52<00:00,  1.16s/it]\n"
     ]
    }
   ],
   "source": [
    "TestHyperp = {'Ndigit': 3, 'L': 3, 'Nt': 2, \n",
    "                 'Opt': 'RMSprop', 'l_rate_in': 0.05, 'l_rate_fin': 0.05, 'epochs': 200, 'mini': 20, 'gamma': 0.001, 'POTTS': False, 'SPINS': False}\n",
    "\n",
    "L_range = [1, 2, 3, 4, 5]\n",
    "Nt_range = [2, 3, 4, 5]\n",
    "\n",
    "TestLogLik = np.zeros((len(L_range), len(Nt_range)))\n",
    "\n",
    "for i, l in enumerate(L_range):\n",
    "   for j, nt in enumerate(Nt_range):\n",
    "      TestHyperp.update({'L': l, 'Nt': nt})\n",
    "      LLMean = train_RBM(TestHyperp, 'TestTrain', Debug = False, LL_Plot = False, ReturnLL = True)\n",
    "      TestLogLik[i][j] = LLMean\n"
   ]
  },
  {
   "cell_type": "code",
   "execution_count": 61,
   "metadata": {},
   "outputs": [
    {
     "data": {
      "image/png": "iVBORw0KGgoAAAANSUhEUgAAAdIAAAG1CAYAAABNkXXUAAAAOnRFWHRTb2Z0d2FyZQBNYXRwbG90bGliIHZlcnNpb24zLjEwLjAsIGh0dHBzOi8vbWF0cGxvdGxpYi5vcmcvlHJYcgAAAAlwSFlzAAAPYQAAD2EBqD+naQAAU89JREFUeJzt3XtYVNX6B/DvVnC4CCp3VC6WBakIaQl0A+KIiFKSWubxFJpW3q08RIoKakrHrMwwE0nMWx7sqEmhJgq/0zEvFZVImiUYYYIgCIKgMOv3h4c5joM4mxncMH4/z7Ofx1l77bXfPRQva+2115aEEAJERETUIh2UDoCIiKg9YyIlIiIyABMpERGRAZhIiYiIDMBESkREZAAmUiIiIgMwkRIRERmAiZSIiMgATKREREQGYCIlIqLbqqqqCjExMQgLC4OjoyMkSUJ8fLxOvYaGBrzzzjsIDw9Hz549YWVlhfvuuw+xsbGoqKjQqS9JUpNbYmKiTt2SkhJER0fDwcEBVlZWCAwMRGZmZouux6xFR7VBarUaZ8+ehY2NDSRJUjocIiINIQSqqqrQvXt3dOjQOv2X2tpaXLlyxShtderUCRYWFkZpqyllZWVYs2YNfH19MWLECKxdu7bJepcvX0Z8fDyeffZZTJw4EQ4ODvj++++xePFi7Nq1C99++y0sLS21jhk1ahRee+01rTJ3d3etz3V1dQgNDUVFRQVWrFgBJycnJCUlITw8HPv27UNQUJC8CxImorCwUADgxo0btza7FRYWtsrvv8uXLwsXp45Gi9PFxUVcvny5VWIVQgi1Wi3UarUQQojz588LAGLBggU69err60VpaalOeVpamgAgNmzYoFUOQEydOvWW509KShIAxMGDBzVlV69eFX369BGDBg2SeTVCmEyP1MbGBgDwCCJgBnOFo2nbflvtp3QI7YKzU4XSIbQL79/7T6VDaPOqL6kxOKBY83vK2K5cuYJzJQ04850nbG0M6/FWVqnhMbAAV65cabVeqb6jhh07doS9vb1O+aBBgwAAhYWFLTr/9u3b4eXlhcDAQE2ZmZkZxo0bhzlz5qCoqAg9evTQuz2TSaSNPxgzmMNMYiJtTgfL1huyMSVm1iqlQ2gXOhv4i/tO0tq3nTrbSOhsY9g51Lh2fGVlpVa5SqWCStU2/p/Yv38/AKBv3746+zZv3oyUlBSo1Wr069cP06ZNw/jx47Xq5Obm4tFHH9U5tn///gCA48ePy0qk/D+AiMhENAi1UTYAcHNzQ5cuXTTb0qVLFb66a4qKihAbG4sHHngAw4cP19o3duxYfPDBB9i7dy82b94MZ2dnTJgwAfPmzdOqV1ZWBjs7O522G8vKyspkxWQyPVIiojudGgJqCIPbAK4Nm9ra2mrKb9YbzcrKQkhIiF5t5+TkwM/Pr8WxXbhwARERERBCYOvWrToTtzZt2qT1eeTIkYiMjERiYiJmzJgBR0dHzb7mRgfkjhwwkRIRkQ5bW1utRHozXl5eSE5O1qvNG2fPylFeXo7BgwejqKgI+/fvx1133aXXcePGjUN6ejq+/fZbDB06FABgb2/fZK/zwoULANBkb7U5TKRERCZCDTXURmhDDldXV0ycONHAszavvLwcf/nLX5Cfn4/MzEzNvUx9XJvMC63eq4+PD44dO6ZTt7GsX79+suLjPVIiIhPRIIRRtrakMYmePn0ae/fuxf333y/r+A0bNsDc3BwDBw7UlEVFReHEiRM4fPiwpqy+vh4bN26Ev78/unfvLusc7JESEdFtl5GRgerqalRVVQEA8vLysG3bNgBAREQErKyscPnyZQwZMgQ5OTl47733UF9fj0OHDmnacHR0xN133w0AWLZsGfLy8hAaGoqePXuipKQEKSkp2Lt3L+Lj4+Hg4KA5bsKECUhKSsLo0aORmJgIJycnrFq1CidPnsS+fftkXwsTKRGRiTDmZKPWNnnyZJw5c0bzOS0tDWlpaQCA/Px8eHp6ori4GEePHgUAzJw5U6eN559/HqmpqQAAb29vfP755/jiiy9QXl4OS0tL+Pn5YcuWLRgzZozWcSqVCpmZmYiJicH06dNRU1MDPz8/ZGRkyF/VCEykREQmQw2BhnaSSAsKCm5Zx9PTU3OP81YiIyMRGRmp9/mdnZ2xfv16ves3h/dIiYiIDMAeKRGRiWhPQ7umhImUiMhEGGPWbVubtdsecGiXiIjIAOyREhGZCPV/N0PbIHmYSImITESDEWbtGnr8nYiJlIjIRDSIa5uhbZA8vEdKRERkAPZIiYhMBO+RKoOJlIjIRKghoQHy3qXZVBskD4d2iYiIDMAeKRGRiVCLa5uhbZA8TKRERCaiwQhDu4Yefyfi0C4REZEB2CMlIjIR7JEqg4mUiMhEqIUEtTBw1q6Bx9+JOLRLRERkAPZIiYhMBId2lcFESkRkIhrQAQ0GDjQ2GCmWOwkTKRGRiRBGuEcqeI9UNt4jJSIiMoDiiTQrKwuSJDW5HTp0SOnwiIjajcZ7pIZuJE+bGdpdsmQJQkJCtMr69eunUDRERO1Pg+iABmHgPVIuEShbm0mk99xzDwICApQOg4iISJY2k0iJiMgwakhQG3jHTg12SeVS/B5po6lTp8LMzAy2trYYMmQIvv7662br19XVobKyUmsjIrqT8R6pMhRPpF26dMHMmTPx0Ucf4cCBA1ixYgUKCwsRHByMPXv23PS4pUuXokuXLprNzc3tNkZNRER0jSSEaHP9+IqKCvj4+MDOzg4//vhjk3Xq6upQV1en+VxZWQk3NzcE40mYSea3K9R26VTqQKVDaBdcXcqVDqFdWOO9SekQ2rxLVWo81O9PXLx4Eba2tkZvv7KyEl26dMH2H++BtU1Hg9qqrmpAlO+pVovVFCneI21K165dMXz4cPz000+4fPlyk3VUKhVsbW21NiKiO9m1e6SGbyRPm0ykANDYUZYk/lCJiKjtapOzdsvLy5Geng4/Pz9YWFgoHQ4RUbugNsJau5y1K5/iiXTs2LFwd3fHAw88AAcHB5w6dQrLly9HcXExUlNTlQ6PiKjdMM6CDEykcimeSPv374+tW7di9erVuHTpEuzs7PDII49gw4YNePDBB5UOj4io3VCjA58jVYDiiTQ2NhaxsbFKh0FERNQiiidSIiIyjgYhocHA16AZevydiImUiMhEGOfF3hzalavNPv5CRETUHjCREhGZCLXoYJSttVVVVSEmJgZhYWFwdHSEJEmIj49vsu7777+PgIAAODg4QKVSwd3dHWPGjMHx48ebrL9y5Up4e3tDpVKhV69eSEhIwNWrV3XqlZSUIDo6Gg4ODrCyskJgYCAyMzNbdD1MpEREJqJxaNfQrbWVlZVhzZo1qKurw4gRI25Zd+jQoVi7di327t2LhIQE5OTkwN/fHydPntSq++abb2LmzJl46qmnsGfPHkyZMgVLlizB1KlTterV1dUhNDQUmZmZWLFiBXbu3AlnZ2eEh4cjOztb9vXwHikREd1WHh4eKC8vhyRJKC0txdq1a29aNyEhQetzUFAQAgIC0KdPH2zatAkLFy4EcC3hLl68GJMmTcKSJUsAAMHBwbh69Sri4uIwa9Ys9OnTBwCQkpKC3NxcHDx4EIGBgQCAkJAQ+Pr6IiYmBocPH5Z1PeyREhGZCDX+N3O3pZv6NsQpSZJBy786OjoCAMzM/tcX3L17N2prazF+/HituuPHj4cQAjt27NCUbd++HV5eXpok2tjWuHHjcOTIERQVFcmKhz1SIiITYZwFGa4df+M7nlUqFVQqlUFtG6KhoQH19fXIz89HbGwsnJyctJJmbm4uAMDHx0frOFdXVzg4OGj2N9Z99NFHdc7Rv39/AMDx48fRo0cPvWNjj5SIiHS4ublpvfN56dKlisZjbW0NCwsL3Hffffj555+RlZWl9R7qsrIyqFQqWFtb6xxrZ2eHsrIyrbp2dnZN1mvcLwd7pEREJsI4a+1eO76wsFDr9ZQ3641mZWUhJCREr7ZzcnLg5+fXorgOHjyIK1eu4LfffsO7776LkJAQZGZmom/fvpo6zQ0X37hPTt1bYSIlIjIRxnifaOPx+r7n2cvLC8nJyXq17e7u3uK4BgwYAAAICAjAE088gd69e2POnDnYuXMnAMDe3h61tbWoqamBlZWV1rEXLlzAwIEDNZ/t7e2b7HVeuHABAJrsrTaHiZSIyEQYs0eqL1dXV0ycONGgc8plY2MDb29v/PLLL5qyxnujx44dg7+/v6b83LlzKC0tRb9+/bTqHjt2TKfdxrLr6+qD90iJiKhdKS0txbFjx9C7d29NWXh4OCwsLHRev5mamgpJkrSeV42KisKJEye0HnOpr6/Hxo0b4e/vj+7du8uKhz1SIiITYZy1dm9P/yojIwPV1dWoqqoCAOTl5WHbtm0AgIiICFhZWeHixYsYPHgwxo4di3vuuQeWlpb45ZdfsGLFCtTV1WHBggWa9uzs7BAXF4d58+bBzs4OYWFhOHr0KOLj4zFx4kTNM6QAMGHCBCQlJWH06NFITEyEk5MTVq1ahZMnT2Lfvn2yr4WJlIjIRKiFBLWBb28x9Hh9TZ48GWfOnNF8TktLQ1paGgAgPz8fnp6esLCwgK+vL9asWYPCwkLU1tbCxcUFwcHB+Oyzz7SSIwDMnTsXNjY2SEpKwttvvw0XFxfExsZi7ty5WvVUKhUyMzMRExOD6dOno6amBn5+fsjIyEBQUJDsa2EiJSKi266goOCWdVQqld4TmRrNmDEDM2bMuGU9Z2dnrF+/XlbbN8NESkRkItRGGNo1dEGHOxETKRGRiTDG21tux9tfTA2/MSIiIgOwR0pEZCIaIKHBwAUZDD3+TsRESkRkIji0qwx+Y0RERAZgj5SIyEQ0wPCh2QbjhHJHYSIlIjIRHNpVBhMpEZGJUGLReuI9UiIiIoOwR0pEZCKEEd5HKvj4i2xMpEREJoJDu8rgN0ZERGQAk+uRXnh+EDp2slA6jDbtvYeN88YDU/drnYvSIbQLCX8MVzqENu9q9RUA61r9PO3pNWqmxOQSKRHRnao9vdjblPAbIyIiMgB7pEREJoJDu8pgIiUiMhFqdDD4xdx8sbd8/MaIiIgMwB4pEZGJaBASGgwcmjX0+DsREykRkYngPVJlMJESEZkIYYS3vwiubCQbvzEiIiIDsEdKRGQiGiAZ4cXeHNqVi4mUiMhEqIXh9zjVwkjB3EE4tEtERGQA9kiJiEyE2giTjQw9/k7EREpEZCLURnixt6HH34n4pwcREZEB2CMlIjIRXNlIGUykREQmgvdIlcFvjIiIyADskRIRmQg1jLDWLicbycZESkRkIoQRZu0KJlLZmEiJiEwE3/6iDN4jJSIiMgB7pEREJoKzdpXBb4yIyEQ0Du0aurW2qqoqxMTEICwsDI6OjpAkCfHx8U3Wff/99xEQEAAHBweoVCq4u7tjzJgxOH78uE5dSZKa3BITE3XqlpSUIDo6Gg4ODrCyskJgYCAyMzNbdD3skRIR0W1VVlaGNWvWwNfXFyNGjMDatWubrTt06FD4+vqiW7duOH36NBITE+Hv74/vvvsOXl5eWvVHjRqF1157TavM3d1d63NdXR1CQ0NRUVGBFStWwMnJCUlJSQgPD8e+ffsQFBQk63qYSImITER7WWvXw8MD5eXlkCQJpaWlzSbShIQErc9BQUEICAhAnz59sGnTJixcuFBrv7OzMwICApo9f0pKCnJzc3Hw4EEEBgYCAEJCQuDr64uYmBgcPnxY1vVwaJeIyES0l6HdxiHXlnJ0dAQAmJm1rC+4fft2eHl5aZJoY1vjxo3DkSNHUFRUJKs9JlIiItJRWVmptdXV1SkaT0NDA+rq6nDixAlMnDgRTk5OGD9+vE69zZs3w9LSEiqVCgMHDsS6det06uTm5qJ///465Y1lTd1/bQ6HdomITIQxnyN1c3PTKl+wYMFNJwTdDtbW1ppkfu+99yIrK0snxrFjx2LYsGFwc3NDSUkJUlJSMGHCBJw+fRqLFi3S1CsrK4OdnZ3OORrLysrKZMXGREpEZCKMmUgLCwtha2urKVepVE3Wz8rKQkhIiF5t5+TkwM/Pr0VxHTx4EFeuXMFvv/2Gd999FyEhIcjMzETfvn01dTZt2qR1zMiRIxEZGYnExETMmDFDMyQMoNmhZbnDzkykRESkw9bWViuR3oyXlxeSk5P1avPG2bNyDBgwAAAQEBCAJ554Ar1798acOXOwc+fOZo8bN24c0tPT8e2332Lo0KEAAHt7+yZ7nRcuXACAJnurzWlziXTt2rWYNGkSrK2tcenSJaXDISJqN5RYItDV1RUTJ0406Jxy2djYwNvbG7/88sst6wohAAAdOvxvSpCPjw+OHTumU7exrF+/frLiaVOTjYqKijB79mx0795d6VCIiNodgf89AtPSTSh9EXooLS3FsWPH0Lt371vW3bBhA8zNzTFw4EBNWVRUFE6cOKH1mEt9fT02btwIf39/2TmoTfVIX375ZTz22GOws7PDtm3blA6HiKhdaU+L1mdkZKC6uhpVVVUAgLy8PM3v/YiICFhZWeHixYsYPHgwxo4di3vuuQeWlpb45ZdfsGLFCtTV1WHBggWa9pYtW4a8vDyEhoaiZ8+emslGe/fuRXx8PBwcHDR1J0yYgKSkJIwePRqJiYlwcnLCqlWrcPLkSezbt0/2tbSZRLpx40ZkZ2cjLy8PcXFxSodDREStaPLkyThz5ozmc1paGtLS0gAA+fn58PT0hIWFBXx9fbFmzRoUFhaitrYWLi4uCA4OxmeffYY+ffpojvf29sbnn3+OL774AuXl5bC0tISfnx+2bNmCMWPGaJ1bpVIhMzMTMTExmD59OmpqauDn54eMjAzZqxoBbSSRlpSUYNasWUhMTETPnj31Oqaurk7ruabKysrWCo+IqF1oTz3SgoKCW9ZRqVR6T2SKjIxEZGSk3ud3dnbG+vXr9a7fnDZxj3TKlCnw8vLC5MmT9T5m6dKl6NKli2a78XkiIqI7TXtZ2cjUKJ5IP/vsM+zatQvJycmynt154403cPHiRc1WWFjYilESERE1TdGh3UuXLmHq1KmYPn06unfvjoqKCgDAlStXAAAVFRUwNzeHtbW1zrEqleqmDwgTEd2J2tPQrilRtEdaWlqK4uJiLF++HN26ddNsW7ZsQXV1Nbp164a//vWvSoZIRNRuCCEZZSN5FO2Ruri44MCBAzrliYmJyM7ORkZGhtaUZSIiorZG0URqYWGB4OBgnfLU1FR07NixyX1ERNS09vI+UlPTJh5/ISIiw/EeqTJk3yP96aef8H//93+az5cuXcKUKVMQEBCA+fPna9Y1NERqairX2SUionZBdiJ99dVXkZ6ervk8d+5cJCcn48qVK1i6dCk++OADowZIRET64WQjZchOpLm5uXjooYcAXFtVf9OmTUhISMD333+P119/HR9//LHRgyQiolvjggzKkJ1IKyoqNDNpf/zxR5SXl+Ppp58GAISGhuL06dPGjZCIiPTCHqkyZCdSe3t7zSpCBw4cgLOzs+ZVNleuXDHKPVIiIqL2Qvas3UcffRTx8fEoLS3Fu+++i2HDhmn2nTp1imveEhEpRBhhaJY9Uvlk90iXLl0KSZIwc+ZMqFQqzJ8/X7MvLS0NAQEBRg2QiIj0IwAIYeCm9EW0Q7J7pL169cKJEydw4cIF2NnZae374IMP4OLiYrTgiIiI2jpZPdLLly+jR48e2LVrl04SBQAfHx84OjoaLTgiItJf48pGhm4kj6weqaWlJS5fvtzk21iIiEhZxph1y3uk8sm+RxoaGop9+/a1RixERETtjux7pHPmzMHIkSNhYWGBp556Cq6urjov5G5q2JeIiFqXWkiQuNbubSc7kQ4cOBAAEB8fj4SEhCbrNDQ0GBYVERHJ1jjz1tA2SB7ZiXT+/Pk6PVAiIqI7lexEGh8f3wphEBGRoTjZSBkGvY/08uXLuHDhApydnWFmxlebEhEpiYlUGbJn7QLX1tgNDAyEjY0NPDw88NNPPwEApk6din/9619GDZCIiPTDt78oQ3Yi3b9/P8LCwlBbW4vZs2dDrVZr9jk4OCA1NdWY8REREbVpshPp/PnzERERgZycHCxevFhrn6+vL3744QdjxUZERDIYvM6uEWb93olk39jMyclBWloaAOjM3nV0dERJSYlxIiMiIlmuJUJD75EaKZg7iOweqZmZGa5evdrkvpKSEtjY2BgcFBERUXshO5E++OCD2LBhQ5P7tm3bhsDAQIODIiIi+Rpn7Rq6kTyyh3ZjY2MxZMgQREVF4bnnnoMkSTh8+DA+/vhjbNu2DQcOHGiNOImI6BYEDH+fKEd25ZOdSP/yl79g/fr1mDVrFnbu3Ang2mMvXbt2RWpqKh555BGjB0lERNRWtWgVhXHjxmHkyJE4ePAgiouL4eDggIcffpivVyMiUhAXZFCG7ER67tw5uLi4wNLSEqGhoa0RExERtQTHdhUhe7KRu7s7nn32WfznP/9pjXiIiKiljDHRiD1S2WQn0ri4OPz73//GY489Bj8/P6SkpODy5cutERsREVGb16KVjc6cOYMtW7bA1tYWkyZNQs+ePTF79mz89ttvrREjERHpgSsbKaNFi9Z37NgRTz/9NP7v//4PP/zwA0aOHInVq1fDy8sLw4cPx549e4wdJxER3QKfI1WGwe8+8/HxwdChQ/HTTz/hyJEjyMzMREZGBu6//35s3rwZ9957rzHi1NvK2avQ2aZFfx/cMfxUKqVDaBd2S0VKh9AuXLSxVDqENq9Oano1uDtVVVUVFi1ahB9++AE5OTkoLS3FggULbvm+ayEEgoKC8O9//xtTp07FBx98oFNn5cqVSEpKQn5+Prp3747o6GjMmTMH5ubmWvVKSkoQExOD9PR01NTUwNfXF4sXL27RJNoWZ5zS0lIsXboUvXr1wqhRo2BmZoatW7eisrISO3bsQFVVFaKjo1vaPBERydU4WcjQrZWVlZVhzZo1qKurw4gRI/Q+LikpCb/++utN97/55puYOXMmnnrqKezZswdTpkzBkiVLMHXqVK16dXV1CA0NRWZmJlasWIGdO3fC2dkZ4eHhyM7Oln09snukhw8fRlJSEtLS0iCEwDPPPIOZM2diwIABmjqRkZEwMzOT9QUREZFhjHGP83bcI/Xw8EB5eTkkSUJpaSnWrl17y2MKCgrwxhtv4JNPPsFTTz2ls7+srAyLFy/GpEmTsGTJEgBAcHAwrl69iri4OMyaNQt9+vQBAKSkpCA3NxcHDx7ULGsbEhICX19fxMTE4PDhw7KuR3aPNDAwEPv27UNsbCx+//13rF+/XiuJNvL09MRDDz0kt3kiIjJxkiTpvD3sVl588UUMHjwYUVFRTe7fvXs3amtrMX78eK3y8ePHQwiBHTt2aMq2b98OLy8vrbXhzczMMG7cOBw5cgRFRfJu68jukX7yySd45plndMabb3Tfffdx3V0iotvJiAsyVFZWahWrVCqoFJpfsXbtWhw5cgR5eXk3rZObmwvg2ryd67m6usLBwUGzv7Huo48+qtNG//79AQDHjx9Hjx499I5Pdo903Lhxt0yiRER0+xlz1q6bmxu6dOmi2ZYuXarINRUVFWH27Nn4xz/+ge7du9+0XllZGVQqVZNL1drZ2aGsrEyrrp2dXZP1GvfL0eJZu7m5ufj555+bXIzhueeea2mzRETUBhQWFsLW1lbz+Wa90aysLISEhOjVZk5ODvz8/GTF8fLLL8PX1xeTJk26Zd3mhotv3Cen7q3ITqQ1NTV44oknsH//fkiSBPHfO9PXn5iJlIhIIUaaLGRra6uVSG/Gy8sLycnJerXp7u4uK4Zt27Zh9+7d+Prrr3Hx4kWtfVeuXEFFRQWsra1hbm4Oe3t71NbWoqamBlZWVlp1L1y4gIEDB2o+29vbN9nrvHDhAgA02VttjuxEumjRIhQUFCA7OxtBQUH417/+BRsbG6xevRrHjh3D1q1b5TZJRERGoMTbX1xdXTFx4kSDznkzubm5qK+vR0BAgM6+5ORkJCcnY/v27RgxYoTm3uixY8fg7++vqXfu3DmUlpaiX79+mjIfHx8cO3ZMp83Gsuvr6kP2PdKdO3fi9ddf18zIdXd3R2hoKNLS0jBgwAB8+OGHcpskIiJjEEba2ojo6GgcOHBAZwOAESNG4MCBA5p3YIeHh8PCwgKpqalabaSmpkKSJK3HMaOionDixAmtx1zq6+uxceNG+Pv7N3svtimye6QFBQXw9vZGx44dIUkSampqNPv++te/4oUXXsDq1avlNktERHeQjIwMVFdXo6qqCgCQl5eHbdu2AQAiIiJgZWUFT09PeHp6Nnl8jx49EBwcrPlsZ2eHuLg4zJs3D3Z2dggLC8PRo0cRHx+PiRMnap4hBYAJEyYgKSkJo0ePRmJiIpycnLBq1SqcPHkS+/btk30tshNp165dUV1dDQBwcnLCqVOnNH8RXL16VbOPiIhuN+m/m6FttL7JkyfjzJkzms9paWlIS0sDAOTn5980gTZn7ty5sLGxQVJSEt5++224uLggNjYWc+fO1aqnUqmQmZmJmJgYTJ8+HTU1NfDz80NGRgaCgoJkn1d2IvXx8cEvv/yC8PBwhISEYMmSJbjnnnvQqVMnLFy4EL6+vrKDICIiI2hHL/YuKCho8bGimeWXZsyYgRkzZtyyDWdnZ6xfv77FMVxPdiJ94YUXcOrUKQDX1jV85JFHNBm8a9eu+PLLL40SGBERUXsgO5E+/fTTmn/36tULv/zyi+ZRmIceekj2tGEiIjKSdtQjNSUGv2/M2toakZGRGD58OIqLi7Fw4UJjxEVERHK1k7e/mBqjvrgzLy8PCQkJxmySiIioTTP4xd5ERNQ2tJfXqJkaJlIiIlPBe6SKMOrQLhER0Z2GPVIiIlNhjMlCnGwkm16JVJ+HWwHgt99+MygYIiJqOUlc2wxtg+TRK5F+8MEHejco9z1uRERkJLxHqgi9EqlarW7tOIiIiNol3iMlIjIVvEeqCCZSIiJTwaFdRfDxFyIiIgOwR0pEZCrYI1UEEykRkalgIlUEh3aJiIgMwB4pEZGp4KxdRbQokX799dfYvHkzzpw5g8uXL2vtkyQJmZmZRgmOiIj0x5WNlCF7aHfdunV47LHH8M9//hPl5eUQQmhtchdv+OGHHzBs2DC4u7vD0tISdnZ2CAwMxMaNG+WGRkREdNvJ7pH+4x//wNNPP43169dDpVIZHEBFRQXc3Nzw7LPPokePHqiursamTZvwt7/9DQUFBYiLizP4HEREdwRONlKE7ER65swZrFy50ihJFACCg4MRHBysVTZ8+HDk5+djzZo1TKRERNSmyR7ave+++1BcXNwasWhxcHCAmRnnQhER6UvC/+6TtnhT+iLaIdmZasmSJZg9ezaCg4PRo0cPowWiVquhVqtRXl6OtLQ07Nmzp9m3ztTV1aGurk7zubKy0mixEBER6Ut2Ik1KSsLFixdx7733ws/PD/b29lr7JUnCzp07ZQcyZcoUfPTRRwCATp064f3338dLL7100/pLly5FQkKC7PMQEZksPv6iCNmJ9KeffkLHjh3h5OSEs2fP4uzZs1r7W/o+0jlz5mDixIkoKSnBrl27MG3aNFRXV2P27NlN1n/jjTfw6quvaj5XVlbCzc2tRecmIjIJnGykCNmJtKCgoBXCANzd3eHu7g4AiIiIAHAtWT7//PNwdHTUqa9SqYw24YmIiKil2uwSgYMGDUJ9fT1Onz6tdChERO2DMNJGsrQokdbV1eGjjz7Cs88+i8GDB+PUqVMAgJ07dxot8R04cAAdOnTAXXfdZZT2iIhMncEzdo2wMtKdSPbQbmlpKUJCQnD8+HG4uLiguLgYVVVVAIAdO3Zgz549WLVqld7tvfjii7C1tcWgQYPg7OyM0tJSpKWlYevWrfj73//e5LAuERFRWyE7kcbExKCiogLffvst+vfvj06dOmn2hYSE4K233pLVXmBgINatW4f169ejoqICnTt3hq+vLzZs2IBx48bJDY+I6M7FyUaKkJ1I09PT8dZbb2HAgAFoaGjQ2tezZ0/88ccfstobP348xo8fLzcMIiK6EROpImTfI62srISHh0eT+65evYr6+nqDgyIiImovZCfSXr164Ztvvmly35EjR+Dl5WVwUEREJB8nGylDdiL961//irfeegs7d+6EENe+cUmScPToUaxYsQJ/+9vfjB4kERHpoXFlI0M3kkX2PdLXX38d//nPfxAVFYVu3boBAIYMGYKysjKEh4dj5syZRg+SiIj0wHukipCdSM3NzfHll19i69at+OKLL1BcXAwHBwcMHz4cY8aMQYcObXaNByIiIqNrUdaTJAljxozBhg0bsHfvXmzevBljx45lEiUiUlB7uUdaVVWFmJgYhIWFwdHREZIkIT4+/pbHCSHw2GOPQZIkTJs2TWe/JElNbomJiTp1S0pKEB0dDQcHB1hZWSEwMBCZmZktuh5mPiIiU9FOlggsKyvDmjVrUFdXhxEjRuh9XFJSEn799ddm64waNQrffPON1vbcc89p1amrq0NoaCgyMzOxYsUK7Ny5E87OzggPD0d2drbs69FraLdXr16y3urC9XGJiOhmPDw8UF5eDkmSUFpairVr197ymIKCArzxxhv45JNP8NRTT920nrOzMwICApptKyUlBbm5uTh48CACAwMBXFtQyNfXFzExMTh8+LCs69GrRxoUFKS1NTQ0oKioCB4eHvD394eHhweKioqgVqsRHBwsKwAiIjISYwzr3oYeaeOQqxwvvvgiBg8ejKioKIPPv337dnh5eWmSKACYmZlh3LhxOHLkCIqKimS1p1ePNDU1VfPvDRs24D//+Q9OnTqlee0ZAJw5cwaDBw9GUFCQrACIiMhIjDhrt7KyUqtYyVdXrl27FkeOHEFeXt4t627evBkpKSlQq9Xo168fpk2bprN6Xm5uLh599FGdY/v37w8AOH78OHr06KF3fLLvkSYmJiIhIUEriQLXuuoLFixo8qYuERG1L25ubujSpYtmW7p0qSJxFBUVYfbs2fjHP/6B7t27N1t37Nix+OCDDzSTYJ2dnTFhwgTMmzdPq15ZWRns7Ox0jm8sKysrkxWj7MdffvvtN3Tp0qXJfd26dWu1F38TEdEtGLFHWlhYCFtbW03xzXqjWVlZCAkJ0avpnJwc+Pn5yQrn5Zdfhq+vLyZNmnTLups2bdL6PHLkSERGRiIxMREzZszQeptYc0PLcoedZSdST09PpKSkICIiQmdfcnLyTdfhJSKi1mWMx1caj7e1tdVKpDfj5eWF5ORkvdq+cSTzVrZt24bdu3fj66+/xsWLF7X2XblyBRUVFbC2toa5uflN2xg3bhzS09Px7bffYujQoQAAe3v7JnudFy5cAIAme6vNkZ1IY2NjMWHCBAwaNAjPPvssXFxccO7cOWzZsgXfffedXrOviIjINLi6umLixImt0nZubi7q6+ubnIWbnJyM5ORkbN++vdlHaBqXsr1+nQMfHx8cO3ZMp25jWb9+/WTFKTuRRkdHAwDi4uLw2muvacpdXV2RnJzMV6IREZFRREdHN/kkSEhICEaMGIGZM2feMult2LAB5ubmGDhwoKYsKioKU6ZMweHDh+Hv7w8AqK+vx8aNG+Hv73/Le7E3kp1IgWsX9/zzz+PkyZMoKyuDvb09vLy8ZI8rExGREbWjtXYzMjJQXV2NqqoqAEBeXh62bdsGAIiIiICVlRU8PT3h6enZ5PE9evTQSrLLli1DXl4eQkND0bNnT5SUlCAlJQV79+5FfHw8HBwcNHUnTJiApKQkjB49GomJiXBycsKqVatw8uRJ7Nu3T/a1tCiRAtduxnp7e7f0cCIiMjJj3iNtbZMnT8aZM2c0n9PS0pCWlgYAyM/Pv2kCvRlvb298/vnn+OKLL1BeXg5LS0v4+flhy5YtGDNmjFZdlUqFzMxMxMTEYPr06aipqYGfnx8yMjJa9AinXon0k08+kdXojcsxERERXc+QJzwa73teLzIyEpGRkXq34ezsjPXr17c4huvplUgb74s2ahzCvf5irh/WZSIlIlIIX4N22+mVSPPz8zX/PnfuHJ555hkMGTIEY8eO1cza3bRpE/bu3YutW7e2WrBERNSMdnSP1JTolUivfzY0NjYWUVFRePfddzVlXl5eCAoKwiuvvIJ33nmHyZSIiO4YspcIzMjIwLBhw5rcFxERgT179hgcFBERydde3kdqamQnUrVajVOnTjW579SpU03eBCYiotugnbyP1NTITqTh4eGYO3cuvvjiC63y9PR0xMXFYciQIUYLjoiIqK2T/RzpihUrEBoaiieeeAI2NjZwdnZGcXExqqqqcM8992DFihWtEScREd1Ce3qO1JTITqSurq74/vvvkZqaiqysLJSVleH+++9HSEgInnvuOVhaWrZGnEREdCuctauIFq1sZGFhgZdffhkvv/yyseMhIiJqV1q8RCAREbUx7JEqQq9E+vjjj2PVqlXw9vbG448/3mxdSZKQmZlplOCIiEh/vEeqDL0S6fWPtKjV6mbf8qL04y9Haz1hacaOdnPONZQqHUK7UNbQWekQ2oVA61+VDqHNq1E33J4TsUeqCL0yzoEDBzT/zsrKaq1YiIiI2h123YiITAV7pIpgIiUiMhG8R6oMvRJphw4dmr0vej1JklBfX29QUERERO2FXol0ypQpWolUrVbjww8/xNNPPw1HR8dWC46IiGTg0K4i9EqkH3zwgdbn+vp6fPjhh4iJicGAAQNaJTAiIpKHQ7vKkL1oPQC9h3mJiIhMHScbERGZCg7tKoKJlIjIVDCRKqJFQ7tERER0jV490n/9619anxuXCTxw4AAKCgp06j/11FNGCY6IiPQn/XcztA2SR69EOmrUKEiSpLOO7t///nedupIkoaHhNq0rSURE/8OhXUXIXmuXiIjaJj7+ogy9EmlQUFBrx0FERNQucdYuEZGp4NCuIphIiYhMCRPhbcfHX4iIiAzAHikRkYngZCNlMJESEZkK3iNVBId2iYiIDNCiRDphwgT88ccfxo6FiIgM0Di0a+hG8rQoka5fvx4XLlwAcG25wMcffxynTp0yamBERCSTMNJGsuh1j7RXr17w9/eHv78/HnzwQQghNO8kFUIgKysLVVVVrRooERFRW6RXIp0xYwYOHz6MFStW4Pfff4ckSZg6dSrCwsLw0EMPAeDLvomIlMZZu8rQa2j3lVdewaeffoqCggKcPXsWQgg4ODjg008/xeDBgyFJEl599VWsXr2a906JiJTCoV1F6JVIr7//6eLiAgCIj49Hbm4u/vzzTwghYGtriyVLlsDDw6N1IiUioua1k0RaVVWFmJgYhIWFwdHREZIkIT4+vsm60dHRkCRJZ/P29m6y/sqVK+Ht7Q2VSoVevXohISEBV69e1alXUlKC6OhoODg4wMrKCoGBgcjMzGzR9eg1tOvl5YVu3bph0KBBGDRokNar0uzt7QEACxYswIABA/DDDz+0KBAiIrozlJWVYc2aNfD19cWIESOwdu3aZutbWlpi//79OmU3evPNNzFv3jzExsYiLCwMR48eRVxcHIqKirBmzRpNvbq6OoSGhqKiogIrVqyAk5MTkpKSEB4ejn379sl+UYteifSHH37A0aNHcfToUaSnp0MIgYceeggPPvggHnnkEUiSBLVaDQDw8/OTFQARERlHe7lH6uHhgfLyckiShNLS0lsm0g4dOiAgIKDZOmVlZVi8eDEmTZqEJUuWAACCg4Nx9epVxMXFYdasWejTpw8AICUlBbm5uTh48CACAwMBACEhIfD19UVMTAwOHz4s63r0Gtrt378/XnjhBaxevRrfffcdAGDRokV44IEHsGfPHgghEBwcjCeffBIpKSmyAiAiIiNpJ0O7jcOzxrR7927U1tZi/PjxWuXjx4+HEAI7duzQlG3fvh1eXl6aJAoAZmZmGDduHI4cOYKioiJZ527xykZhYWF45513NJk7Li4O9vb2mDt3bkubJCKiNqKyslJrq6urUyyWy5cvw8XFBR07dkTPnj0xbdo0zVoGjXJzcwEAPj4+WuWurq5wcHDQ7G+s279/f53zNJYdP35cVnwtWmvXw8MDnTp1AvC/x17CwsIQGxsLITjli4hICZIQkAz8Hdx4vJubm1b5ggULbjohqDX5+vrC19cX/fr1AwBkZ2fj3XffRWZmJo4ePYrOnTsDuDa0q1KpYG1trdOGnZ0dysrKNJ/LyspgZ2fXZL3G/XK0KJHm5+dr/i1JEoKCgmBjY6P5LMf+/fuxceNGHDx4EIWFhejatSseeOABzJ8/HwMHDmxJeEREdyYjLlpfWFgIW1tbTbFKpWqyelZWFkJCQvRqOicnR/Y8mldeeUXr8+DBg3H//fdj1KhRSE5O1trfXP65cZ+curdi8NtfOnTogAMHDrT4+A8//BBlZWWYOXMm+vTpg/Pnz2P58uUICAjAnj178PjjjxsaIhERyWRra6uVSG/Gy8sLycnJerXp7u5uaFgAgKioKFhbW+PQoUOaMnt7e9TW1qKmpgZWVlZa9S9cuKDVMbO3t2+y19k4XNxUb7U5ir9GLSkpCU5OTlpl4eHh6N27N5YsWcJESkSkJyVm7bq6umLixImGnbQFhBDo0OF/03wa740eO3YM/v7+mvJz586htLRUMzTcWPfYsWM6bTaWXV9XH4q/Ru3GJAoAnTt3Rp8+fVBYWKhARERE7VQ7mbVrqG3btqGmpkbrkZjw8HBYWFggNTVVq25qaiokScKIESM0ZVFRUThx4oTWYy719fXYuHEj/P390b17d1nxKN4jbcrFixfx/fffN9sbraur05pFVllZeTtCIyIiI8jIyEB1dbXmhSd5eXnYtm0bACAiIgJWVlY4c+YMxo4dizFjxqB3796QJAnZ2dl477330LdvX62esJ2dHeLi4jBv3jzY2dlpFmSIj4/HxIkTNc+QAtdeBZqUlITRo0cjMTERTk5OWLVqFU6ePIl9+/bJvpY2mUinTp2K6urqZh+lWbp0KRISEm5jVEREbVt7WZABACZPnowzZ85oPqelpSEtLQ3AtQmtnp6esLW1hbOzM9555x0UFxejoaEBHh4emDFjBubMmaMzQ3fu3LmwsbFBUlIS3n77bbi4uCA2NlYnl6hUKmRmZiImJgbTp09HTU0N/Pz8kJGRIXtVIwCQRBt7XmXevHlYvHgxVq5ciWnTpt20XlM9Ujc3N7x99GFYdm6Tfx+0GZ6dSpUOoV0oa+isdAjtgn3HS0qH0ObVVDVgtN8JXLx4Ua8JPHJVVlaiS5cuGDDmTXTsZGFQWw1XavH9p3NbLVZT1KYyTkJCAhYvXow333yz2SQKXPuL4mbTsYmI7kTtqUdqShSfbNQoISEB8fHxiI+Px5w5c5QOh4iISC9toke6aNEixMfHIy4uDgsWLFA6HCKi9smICzKQ/hRPpMuXL8f8+fMRHh6OYcOGaT1gC+CWK/4TEdH/cGj29lM8ke7atQvAtZX7d+/erbO/jc2FIiIi0qJ4Is3KylI6BCIi0yDEtc3QNkgWxRMpEREZB2ftKqPNzNolIiJqj9gjJSIyFZy1qwgmUiIiEyGpr22GtkHycGiXiIjIAOyREhGZCg7tKoKJlIjIRHDWrjKYSImITAWfI1UE75ESEREZgD1SIiITwaFdZTCREhGZCk42UgSHdomIiAzAHikRkYng0K4ymEiJiEwFZ+0qgkO7REREBmCPlIjIRHBoVxlMpEREpoKzdhXBoV0iIiIDsEdKRGQiOLSrDCZSIiJToRbXNkPbIFmYSImITAXvkSqC90iJiIgMwB4pEZGJkGCEe6RGieTOwkRKRGQquLKRIji0S0REZAD2SImITAQff1EGEykRkangrF1FcGiXiIjIAOyREhGZCEkISAZOFjL0+DuRySXS9w6FoYOlhdJhtGn33vWn0iG0C6eLHZQOoV3wdftD6RDavKvVVwCcaP0Tqf+7GdoGycKhXSIiuq2qqqoQExODsLAwODo6QpIkxMfHN1k3OjoakiTpbN7e3jp1m6onSRISExN16paUlCA6OhoODg6wsrJCYGAgMjMzW3Q9JtcjJSK6U7WXod2ysjKsWbMGvr6+GDFiBNauXdtsfUtLS+zfv1+nrCmjRo3Ca6+9plXm7u6u9bmurg6hoaGoqKjAihUr4OTkhKSkJISHh2Pfvn0ICgqSdT1MpEREpqKdzNr18PBAeXk5JElCaWnpLRNphw4dEBAQoFfbzs7Ot6ybkpKC3NxcHDx4EIGBgQCAkJAQ+Pr6IiYmBocPH9bvQhrjk1WbiIjarsaVjQzdWlnjkKtStm/fDi8vL00SBQAzMzOMGzcOR44cQVFRkaz2mEiJiKhNu3z5MlxcXNCxY0f07NkT06ZNw4ULF5qsu3nzZlhaWkKlUmHgwIFYt26dTp3c3Fz0799fp7yx7Pjx47Li49AuEZGJMObKRpWVlVrlKpUKKpXKsMZbwNfXF76+vujXrx8AIDs7G++++y4yMzNx9OhRdO7cWVN37NixGDZsGNzc3FBSUoKUlBRMmDABp0+fxqJFizT1ysrKYGdnp3OuxrKysjJZMTKREhGZCiMuWu/m5qZVvGDBgiZn1mZlZSEkJESvpnNycuDn5ycrnFdeeUXr8+DBg3H//fdj1KhRSE5O1tq/adMmrbojR45EZGQkEhMTMWPGDDg6Omr2NTe0LHfYmYmUiIh0FBYWwtbWVvP5Zr1RLy8vJCcn69XmjbNnWyoqKgrW1tY4dOjQLeuOGzcO6enp+PbbbzF06FAAgL29fZO9zsbh4qZ6q81hIiUiMhGS+tpmaBsAYGtrq5VIb8bV1RUTJ0407KQtIIRAhw63nuYj/tvDvr6uj48Pjh07plO3saxxGFlfnGxERGQq2smsXUNt27YNNTU1ej0Ss2HDBpibm2PgwIGasqioKJw4cULrMZf6+nps3LgR/v7+6N69u6x42CMlIqLbLiMjA9XV1aiqqgIA5OXlYdu2bQCAiIgIWFlZ4cyZMxg7dizGjBmD3r17Q5IkZGdn47333kPfvn21esLLli1DXl4eQkND0bNnT81ko7179yI+Ph4ODv9b8nPChAlISkrC6NGjkZiYCCcnJ6xatQonT57Evn37ZF8LEykRkaloJwsyAMDkyZNx5swZzee0tDSkpaUBAPLz8+Hp6QlbW1s4OzvjnXfeQXFxMRoaGuDh4YEZM2Zgzpw5sLa21hzv7e2Nzz//HF988QXKy8thaWkJPz8/bNmyBWPGjNE6t0qlQmZmJmJiYjB9+nTU1NTAz88PGRkZslc1AphIiYhMRntZIhAACgoKblmnW7du+Ne//qVXe5GRkYiMjNT7/M7Ozli/fr3e9ZvDe6REREQGYI+UiMhUGPE5UtIfEykRkakQMPx9osyjsjGREhGZiPZ0j9SU8B4pERGRAdgjJSIyFQJGuEdqlEjuKEykRESmgpONFMGhXSIiIgOwR0pEZCrUAOS9AazpNkgWJlIiIhPBWbvK4NAuERGRAdgjJSIyFZxspAgmUiIiU8FEqggO7RIRERmAPVIiIlPBHqkimEiJiEwFH39RBBMpEZGJ4OMvylD8HmlVVRViYmIQFhYGR0dHSJKE+Ph4pcMiIiLSi+KJtKysDGvWrEFdXR1GjBihdDhERO1X4z1SQzeSRfGhXQ8PD5SXl0OSJJSWlmLt2rVKh0RE1D6pBSAZmAjVTKRyKZ5IJcnQO+NERETKUTyREhGRkfDxF0W020RaV1eHuro6zefKykoFoyEiaguMcY+TiVQuxScbtdTSpUvRpUsXzebm5qZ0SEREdAdqt4n0jTfewMWLFzVbYWGh0iERESmLs3YV0W6HdlUqFVQqldJhEBG1HWoBg4dmOWtXtnbbIyUiImoL2kSPNCMjA9XV1aiqqgIA5OXlYdu2bQCAiIgIWFlZKRkeEVH7INTXNkPbIFnaRCKdPHkyzpw5o/mclpaGtLQ0AEB+fj48PT0VioyIqB3h4y+KaBOJtKCgQOkQiIjaP94jVQTvkRIRERmgTfRIiYjICDi0qwgmUiIiUyFghERqlEjuKBzaJSIiMgB7pEREpoJDu4pgIiUiMhVqNQADnwNV8zlSuTi0S0REZAAmUiIiU9FOFq2vqqpCTEwMwsLC4OjoCEmSEB8ff9P6V69exTvvvAMfHx9YWlqia9eueOihh3Dw4EGduitXroS3tzdUKhV69eqFhIQEXL16VadeSUkJoqOj4eDgACsrKwQGBiIzM7NF18NESkRkKtpJIi0rK8OaNWtQV1eHESNGNFu3oaEBUVFRWLhwIZ599llkZGRg06ZNCA8PR3V1tVbdN998EzNnzsRTTz2FPXv2YMqUKViyZAmmTp2qVa+urg6hoaHIzMzEihUrsHPnTjg7OyM8PBzZ2dmyr4f3SImI6Lby8PBAeXk5JElCaWkp1q5de9O6K1euREZGBv7zn/8gICBAUz5s2DCtemVlZVi8eDEmTZqEJUuWAACCg4Nx9epVxMXFYdasWejTpw8AICUlBbm5uTh48CACAwMBACEhIfD19UVMTAwOHz4s63rYIyUiMhVqYZytlUmSBEmS9Kq7YsUKPPbYY1pJtCm7d+9GbW0txo8fr1U+fvx4CCGwY8cOTdn27dvh5eWlSaIAYGZmhnHjxuHIkSMoKirS/2LAREpEZDKEUBtlaysKCwtRUFAAHx8fzJkzB87OzjAzM0Pfvn2xfv16rbq5ubkAAB8fH61yV1dXODg4aPY31u3fv7/O+RrLjh8/LitODu0SEZkKYYQe5X/vkVZWVmoVq1QqqFQqw9qWqbFnuH79evTs2RMffPABunTpguTkZERHR+PKlSuYNGkSgGtDuyqVCtbW1jrt2NnZoaysTPO5rKwMdnZ2TdZr3C8He6RERKTDzc0NXbp00WxLly5tsl5WVpZmqPZW2w8//CArBvV/n2mtra3Fl19+idGjRyMsLAz//Oc/MWDAACxcuFCrfnPDxTfuk1P3VtgjJSIyFcIIr1H7b4+0sLAQtra2muKb9Ua9vLyQnJysV9Pu7u6yQrG3twcAeHt7w8PDQ1MuSRKGDBmCpUuXoqSkBE5OTrC3t0dtbS1qampgZWWl1c6FCxcwcOBArXab6nVeuHABAJrsrTaHiZSIyFSo1YBk4D3O/94jtbW11UqkN+Pq6oqJEycads6buPvuu3WSYiPx34TfocO1gdXGe6PHjh2Dv7+/pt65c+dQWlqKfv36acp8fHxw7NgxnTYby66vqw8O7RIRUZtkZmaGJ598Ej///DMKCgo05UII7N69G3fffTccHBwAAOHh4bCwsEBqaqpWG6mpqZAkSet51aioKJw4cULrMZf6+nps3LgR/v7+6N69u7w4ZV8ZERG1TUYc2m1tGRkZqK6uRlVVFQAgLy8P27ZtAwBERERoeqKLFi1CRkYGwsPDER8fD1tbW6xduxY//vgj/vnPf2ras7OzQ1xcHObNmwc7OzuEhYXh6NGjiI+Px8SJEzXPkALAhAkTkJSUhNGjRyMxMRFOTk5YtWoVTp48iX379sm+FiZSIiITIdRqCAOHdm/X4y+TJ0/GmTNnNJ/T0tKQlpYGAMjPz4enpyeAa8O7//73vxEbG4sXX3wRV69ehZ+fHz7//HMMHz5cq825c+fCxsYGSUlJePvtt+Hi4oLY2FjMnTtXq55KpUJmZiZiYmIwffp01NTUwM/PDxkZGQgKCpJ9LUykRER0210/VHsr/fr1Q3p6ul51Z8yYgRkzZtyynrOzs86zqC3FREpEZCra0dCuKWEiJSIyFWoBSEyktxtn7RIRERmAPVIiIlMhBABDnyNlj1QuJlIiIhMh1ALCwKFdwUQqGxMpEZGpEGoY3iNtO29/aS94j5SIiMgA7JESEZkIDu0qg4mUiMhUcGhXESaTSBv/ilJfrlU4kravvrpO6RDaBXUN/1vSx9XqK0qH0OY1fket3durx1WD12Oox1XjBHMHkYSJ9OP/+OMPuLm5KR0GEdFNFRYWomfPnkZvt7a2Fr169cK5c+eM0p6Liwvy8/NhYWFhlPZMnckkUrVajbNnz8LGxkb2281bS2VlJdzc3HRekEva+D3ph9+Tftri9ySEQFVVFbp37655f6ax1dbW4soV44wOdOrUiUlUBpMZ2u3QoUOr/KVnDPq+IPdOx+9JP/ye9NPWvqcuXbq0avsWFhZMfgrh4y9EREQGYCIlIiIyABNpK1KpVFiwYAFUKpXSobRp/J70w+9JP/ye6HYzmclGRERESmCPlIiIyABMpERERAZgIiUiIjIAE6mR7d+/HxMmTIC3tzesra3Ro0cPPPnkk/juu++UDq1N+eGHHzBs2DC4u7vD0tISdnZ2CAwMxMaNG5UOrU1bu3YtJElC586dlQ6lTcnKyoIkSU1uhw4dUjo8MnEmsyBDW/Hhhx+irKwMM2fORJ8+fXD+/HksX74cAQEB2LNnDx5//HGlQ2wTKioq4ObmhmeffRY9evRAdXU1Nm3ahL/97W8oKChAXFyc0iG2OUVFRZg9eza6d++OixcvKh1Om7RkyRKEhIRolfXr10+haOhOwVm7RlZSUgInJyetskuXLqF3797o168f9u3bp1Bk7UNAQADOnj2L33//XelQ2pzIyEhIkgQ7Ozts27YNly5dUjqkNiMrKwshISFIS0vDqFGjlA6H7jAc2jWyG5MoAHTu3Bl9+vRBYWGhAhG1Lw4ODjAz40DJjTZu3Ijs7GysWrVK6VCI6AZMpLfBxYsX8f3336Nv375Kh9LmqNVq1NfX4/z581i1ahX27NmD119/Xemw2pSSkhLMmjULiYmJbXY96bZi6tSpMDMzg62tLYYMGYKvv/5a6ZDoDsA//W+DqVOnorq6GnPnzlU6lDZnypQp+OijjwBce+PE+++/j5deeknhqNqWKVOmwMvLC5MnT1Y6lDarS5cumDlzJoKDg2Fvb49ff/0Vy5YtQ3BwML744gsMGTJE6RDJhPEeaSubN28eFi9ejJUrV2LatGlKh9Pm/P777ygpKUFJSQl27dqFNWvW4K233sLs2bOVDq1N+OyzzzB27Fjk5OSgT58+AIDo6GjeI9VDRUUFfHx8YGdnhx9//FHpcMiEsUfaihISErB48WK8+eabTKI34e7uDnd3dwBAREQEAOCNN97A888/D0dHRyVDU9ylS5cwdepUTJ8+Hd27d0dFRQUAaN45WVFRAXNzc1hbWysYZdvVtWtXDB8+HKtXr8bly5dhaWmpdEhkoniPtJUkJCQgPj4e8fHxmDNnjtLhtBuDBg1CfX09Tp8+rXQoiistLUVxcTGWL1+Obt26abYtW7aguroa3bp1w1//+lelw2zTGgfcJElSOBIyZeyRtoJFixYhPj4ecXFxWLBggdLhtCsHDhxAhw4dcNdddykdiuJcXFxw4MABnfLExERkZ2cjIyMDDg4OCkTWPpSXlyM9PR1+fn584TW1KiZSI1u+fDnmz5+P8PBwDBs2TGdVlYCAAIUia1tefPFF2NraYtCgQXB2dkZpaSnS0tKwdetW/P3vf7/jh3UBwMLCAsHBwTrlqamp6NixY5P77lRjx46Fu7s7HnjgATg4OODUqVNYvnw5iouLkZqaqnR4ZOKYSI1s165dAIDdu3dj9+7dOvs5t+uawMBArFu3DuvXr0dFRQU6d+4MX19fbNiwAePGjVM6PGpn+vfvj61bt2L16tW4dOkS7Ozs8Mgjj2DDhg148MEHlQ6PTBxn7RIRERmAk42IiIgMwERKRERkACZSIiIiAzCREhERGYCJlIiIyABMpERERAZgIiUiIjIAEykREZEBmEgV9uOPP0KSJJw8eRIA8O6778LT01NWG6dPn8a0adNw7733wtLSElZWVujbty/i4uJQVFTUClFfU1NTg/j4eGRlZbXaOW7lyy+/RHx8fJP7PD09ER0dfVvjAYDg4GBIkgRJktChQwfY2Nigd+/eGD16NLZt2wa1Wt1mYiUiw3GJQIUdPXoUXbt2xb333gsAOHToEAYNGqT38enp6RgzZgwcHBwwbdo03H///ZAkCceOHcPHH3+ML774Ajk5Oa0Se01NDRISEgBAsXVfv/zySyQlJTWZTLdv3w5bW9vbHxSAu+66C5s2bQIAVFdXIz8/Hzt27MDo0aPx6KOPYteuXejSpUubiJWIDMNEqrCjR49i0KBBmtc8HTp0CNOnT9fr2Pz8fIwZMwb33nsvDhw4oPWL+fHHH8eMGTOwffv2Vom7JWpqamBlZXXbznf//ffftnPdyNLSUucFBRMnTsS6deswYcIEvPjii9i6datmnxKxNjQ0oL6+HiqV6rafm8ikCFLU/fffL+Li4oQQQvz5558CgMjOztbr2GnTpgkA4ptvvtH7fCkpKaJ///5CpVKJbt26iREjRoi8vDytOs8//7ywtrYWp06dEkOHDhXW1taiZ8+e4tVXXxW1tbVCCCHy8/MFAJ3t+eefF0IIsWDBAgFAfPfdd2LkyJGia9euwsXFRQghxNGjR8UzzzwjPDw8hIWFhfDw8BBjxowRBQUFWnFUV1eL1157TXh6emriHThwoNi8ebMmzqZiyM/PF0II4eHhoYmnpKREmJuba77r6/38888CgFixYoWm7M8//xQvvvii6NGjhzA3Nxeenp4iPj5eXL169ZbfcVBQkOjbt+9N90dERAhJkrSut7Vjbfx5vfXWW2LRokXC09NTdOzYUWRkZAghhNixY4fw8fERnTp1Er169RLvvfee5md4PbVaLZKSkoSvr6+wsLAQXbt2FSNHjhS//fZbk9/BkSNHxCOPPCIsLS1Fr169xNKlS0VDQ4NW3fLycvHqq6+KXr16iU6dOglHR0cxdOhQ8fPPP2vq1NXViUWLFgkvLy/RqVMn4eDgIKKjo0VJSclNv2ei24WJVAEeHh5NJoCbJaWbuffee4Wzs7Pe512yZIkAIJ599lnxxRdfiE8++UTcddddokuXLuKXX37R1Hv++edFp06dxH333SfefvttsW/fPjF//nwhSZJISEgQQghRW1srdu/eLQCIF154QXzzzTfim2++Eb/++qsQ4n+J1MPDQ7z++uviq6++Ejt27BBCCJGWlibmz58vtm/fLrKzs8Wnn34qgoKChKOjozh//rwmjpdeeklYWVmJd955Rxw4cECkp6eLxMREsXLlSiGEEL/++qsYNWqU5o+Jxq0x2V+fnIQQIioqSri5uen8Io+JiRGdOnUSpaWlQohricnNzU14eHiIjz76SOzbt08sWrRIqFQqER0dfcvv+VaJdPXq1QKA2LBhg6astWNtTKQ9evQQISEhYtu2bWLv3r0iPz9fZGRkiA4dOojg4GCxfft2kZaWJvz9/YWnp6dOIp00aZIwNzcXr732mti9e7fYvHmz8Pb2Fs7OzuLcuXNa34G9vb245557xOrVq8VXX30lpkyZIgCI9evXa+pVVlaKvn37Cmtra7Fw4UKxZ88e8dlnn4mZM2eK/fv3CyGEaGhoEOHh4cLa2lokJCSIr776Sqxdu1b06NFD9OnTR9TU1NzyZ0LUmphIFXD8+HGRk5Mj/vGPf4hOnTqJo0ePipycHDFixAjx8MMPi5ycHJGTkyPOnDnTbDsWFhYiICBAr3OWl5cLS0tLERERoVX++++/C5VKJcaOHaspa+zp/fOf/9SqGxERIby8vDSfz58/LwCIBQsW6JyvMZHOnz//lrHV19eLS5cuCWtra62eVr9+/cSIESOaPXbq1Kk6v+wb3ZicPv/8cwFA7N27V+vc3bt3FyNHjtSUvfTSS6Jz58463//bb78tAIjjx483G9OtEmlGRoamd3i7Ym1MpHfffbe4cuWKVt0HH3xQuLm5ibq6Ok1ZVVWVsLe31/puv/nmGwFALF++XOv4wsJCYWlpKWJiYrS+AwDi8OHDWnX79OkjhgwZovm8cOFCAUB89dVXN/2+tmzZIgCIzz77TKv86NGjAoBYtWrVTY8luh04a1cBffr0gZ+fH86ePYsHH3wQDzzwAPz8/PDLL79g8ODB8PPzg5+fH9zd3Y12zm+++QaXL1/WmRnq5uaGxx9/HJmZmVrlkiQhMjJSq6x///44c+aMrPOOHDlSp+zSpUt4/fXX0bt3b5iZmcHMzAydO3dGdXU1fv75Z029QYMGISMjA7GxscjKysLly5dlnftGQ4cOhYuLC9atW6cp27NnD86ePYsJEyZoytLT0xESEoLu3bujvr5esw0dOhQAkJ2dbVAcQo83F7ZWrE888QTMzc01n6urq/Htt99ixIgR6NSpk6a8c+fOOj//9PR0SJKEcePGaZ3LxcUFvr6+OrO3XVxcdCbO3fjfUEZGBu6991785S9/uel3kZ6ejq5duyIyMlLrvH5+fnBxcVF01jgRwMlGt11DQ4PmF2l2djbCwsJQX1+PCxcu4Oeff8bDDz+M+vp6SJKEjh07NtuWu7s78vPz9TpvWVkZAMDV1VVnX/fu3fHVV19plVlZWcHCwkKrTKVSoba2Vq/zNWrqfGPHjkVmZibmzZuHBx98ELa2tpAkCREREVrJ8v3330fPnj2xdetWvPXWW7CwsMCQIUOwbNky3HPPPbLiAAAzMzP87W9/w8qVK1FRUYGuXbsiNTUVrq6uGDJkiKZecXExdu3apZVwrldaWir73NdrTCTdu3e/7bHe+PMoLy+HEALOzs46x95YVlxcfNO6wLWZytezt7fXqaNSqbR+xufPn7/lH4zFxcWoqKjQSvTXM/TnQWQoJtLbLDQ0VKuXkJOTg7feekvzefDgwQCAoKCgW/6lPWTIEKxcuRKHDh3SmSF6o8Zfan/++afOvrNnz8LBwUHfS5ClcTZyo4sXLyI9PR0LFixAbGyspryurg4XLlzQqmttbY2EhAQkJCSguLhY0zuNjIzEiRMnWhTP+PHjsWzZMnz66ad45pln8Pnnn2PWrFlaf7Q4ODigf//+ePPNN5tso7kEqI/PP/8ckiThscceu+2x3vjz6NatGyRJQnFxsc6x586d0/rs4OAASZLw73//u8mZvi2Z/evo6Ig//vij2ToODg6wt7fH7t27m9xvY2Mj+7xExsREept99NFHqKqqwldffYVFixbhwIED6NixIxYuXIiLFy9i+fLlAPT75fDKK6/g448/xpQpU3QefwGuDSHu2LEDUVFRCAwMhKWlJTZu3IjRo0dr6vzxxx/Yv38/Ro0aJftaGn9xyhlylSQJQgidX7pr165FQ0PDTY9zdnZGdHQ0fvzxR7z33nuaR2muj8HS0vKW57/vvvvg7++PdevWoaGhAXV1dRg/frxWneHDh+PLL7/E3XffjW7duul9bfpYt24dMjIyMHbs2Fv2xG5HrNbW1njggQewY8cOvP3225pe36VLl5Cenq5zrsTERBQVFeHpp5+Wfa6mDB06FPPnz8f+/fvx+OOPN1ln+PDh+PTTT9HQ0AB/f3+jnJfImJhIbzMvLy8AwKpVqxAaGqr5xZCTk4PY2Fg88MADerfVq1cvTW/Fz89PsyADAOTl5eHjjz+GEAJRUVHo2rUr5s2bhzlz5uC5557Ds88+i7KyMiQkJMDCwgILFiyQfS02Njbw8PDAzp07ERoaCjs7Ozg4ODS7MpOtrS0ee+wxLFu2TFM3OzsbKSkp6Nq1q1Zdf39/DB8+HP3790e3bt3w888/Y8OGDQgMDNQ8j+rj4wMAeOuttzB06FB07NgR/fv3v+kwIABMmDABL730Es6ePYuHHnpI8zNptHDhQnz11Vd46KGHMGPGDHh5eaG2thYFBQX48ssvsXr1avTs2bPZ7+by5cs4dOiQ5t+nT5/Gjh07kJ6ejqCgIKxevbrZ429nrAsXLsSwYcMwZMgQzJw5Ew0NDVi2bBk6d+6sNUrw8MMP48UXX8T48ePx7bff4rHHHoO1tTX+/PNPfP311/Dx8cHkyZP1uq5Gs2bNwtatW/Hkk08iNjYWgwYNwuXLl5GdnY3hw4cjJCQEY8aMwaZNmxAREYGZM2di0KBBMDc3xx9//IEDBw7gySefRFRUlKzzEhmVghOd7lgNDQ3C0dFRfPTRR0IIIb7//nsB4JazdG/mt99+E1OmTBG9e/cWKpVKWFpaij59+ohXX31V80xlo7Vr14r+/fuLTp06iS5duognn3xSZxZq43OkN2rqucJ9+/aJ+++/X6hUqiafI73+cZZGf/zxhxg5cqTo1q2bsLGxEeHh4SI3N1dn5mpsbKx44IEHRLdu3YRKpRJ33XWXeOWVVzSPfghx7fnCiRMnCkdHRyFJ0k2fI73exYsXhaWlpQAgkpOTm/xOz58/L2bMmCF69eolzM3NhZ2dnRg4cKCYO3euuHTpUpPHNGqcsdq4WVtbi7vuukuMGjVKpKWl6TzScjtibZy1u2zZsibb2L59u+Y5Und3d5GYmChmzJghunXrplP3448/Fv7+/sLa2lpYWlqKu+++Wzz33HPi22+/1foOmpq5/PzzzwsPDw+tsvLycjFz5kzh7u4uzM3NhZOTkxg2bJg4ceKEps7Vq1fF22+/rXl+tXPnzsLb21u89NJL4tSpU01eE9HtIgmhxxRCIrqjXL16FX5+fujRowf27t2rdDhEbRqHdokIL7zwAgYPHgxXV1ecO3cOq1evxs8//4wVK1YoHRpRm8dESkSoqqrC7Nmzcf78eZibm2PAgAH48ssvm32+k4iu4dAuERGRAbiyERERkQGYSImIiAzAREpERGQAJlIiIiIDMJESEREZgImUiIjIAEykREREBmAiJSIiMsD/A4hr9JEzMRBdAAAAAElFTkSuQmCC",
      "text/plain": [
       "<Figure size 640x480 with 2 Axes>"
      ]
     },
     "metadata": {},
     "output_type": "display_data"
    }
   ],
   "source": [
    "plt.imshow(TestLogLik)\n",
    "plt.gca().invert_yaxis()\n",
    "plt.colorbar()\n",
    "plt.xticks(ticks=np.arange(0, len(Nt_range)), labels=np.arange(2, len(L_range) + 1))\n",
    "plt.yticks(ticks=np.arange(0, len(L_range)), labels=np.arange(1, len(L_range) + 1))\n",
    "plt.xlabel(\"# Contrastive Divergence\")\n",
    "plt.ylabel(\"# Hidden Layers\")\n",
    "\n",
    "\n",
    "plt.show()"
   ]
  },
  {
   "cell_type": "markdown",
   "metadata": {},
   "source": [
    "# Implementing the Random Search"
   ]
  },
  {
   "cell_type": "code",
   "execution_count": 11,
   "metadata": {},
   "outputs": [],
   "source": [
    "HP = {'L': [3, 8], \n",
    "      'Nt': [2, 6], \n",
    "      'Opt': ['RMSprop', 'SGD'],\n",
    "      'l_rate_in': [1, 0.1], \n",
    "      'l_rate_fin': [0.1, 0.05], \n",
    "      'epochs': [100, 251], \n",
    "      'mini': [10, 51],\n",
    "      'gamma': [0.1, 0.001], \n",
    "      #'POTTS': [False, True], \n",
    "      #'SPINS': False\n",
    "      }\n",
    "\n",
    "\n",
    "def RandomSearch(HP, Ndigit = 3, nModels = 10):\n",
    "\n",
    "   HyperParams_List = []\n",
    "\n",
    "   for _ in range(nModels):\n",
    "\n",
    "      L, Nt = np.random.randint(HP['L'][0], HP['L'][1]), np.random.randint(HP['Nt'][0], HP['Nt'][1] )\n",
    "      l_rate_in = np.random.uniform(HP['l_rate_in'][0], HP['l_rate_in'][1])\n",
    "      l_rate_fin = np.random.uniform(HP['l_rate_fin'][0], HP['l_rate_fin'][1])\n",
    "      epochs, mini = np.random.choice(range(HP['epochs'][0], HP['epochs'][1]), 15), np.random.choice(range(HP['mini'][0], HP['mini'][1]), 5)\n",
    "      gamma = np.random.uniform(HP['gamma'][0], HP['gamma'][1])\n",
    "\n",
    "      Opt = np.random.choice(HP['Opt'])\n",
    "\n",
    "      HyperParams = {'Ndigit': Ndigit, 'L': L, 'Nt': Nt, 'Opt': Opt, 'l_rate_in': l_rate_in, \n",
    "                     'l_rate_fin': l_rate_fin, 'epochs': epochs, 'mini': mini, 'gamma': gamma, 'POTTS': False, 'SPINS': False}\n",
    "\n",
    "      HyperParams_List.append(HyperParams)\n",
    "\n",
    "   return HyperParams_List\n"
   ]
  },
  {
   "cell_type": "code",
   "execution_count": 14,
   "metadata": {},
   "outputs": [],
   "source": [
    "HyperParam_List = RandomSearch(HP, nModels = 3)"
   ]
  },
  {
   "cell_type": "markdown",
   "metadata": {},
   "source": [
    "# Training with all the Models"
   ]
  },
  {
   "cell_type": "code",
   "execution_count": null,
   "metadata": {},
   "outputs": [
    {
     "name": "stdout",
     "output_type": "stream",
     "text": [
      "Directory exists\n",
      "{'Ndigit': 3, 'L': 5, 'Nt': 2, 'Opt': 'SGD', 'l_rate_in': 0.5654902875312061, 'l_rate_fin': 0.07980694980834677, 'epochs': 201, 'mini': 39, 'gamma': 0.05541768514420232, 'POTTS': False, 'SPINS': False}\n"
     ]
    },
    {
     "name": "stderr",
     "output_type": "stream",
     "text": [
      "100%|██████████| 201/201 [04:27<00:00,  1.33s/it]\n"
     ]
    },
    {
     "data": {
      "image/png": "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",
      "text/plain": [
       "<Figure size 640x480 with 1 Axes>"
      ]
     },
     "metadata": {},
     "output_type": "display_data"
    },
    {
     "name": "stdout",
     "output_type": "stream",
     "text": [
      "Directory exists\n",
      "{'Ndigit': 3, 'L': 5, 'Nt': 2, 'Opt': 'SGD', 'l_rate_in': 0.605565940305672, 'l_rate_fin': 0.0763749775078333, 'epochs': 119, 'mini': 23, 'gamma': 0.08562173416886945, 'POTTS': False, 'SPINS': False}\n"
     ]
    },
    {
     "name": "stderr",
     "output_type": "stream",
     "text": [
      "100%|██████████| 119/119 [02:06<00:00,  1.06s/it]\n"
     ]
    },
    {
     "data": {
      "image/png": "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",
      "text/plain": [
       "<Figure size 640x480 with 1 Axes>"
      ]
     },
     "metadata": {},
     "output_type": "display_data"
    },
    {
     "name": "stdout",
     "output_type": "stream",
     "text": [
      "Directory exists\n",
      "{'Ndigit': 3, 'L': 5, 'Nt': 2, 'Opt': 'RMSprop', 'l_rate_in': 0.6855271435947109, 'l_rate_fin': 0.06732899210157882, 'epochs': 198, 'mini': 43, 'gamma': 0.09753430143697292, 'POTTS': False, 'SPINS': False}\n"
     ]
    },
    {
     "name": "stderr",
     "output_type": "stream",
     "text": [
      "100%|██████████| 198/198 [04:34<00:00,  1.39s/it]\n"
     ]
    },
    {
     "data": {
      "image/png": "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",
      "text/plain": [
       "<Figure size 640x480 with 1 Axes>"
      ]
     },
     "metadata": {},
     "output_type": "display_data"
    }
   ],
   "source": [
    "for HP in HyperParam_List:\n",
    "   train_RBM(HP, FolderName = 'BM_RandomSearch', Debug = False, LL_Plot = True)"
   ]
  },
  {
   "cell_type": "code",
   "execution_count": null,
   "metadata": {},
   "outputs": [],
   "source": []
  },
  {
   "cell_type": "code",
   "execution_count": null,
   "metadata": {},
   "outputs": [],
   "source": []
  },
  {
   "cell_type": "code",
   "execution_count": null,
   "metadata": {},
   "outputs": [],
   "source": []
  },
  {
   "cell_type": "code",
   "execution_count": null,
   "metadata": {},
   "outputs": [],
   "source": []
  },
  {
   "cell_type": "markdown",
   "metadata": {},
   "source": [
    "## Test generative power of the trained RBM"
   ]
  },
  {
   "cell_type": "code",
   "execution_count": null,
   "metadata": {},
   "outputs": [],
   "source": [
    "#aE = np.load('WEIGHTS/a_RBM_3_3_2_RMSprop_0.05-0.05_Ep150_reg0.001_0312_1502.npy')\n",
    "#bE = np.load('WEIGHTS/b_RBM_3_3_2_RMSprop_0.05-0.05_Ep150_reg0.001_0312_1502.npy')\n",
    "#wE = np.load('WEIGHTS/w_RBM_3_3_2_RMSprop_0.05-0.05_Ep150_reg0.001_0312_1502.npy')\n",
    "\n",
    "ee=-1\n",
    "NN=200\n",
    "traj_x,traj_z = np.zeros((NN+2,D)), np.zeros((NN+2,L))\n",
    "xf=np.copy(data[np.random.randint(Nd)])\n",
    "traj_x[0]=np.copy(xf)\n",
    "\n",
    "# AF: multiply weights and biases by a number >1 to achieve a more deterministic behavior,\n",
    "# equivalent to lower the temperature in a Boltzmann weight -> select lowest energies\n",
    "# Note: here, this is done in the negative CD step only\n",
    "AF=10.\n",
    "\n",
    "for t in range(NN):\n",
    "    t1=t+1\n",
    "    # positive CD phase: generating fantasy zf from fantasy xf \n",
    "    zf = CD_step(xf,1*wE[ee],1*bE[ee],POTTS=POTTS)\n",
    "    traj_z[t] = np.copy(zf)\n",
    "    # negative CD pzase: generating fantasy xf from fantasy zf\n",
    "    xf = CD_step(zf,AF*wE[ee].T,AF*aE[ee])\n",
    "    traj_x[t1] = np.copy(xf)\n",
    "\n",
    "\n",
    "plot_weights_bias(wE, aE, 150, L, cols=3, save=False)\n",
    "\n",
    "col0,col1,col2,col3,col4=(0.8,0,0,1),(1,0.6,0,1),(0,.7,0,1),(0.2,0.2,1,1),(1,0,1,1)\n",
    "show_MNIST(traj_x[0:],Nex=10,colors=(col0,col1))\n",
    "show_MNIST(traj_x[10:],Nex=10,colors=(col1,col2))\n",
    "show_MNIST(traj_x[20:],Nex=10,colors=(col2,col3))\n",
    "show_MNIST(traj_x[40:],Nex=10,colors=(col3,col4))\n",
    "print(\"L:\",L,\"    amplification of weights:\",AF )"
   ]
  },
  {
   "cell_type": "markdown",
   "metadata": {},
   "source": [
    "## Plot of the gradient amplitude"
   ]
  },
  {
   "cell_type": "code",
   "execution_count": null,
   "metadata": {},
   "outputs": [],
   "source": [
    "def make_fname(strin):\n",
    "    fname=\"FIG/RBM_\"+strin+\"_MNIST\"+str(Ndigit)+\"_E\"+str(NE)+\"_N\"+str(N_ini)+\"-\"+str(N_fin)\n",
    "    fname=fname+\"_\"+GRAD+\"-\"+str(l_rate_ini)+\"-\"+str(l_rate_fin)+\"_CD-\"+str(Nt)+\"_L\"+str(L)\n",
    "    if gamma>0:  fname=fname+\"_reg\"+str(gamma)\n",
    "    return fname+\".png\"\n",
    "\n",
    "NE = len(gwE)-1\n",
    "print(\"NE=\",NE)\n",
    "mgw,mga,mgb,epo=np.zeros(NE),np.zeros(NE),np.zeros(NE),np.zeros(NE)\n",
    "DE=1\n",
    "if NE>30: DE=2\n",
    "if NE>50: DE=5\n",
    "if NE>100: DE=10\n",
    "# compute RMS average of gradients during epochs\n",
    "for ep in range(1,1+NE):\n",
    "    epo[ep-1]=ep\n",
    "    mgw[ep-1] = np.std(gwE[ep])\n",
    "    mga[ep-1] = np.std(gaE[ep])\n",
    "    mgb[ep-1] = np.std(gbE[ep])\n",
    "\n",
    "#############################################################################\n",
    "# creating grid for subplots\n",
    "fig, ax = plt.subplots(1, 1, figsize=(8,5.5))\n",
    "fig.subplots_adjust( left=None, bottom=None,  right=None, top=None, wspace=None, hspace=None)\n",
    "        \n",
    "ax.xaxis.set_major_locator(mpl.ticker.MultipleLocator(DE))\n",
    "ax.plot(epo,mgw,\"o-\",c=\"#CC77EC\",label=\"$w$\",zorder=10)\n",
    "ax.plot(epo,mga,\"d--\",c=\"#22C040\",label=\"$a$\",zorder=5)\n",
    "ax.plot(epo,mgb,\"^:\",c=\"#EEC006\",label=\"$b$\",zorder=8)\n",
    "ax.plot(epo,.35/sqrt(miniE[1:]),\"k-.\",label=\"$\\sim 1 / \\sqrt{N}$\",zorder=20,lw=2)\n",
    "ax.set_xlabel(\"Epoch\")\n",
    "ax.set_ylabel(\"gradient RMS\")\n",
    "ax.set_xlim(0.5,NE+0.5)\n",
    "if 1==2: ax.set_ylim(0,)\n",
    "else: \n",
    "    ax.set_xlim(0.8,Nepoch*1.1)\n",
    "    ax.set_xscale(\"log\")\n",
    "    ax.set_yscale(\"log\")\n",
    "ax.legend()\n",
    "\n",
    "fname=make_fname(\"grad\")\n",
    "fig.savefig(fname,dpi=200,bbox_inches='tight',pad_inches=0.02, transparent=False)\n",
    "plt.show()\n",
    "print(fname)"
   ]
  }
 ],
 "metadata": {
  "kernelspec": {
   "display_name": "base",
   "language": "python",
   "name": "python3"
  },
  "language_info": {
   "codemirror_mode": {
    "name": "ipython",
    "version": 3
   },
   "file_extension": ".py",
   "mimetype": "text/x-python",
   "name": "python",
   "nbconvert_exporter": "python",
   "pygments_lexer": "ipython3",
   "version": "3.12.7"
  }
 },
 "nbformat": 4,
 "nbformat_minor": 4
}
=======
  "nbformat": 4,
  "nbformat_minor": 0
}
>>>>>>> bad42787b7e673824ff4b1396a174ccab276af95
