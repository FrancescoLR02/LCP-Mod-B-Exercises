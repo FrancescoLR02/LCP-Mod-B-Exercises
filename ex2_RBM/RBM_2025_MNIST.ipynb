{
 "cells": [
  {
   "cell_type": "markdown",
   "metadata": {},
   "source": [
    "# Restricted Boltzmann Machine - MNIST"
   ]
  },
  {
   "cell_type": "code",
   "execution_count": 5,
   "metadata": {},
   "outputs": [
    {
     "name": "stdout",
     "output_type": "stream",
     "text": [
      "Requirement already satisfied: scikit-learn in /opt/homebrew/Cellar/jupyterlab/4.3.5/libexec/lib/python3.13/site-packages (1.6.1)\n",
      "Requirement already satisfied: numpy>=1.19.5 in /opt/homebrew/Cellar/jupyterlab/4.3.5/libexec/lib/python3.13/site-packages (from scikit-learn) (2.2.3)\n",
      "Requirement already satisfied: scipy>=1.6.0 in /opt/homebrew/Cellar/jupyterlab/4.3.5/libexec/lib/python3.13/site-packages (from scikit-learn) (1.15.2)\n",
      "Requirement already satisfied: joblib>=1.2.0 in /opt/homebrew/Cellar/jupyterlab/4.3.5/libexec/lib/python3.13/site-packages (from scikit-learn) (1.4.2)\n",
      "Requirement already satisfied: threadpoolctl>=3.1.0 in /opt/homebrew/Cellar/jupyterlab/4.3.5/libexec/lib/python3.13/site-packages (from scikit-learn) (3.5.0)\n",
      "\n",
      "\u001b[1m[\u001b[0m\u001b[34;49mnotice\u001b[0m\u001b[1;39;49m]\u001b[0m\u001b[39;49m A new release of pip is available: \u001b[0m\u001b[31;49m25.0\u001b[0m\u001b[39;49m -> \u001b[0m\u001b[32;49m25.0.1\u001b[0m\n",
      "\u001b[1m[\u001b[0m\u001b[34;49mnotice\u001b[0m\u001b[1;39;49m]\u001b[0m\u001b[39;49m To update, run: \u001b[0m\u001b[32;49m/opt/homebrew/Cellar/jupyterlab/4.3.5/libexec/bin/python -m pip install --upgrade pip\u001b[0m\n",
      "Note: you may need to restart the kernel to use updated packages.\n"
     ]
    }
   ],
   "source": [
    "pip install scikit-learn"
   ]
  },
  {
   "cell_type": "markdown",
   "metadata": {},
   "source": [
    "## Imports"
   ]
  },
  {
   "cell_type": "code",
   "execution_count": 13,
   "metadata": {},
   "outputs": [
    {
     "name": "stdout",
     "output_type": "stream",
     "text": [
      "mkdir: FIG: File exists\n",
      "mkdir: FIG/FRAME: File exists\n",
      "mkdir: WEIGHTS: File exists\n",
      "mkdir: DATA: File exists\n"
     ]
    }
   ],
   "source": [
    "import sys, datetime\n",
    "\n",
    "# numpy\n",
    "import numpy as np\n",
    "from numpy import exp,sqrt,log,log10,sign,power,cosh,sinh,tanh,floor\n",
    "rng = np.random.default_rng(12345)\n",
    "np.set_printoptions(precision=4)\n",
    "\n",
    "# matplotlib\n",
    "import matplotlib as mpl\n",
    "%matplotlib inline\n",
    "from matplotlib.ticker import NullFormatter, MaxNLocator\n",
    "mpl.rcParams.update({\"font.size\": 12})  #\"text.usetex\": True,})\n",
    "from matplotlib.colors import ListedColormap\n",
    "import matplotlib.pyplot as plt\n",
    "\n",
    "# to load MNIST\n",
    "import sklearn\n",
    "\n",
    "!mkdir FIG \n",
    "!mkdir FIG/FRAME\n",
    "!mkdir WEIGHTS \n",
    "!mkdir DATA"
   ]
  },
  {
   "cell_type": "markdown",
   "metadata": {},
   "source": [
    "## Load data"
   ]
  },
  {
   "cell_type": "code",
   "execution_count": 18,
   "metadata": {},
   "outputs": [
    {
     "name": "stdout",
     "output_type": "stream",
     "text": [
      "(70000, 784)\n"
     ]
    }
   ],
   "source": [
    "X_original, Y_original = sklearn.datasets.fetch_openml(\"mnist_784\", version=1, return_X_y=True, as_frame=False,parser='liac-arff')\n",
    "print(X_original.shape)"
   ]
  },
  {
   "cell_type": "markdown",
   "metadata": {},
   "source": [
    "## Parameters"
   ]
  },
  {
   "cell_type": "code",
   "execution_count": 19,
   "metadata": {},
   "outputs": [],
   "source": [
    "################################\n",
    "#    CHOICE OF PARAMETERS      #\n",
    "################################\n",
    "# number of MNIST digits to keep (e.g., Ndigit=3 keeps 0,1,2)\n",
    "Ndigit=3\n",
    "# number of hidden units\n",
    "L = 3\n",
    "# use (+1,-1) if SPINS, otherwise use bits (1,0)\n",
    "SPINS=False\n",
    "# use one-hot encoding in hidden space if POTTS (use only if SPINS=False)\n",
    "POTTS=False\n",
    "\n",
    "dname='DATA/'\n",
    "################################\n",
    "\n",
    "# x_min =0 if bits, x_min=-1 if SPINS\n",
    "# level_gap is the difference in values between the max (1) and the min (x_min)\n",
    "if SPINS:\n",
    "    x_min=-1\n",
    "    level_gap=2.\n",
    "else:\n",
    "    x_min=0\n",
    "    level_gap=1.\n",
    "\n",
    "if POTTS:\n",
    "    str_simul=\"RBM_Potts\"\n",
    "    # in one-hot encoding, number of possible hidden states matches L\n",
    "    Nz=L\n",
    "else:\n",
    "    str_simul=\"RBM\"\n",
    "    # number of possible hidden states: 2**L\n",
    "    Nz=2**L\n",
    "    \n",
    "if POTTS and SPINS: \n",
    "    print(\"\\n\\n>>>>>>>> WARNING:  POTTS and SPINS cannot coexist\\n\\n\")"
   ]
  },
  {
   "cell_type": "markdown",
   "metadata": {},
   "source": [
    "## Select data, and digitalize them two levels"
   ]
  },
  {
   "cell_type": "code",
   "execution_count": 20,
   "metadata": {},
   "outputs": [
    {
     "name": "stdout",
     "output_type": "stream",
     "text": [
      "('0', '1', '2')\n",
      "dataset with 21770 points, each with 784 bits\n",
      "\n",
      "first 10 MNIST data points\n"
     ]
    },
    {
     "data": {
      "image/png": "[encoded data removed]",
      "text/plain": [
       "<Figure size 1400x140 with 10 Axes>"
      ]
     },
     "metadata": {},
     "output_type": "display_data"
    },
    {
     "name": "stdout",
     "output_type": "stream",
     "text": [
      "first 10 MNIST-3 data points\n"
     ]
    },
    {
     "data": {
      "image/png": "[encoded data removed]",
      "text/plain": [
       "<Figure size 1400x140 with 10 Axes>"
      ]
     },
     "metadata": {},
     "output_type": "display_data"
    },
    {
     "name": "stdout",
     "output_type": "stream",
     "text": [
      "first 10 MNIST-3 data points, binarized\n"
     ]
    },
    {
     "data": {
      "image/png": "[encoded data removed]",
      "text/plain": [
       "<Figure size 1400x140 with 10 Axes>"
      ]
     },
     "metadata": {},
     "output_type": "display_data"
    },
    {
     "name": "stdout",
     "output_type": "stream",
     "text": [
      "each of Nd=21770 data has D=784 bits\n"
     ]
    }
   ],
   "source": [
    "def show_MNIST(x, y=[], z=[], Nex=5, S=1.4, side=0, colors=[]):\n",
    "    \"\"\"Show digits\"\"\"\n",
    "    if side==0: side = int(sqrt(x.shape[1]))\n",
    "    if len(y)<1: y=np.full(Nex,\"\")\n",
    "    colors=np.array(colors)\n",
    "    fig, AX = plt.subplots(1,Nex,figsize=(S*Nex,S))\n",
    "    \n",
    "    for i, img in enumerate(x[:Nex].reshape(Nex, side, side)):\n",
    "        if len(colors)==0: newcmp = \"grey\"\n",
    "        else:\n",
    "            col= colors[0] + (colors[1]-colors[0])*(i+1)/(Nex+1)\n",
    "            newcmp = ListedColormap((col,(1,1,1,1)))\n",
    "        ax=AX[i]\n",
    "        ax.imshow(img, cmap=newcmp)\n",
    "        ax.set_xticks([])\n",
    "        ax.set_yticks([])\n",
    "        if len(y)>0: ax.set_title(y[i])\n",
    "        if len(z)>0: ax.set_title(''.join(map(str, z[i])),fontsize=9)\n",
    "    plt.show()\n",
    "            \n",
    "def MNIST_bit(X,side=28,level=0.5):\n",
    "    NX=len(X)\n",
    "    #print(X.shape)\n",
    "    print(f\"dataset with {NX} points, each with {len(X[0])} bits\\n\")\n",
    "    if side==14:\n",
    "        X = np.reshape(X,(NX,28,28))\n",
    "        # new value = average over 4 values in a 2x2 square\n",
    "        Xr = 0.25*(X[:,0::2,0::2]+X[:,1::2,0::2]+X[:,0::2,1::2]+X[:,1::2,1::2])\n",
    "        X  = Xr.reshape(NX,side**2)\n",
    "    #print(X.shape)\n",
    "    # binarize data and then convert it to 1/0 or 1/-1\n",
    "    X = np.where(X/255 > level, 1, x_min)\n",
    "    return X.astype(\"int\")\n",
    "\n",
    "list_10_digits = ('0','1','2','3','4','5','6','7','8','9')\n",
    "list_digits = list_10_digits[:Ndigit]\n",
    "print(list_digits)\n",
    "keep=np.isin(Y_original, list_digits)\n",
    "X_keep,Y=X_original[keep],Y_original[keep]\n",
    "\n",
    "data,label = MNIST_bit(X_keep),Y\n",
    "data,label = data.astype(\"int\"),label.astype(\"int\")\n",
    "print(\"first 10 MNIST data points\")\n",
    "show_MNIST(X_original, Y_original,Nex=10)\n",
    "print(f\"first 10 MNIST-{Ndigit} data points\")\n",
    "show_MNIST(X_keep, label,Nex=10)\n",
    "print(f\"first 10 MNIST-{Ndigit} data points, binarized\")\n",
    "show_MNIST(data, label,Nex=10)\n",
    "\n",
    "# number of data points\n",
    "Nd = len(data)\n",
    "# number of visible units\n",
    "D  = len(data[1])\n",
    "\n",
    "print(f'each of Nd={Nd} data has D={D} bits')"
   ]
  },
  {
   "cell_type": "markdown",
   "metadata": {},
   "source": [
    "## Plotting data stats"
   ]
  },
  {
   "cell_type": "code",
   "execution_count": 21,
   "metadata": {},
   "outputs": [
    {
     "data": {
      "image/png": "[encoded data removed]",
      "text/plain": [
       "<Figure size 600x300 with 1 Axes>"
      ]
     },
     "metadata": {},
     "output_type": "display_data"
    },
    {
     "data": {
      "image/png": "[encoded data removed]",
      "text/plain": [
       "<Figure size 2800x140 with 20 Axes>"
      ]
     },
     "metadata": {},
     "output_type": "display_data"
    },
    {
     "data": {
      "image/png": "[encoded data removed]",
      "text/plain": [
       "<Figure size 2800x140 with 20 Axes>"
      ]
     },
     "metadata": {},
     "output_type": "display_data"
    },
    {
     "data": {
      "image/png": "[encoded data removed]",
      "text/plain": [
       "<Figure size 2800x140 with 20 Axes>"
      ]
     },
     "metadata": {},
     "output_type": "display_data"
    },
    {
     "data": {
      "image/png": "[encoded data removed]",
      "text/plain": [
       "<Figure size 2800x140 with 20 Axes>"
      ]
     },
     "metadata": {},
     "output_type": "display_data"
    },
    {
     "data": {
      "image/png": "[encoded data removed]",
      "text/plain": [
       "<Figure size 2800x140 with 20 Axes>"
      ]
     },
     "metadata": {},
     "output_type": "display_data"
    },
    {
     "data": {
      "image/png": "[encoded data removed]",
      "text/plain": [
       "<Figure size 2800x140 with 20 Axes>"
      ]
     },
     "metadata": {},
     "output_type": "display_data"
    },
    {
     "data": {
      "image/png": "[encoded data removed]",
      "text/plain": [
       "<Figure size 2800x140 with 20 Axes>"
      ]
     },
     "metadata": {},
     "output_type": "display_data"
    },
    {
     "data": {
      "image/png": "[encoded data removed]",
      "text/plain": [
       "<Figure size 2800x140 with 20 Axes>"
      ]
     },
     "metadata": {},
     "output_type": "display_data"
    }
   ],
   "source": [
    "fig, (ax) = plt.subplots(1,1,figsize=(6,3))\n",
    "ax.hist(np.sort(label),bins=np.arange(Ndigit+1)-1/2,density=False,rwidth=0.55,color=\"g\")\n",
    "ax.xaxis.set_major_locator(mpl.ticker.MultipleLocator(1))\n",
    "ax.set_ylabel(\"data points\")\n",
    "plt.show()\n",
    "for i in range(8): show_MNIST(data[i*20:],Nex=20)"
   ]
  },
  {
   "cell_type": "markdown",
   "metadata": {},
   "source": [
    "## Contrastive divergence (CD)\n"
   ]
  },
  {
   "cell_type": "code",
   "execution_count": 22,
   "metadata": {},
   "outputs": [],
   "source": [
    "# eq(213) page 97, activation via sigmoid\n",
    "# taking into account energy gap 2 for \"spin\" variables (-1,1)\n",
    "def CD_step(v_in,wei,bias,details=False,POTTS=False):\n",
    "    \"\"\"\n",
    "        Generates the state on the other layer: \n",
    "        Field \"H\" ->  activation \"a\" -> probability \"p\" -> Spins/bits v_out\n",
    "\n",
    "        Either (v_in=x, wei=w) or (v_in=z, wei=w.T)\n",
    "\n",
    "        details = True --> returns also probability (p) and activation (a) \n",
    "\n",
    "        POTTS means one-hot encoding (used only in hidden space)\n",
    "    \"\"\"\n",
    "    # local \"field\"\n",
    "    H = np.clip(np.dot(v_in, wei) + bias, a_min=-300, a_max=300)\n",
    "    # \"activation\"\n",
    "    a = exp(level_gap*H)\n",
    "    n = np.shape(H)\n",
    "    v_out = np.full(n, x_min, dtype=int) # initially, just a list on -1's or 0's\n",
    "    if POTTS: # RBM with a single hidden unit = 1 (that is, \"one-hot encoding\" with L states)\n",
    "        # p: state probability, normalized to 1 over all units=states\n",
    "        p = a/np.sum(a)\n",
    "        # F: cumulative probability\n",
    "        F = np.cumsum(p)\n",
    "        # pick a state \"i\" randomly with probability p[i]\n",
    "        r = np.random.rand()\n",
    "        i = 0\n",
    "        while r>F[i]: i+=1\n",
    "        v_out[i] = 1 # activate a single hidden unit\n",
    "    else: # normal Ising RBM\n",
    "        # p: local probability, normalized to 1 for each hidden unit\n",
    "        p = a / (a + 1.)\n",
    "        # at each position i, activate the 1's with local probability p[i]\n",
    "        v_out[np.random.random_sample(n) < p] = 1 \n",
    "\n",
    "    if details: return v_out,p,a\n",
    "    else: return v_out"
   ]
  },
  {
   "cell_type": "markdown",
   "metadata": {},
   "source": [
    "## Plot weights"
   ]
  },
  {
   "cell_type": "code",
   "execution_count": 23,
   "metadata": {},
   "outputs": [],
   "source": [
    "def plot_weights_bias(wE, bE, epoch, L, \n",
    "                      side=0,cols=0,thr=0,s=1.5, \n",
    "                      title=False, save=True,cmap=\"bwr\"):\n",
    "    '''\n",
    "    Plot the weights of the RBM, one plot for each hidden unit.\n",
    "    '''\n",
    "    rows = int(np.ceil(L / cols))\n",
    "    if rows==1: rows=2\n",
    "    w=wE[epoch]\n",
    "    b=bE[epoch]\n",
    "    if side==0: side=int(sqrt(len(w)))\n",
    "    if thr==0: thr=4\n",
    "    plt.clf()\n",
    "    fig, AX = plt.subplots(rows, cols+1, figsize=(s*(1+cols),s*rows))\n",
    "    if title: fig.suptitle(f\"epoch = {epoch}\")\n",
    "    k=1\n",
    "    for i in range(rows):\n",
    "        for j in range(cols):\n",
    "            if rows==1: ax=AX[j+1]\n",
    "            else: ax=AX[i,j+1]\n",
    "            if k<=L:\n",
    "                ax.imshow(w[:,k-1].reshape(side, side), cmap=cmap,vmin=-thr,vmax=thr)\n",
    "                ax.set_xticks([])\n",
    "                ax.set_yticks([])\n",
    "                ax.set_title(f\"hidden {k}\")\n",
    "            else: fig.delaxes(ax)\n",
    "            k+=1\n",
    "        if i>0:  fig.delaxes(AX[i,0])\n",
    "    \n",
    "    ax=AX[0,0];\n",
    "    im=ax.imshow(b.reshape(side, side), cmap=cmap,vmin=-thr,vmax=thr)\n",
    "    ax.set_xticks([])\n",
    "    ax.set_yticks([])\n",
    "    ax.set_title(\"bias\")\n",
    "    # colobar\n",
    "    cbar_ax = fig.add_axes([0.14, 0.15, 0.024, 0.33])\n",
    "    cbar = fig.colorbar(im, cax=cbar_ax)\n",
    "    cbar.ax.tick_params(labelsize=12)\n",
    "    \n",
    "    S=0.3\n",
    "    plt.subplots_adjust(hspace=S)\n",
    "\n",
    "    if save: plt.savefig(f\"./FIG/FRAME/RBM_{epoch}_w-a.png\")\n",
    "\n",
    "    plt.show()\n",
    "    plt.close()\n"
   ]
  },
  {
   "cell_type": "markdown",
   "metadata": {},
   "source": [
    "## Weights initialization "
   ]
  },
  {
   "cell_type": "code",
   "execution_count": 24,
   "metadata": {},
   "outputs": [],
   "source": [
    "# initial bias of visible units, based on their average value in the dataset\n",
    "# Hinton, \"A Practical Guide to Training Restricted Boltzmann Machines\"\n",
    "def Hinton_bias_init(x):\n",
    "    xmean=np.array(np.mean(x,axis=0))\n",
    "    # remove values at extrema, to avoid divergences in the log's\n",
    "    S = 1e-4\n",
    "    x1,x2 = x_min+S,1-S\n",
    "    xmean[xmean<x1] = x1\n",
    "    xmean[xmean>x2] = x2\n",
    "    return (1/level_gap)*np.clip(log(xmean-x_min) - log(1-xmean),-300,300)\n",
    "    \n",
    "# range of each initial weight\n",
    "# Glorot and Bengio, \"Understanding the difficulty of training deep feedforward neural networks\"\n",
    "sigma = sqrt(4. / float(L + D))"
   ]
  },
  {
   "cell_type": "markdown",
   "metadata": {},
   "source": [
    "## Gradient descent method"
   ]
  },
  {
   "cell_type": "code",
   "execution_count": 25,
   "metadata": {},
   "outputs": [
    {
     "name": "stdout",
     "output_type": "stream",
     "text": [
      "epsilon= 0.0001\n",
      "D=784\tsample size\n",
      "L=3\tnr. z states\n",
      "Gradient descent type: RMSprop\n",
      "learning rate        = 0.05 --> 0.05\n",
      "gamma=0.001\tregularization\n"
     ]
    }
   ],
   "source": [
    "# Gradient descent options\n",
    "GRAD_list=[\"SGD\",\"RMSprop\"]\n",
    "GRAD=GRAD_list[1]\n",
    "if GRAD==\"SGD\":\n",
    "    l_rate_ini,l_rate_fin=1.0,0.25\n",
    "if GRAD==\"RMSprop\":\n",
    "    beta,epsilon=0.9,1e-4\n",
    "    l_rate_ini,l_rate_fin=0.05,0.05\n",
    "    print(\"epsilon=\",epsilon)\n",
    "gamma = 0.001 ######### for regularization\n",
    "\n",
    "print(f\"D={D}\\tsample size\\nL={L}\\tnr. z states\")\n",
    "print(\"Gradient descent type:\",GRAD)\n",
    "print(f\"learning rate        = {l_rate_ini} --> {l_rate_fin}\")\n",
    "if gamma!=0: print(f\"gamma={gamma}\\tregularization\")"
   ]
  },
  {
   "cell_type": "markdown",
   "metadata": {},
   "source": [
    "# RBM train\n"
   ]
  },
  {
   "cell_type": "code",
   "execution_count": 33,
   "metadata": {
    "scrolled": true
   },
   "outputs": [
    {
     "name": "stdout",
     "output_type": "stream",
     "text": [
      "Nepoch=150\n",
      "Nmini=20\n"
     ]
    },
    {
     "data": {
      "text/plain": [
       "<Figure size 640x480 with 0 Axes>"
      ]
     },
     "metadata": {},
     "output_type": "display_data"
    },
    {
     "data": {
      "image/png": "[encoded data removed]",
      "text/plain": [
       "<Figure size 300x450 with 5 Axes>"
      ]
     },
     "metadata": {},
     "output_type": "display_data"
    },
    {
     "name": "stdout",
     "output_type": "stream",
     "text": [
      "Starting the training\n",
      "[12775  9990  2591 14746 12913    95 10946  3140  2405 11413]\n",
      "[18422  9442  1294  3194 11001 20412  2137  6279  9421  4536]\n",
      "[12654  9403  4522  7811 18357  3584 15910 14437 12006 15318]\n",
      "[11426  9755 10468  7820  2941   937 18123 11759 15079 20283]\n",
      "120.50712873206182\n",
      "nan\n",
      "epoch 1 / 150  Nt: 2  N: 10  L: 3  rate: 0.05  gam: 0.001 SPINS= False POTTS= False\n",
      "The log-likelihood at this point of the training is  0.13121327584471223\n",
      "106.78457834588258\n",
      "nan\n",
      "epoch 2 / 150  Nt: 2  N: 10  L: 3  rate: 0.05  gam: 0.001 SPINS= False POTTS= False\n",
      "The log-likelihood at this point of the training is  0.10905154657352062\n",
      "103.12773638646436\n",
      "nan\n",
      "epoch 3 / 150  Nt: 2  N: 10  L: 3  rate: 0.05  gam: 0.001 SPINS= False POTTS= False\n",
      "The log-likelihood at this point of the training is  0.16343931223134261\n",
      "88.06718153093263\n",
      "nan\n",
      "epoch 4 / 150  Nt: 2  N: 10  L: 3  rate: 0.05  gam: 0.001 SPINS= False POTTS= False\n",
      "The log-likelihood at this point of the training is  0.1873565561359116\n",
      "85.67449912198384\n",
      "nan\n",
      "epoch 5 / 150  Nt: 2  N: 10  L: 3  rate: 0.05  gam: 0.001 SPINS= False POTTS= False\n",
      "The log-likelihood at this point of the training is  0.3011125295581268\n",
      "85.58892272192281\n",
      "nan\n",
      "epoch 6 / 150  Nt: 2  N: 10  L: 3  rate: 0.05  gam: 0.001 SPINS= False POTTS= False\n",
      "The log-likelihood at this point of the training is  0.37395439105910827\n",
      "80.60474170391274\n",
      "nan\n",
      "epoch 7 / 150  Nt: 2  N: 10  L: 3  rate: 0.05  gam: 0.001 SPINS= False POTTS= False\n",
      "The log-likelihood at this point of the training is  0.29981781856589296\n",
      "84.48806932120141\n",
      "nan\n",
      "epoch 8 / 150  Nt: 2  N: 11  L: 3  rate: 0.05  gam: 0.001 SPINS= False POTTS= False\n",
      "The log-likelihood at this point of the training is  0.3867922449071915\n",
      "86.72684193093393\n",
      "nan\n",
      "epoch 9 / 150  Nt: 2  N: 11  L: 3  rate: 0.05  gam: 0.001 SPINS= False POTTS= False\n",
      "The log-likelihood at this point of the training is  0.3117036499543482\n",
      "89.06717878918589\n",
      "nan\n",
      "epoch 10 / 150  Nt: 2  N: 11  L: 3  rate: 0.05  gam: 0.001 SPINS= False POTTS= False\n",
      "The log-likelihood at this point of the training is  0.5771303407709762\n",
      "96.21541740473545\n",
      "nan\n",
      "epoch 11 / 150  Nt: 2  N: 12  L: 3  rate: 0.05  gam: 0.001 SPINS= False POTTS= False\n",
      "The log-likelihood at this point of the training is  0.2813656993640543\n",
      "114.80961617552869\n",
      "nan\n",
      "epoch 12 / 150  Nt: 2  N: 12  L: 3  rate: 0.05  gam: 0.001 SPINS= False POTTS= False\n",
      "The log-likelihood at this point of the training is  0.6634465847967213\n",
      "129.06769703051575\n",
      "nan\n",
      "epoch 13 / 150  Nt: 2  N: 13  L: 3  rate: 0.05  gam: 0.001 SPINS= False POTTS= False\n",
      "The log-likelihood at this point of the training is  0.38586297534720476\n",
      "107.22473466011444\n",
      "nan\n",
      "epoch 14 / 150  Nt: 2  N: 13  L: 3  rate: 0.05  gam: 0.001 SPINS= False POTTS= False\n",
      "The log-likelihood at this point of the training is  0.6181069074451774\n",
      "105.12049481954246\n",
      "nan\n",
      "epoch 15 / 150  Nt: 2  N: 14  L: 3  rate: 0.05  gam: 0.001 SPINS= False POTTS= False\n",
      "The log-likelihood at this point of the training is  0.37640222115007044\n",
      "122.28134729483509\n",
      "nan\n",
      "epoch 16 / 150  Nt: 2  N: 14  L: 3  rate: 0.05  gam: 0.001 SPINS= False POTTS= False\n",
      "The log-likelihood at this point of the training is  0.43219453168106664\n",
      "141.43195801546867\n",
      "nan\n",
      "epoch 17 / 150  Nt: 2  N: 15  L: 3  rate: 0.05  gam: 0.001 SPINS= False POTTS= False\n",
      "The log-likelihood at this point of the training is  0.5346737397975275\n",
      "149.77372341772195\n",
      "nan\n",
      "epoch 18 / 150  Nt: 2  N: 16  L: 3  rate: 0.05  gam: 0.001 SPINS= False POTTS= False\n",
      "The log-likelihood at this point of the training is  0.6048853902771871\n",
      "171.47950729771014\n",
      "nan\n",
      "epoch 19 / 150  Nt: 2  N: 17  L: 3  rate: 0.05  gam: 0.001 SPINS= False POTTS= False\n",
      "The log-likelihood at this point of the training is  0.3407612970800442\n",
      "166.84257870275047\n",
      "nan\n",
      "epoch 20 / 150  Nt: 2  N: 17  L: 3  rate: 0.05  gam: 0.001 SPINS= False POTTS= False\n",
      "The log-likelihood at this point of the training is  0.3522852240454613\n"
     ]
    },
    {
     "data": {
      "text/plain": [
       "<Figure size 640x480 with 0 Axes>"
      ]
     },
     "metadata": {},
     "output_type": "display_data"
    },
    {
     "data": {
      "image/png": "[encoded data removed]",
      "text/plain": [
       "<Figure size 450x300 with 5 Axes>"
      ]
     },
     "metadata": {},
     "output_type": "display_data"
    },
    {
     "name": "stdout",
     "output_type": "stream",
     "text": [
      "153.55701020265195\n",
      "nan\n",
      "epoch 21 / 150  Nt: 2  N: 18  L: 3  rate: 0.05  gam: 0.001 SPINS= False POTTS= False\n",
      "The log-likelihood at this point of the training is  inf\n",
      "172.19164407901977\n",
      "nan\n",
      "epoch 22 / 150  Nt: 2  N: 19  L: 3  rate: 0.05  gam: 0.001 SPINS= False POTTS= False\n",
      "The log-likelihood at this point of the training is  0.530035193402016\n",
      "174.7852514206024\n",
      "nan\n",
      "epoch 23 / 150  Nt: 2  N: 20  L: 3  rate: 0.05  gam: 0.001 SPINS= False POTTS= False\n",
      "The log-likelihood at this point of the training is  0.3506102326183277\n",
      "161.49176881370988\n",
      "nan\n",
      "epoch 24 / 150  Nt: 2  N: 21  L: 3  rate: 0.05  gam: 0.001 SPINS= False POTTS= False\n",
      "The log-likelihood at this point of the training is  inf\n",
      "201.8155690342396\n",
      "nan\n",
      "epoch 25 / 150  Nt: 2  N: 22  L: 3  rate: 0.05  gam: 0.001 SPINS= False POTTS= False\n",
      "The log-likelihood at this point of the training is  0.541466611361603\n",
      "213.77321306574697\n",
      "nan\n",
      "epoch 26 / 150  Nt: 2  N: 23  L: 3  rate: 0.05  gam: 0.001 SPINS= False POTTS= False\n",
      "The log-likelihood at this point of the training is  0.5964472303646728\n"
     ]
    },
    {
     "name": "stderr",
     "output_type": "stream",
     "text": [
      "/var/folders/6w/vv6mxd6s5tn2fg5xf8lytbl40000gp/T/ipykernel_2543/3051351816.py:140: RuntimeWarning: overflow encountered in exp\n",
      "  E_data = np.exp(-np.dot(H, data[selected[k]]))\n"
     ]
    },
    {
     "name": "stdout",
     "output_type": "stream",
     "text": [
      "181.85575741261465\n",
      "nan\n",
      "epoch 27 / 150  Nt: 2  N: 24  L: 3  rate: 0.05  gam: 0.001 SPINS= False POTTS= False\n",
      "The log-likelihood at this point of the training is  inf\n",
      "210.48773959655136\n",
      "nan\n",
      "epoch 28 / 150  Nt: 2  N: 26  L: 3  rate: 0.05  gam: 0.001 SPINS= False POTTS= False\n",
      "The log-likelihood at this point of the training is  inf\n",
      "254.6083089622201\n",
      "nan\n",
      "epoch 29 / 150  Nt: 2  N: 27  L: 3  rate: 0.05  gam: 0.001 SPINS= False POTTS= False\n",
      "The log-likelihood at this point of the training is  inf\n",
      "342.12646313569405\n",
      "nan\n",
      "epoch 30 / 150  Nt: 2  N: 28  L: 3  rate: 0.05  gam: 0.001 SPINS= False POTTS= False\n",
      "The log-likelihood at this point of the training is  0.23175533161850284\n",
      "271.6928162539172\n",
      "nan\n",
      "epoch 31 / 150  Nt: 2  N: 29  L: 3  rate: 0.05  gam: 0.001 SPINS= False POTTS= False\n",
      "The log-likelihood at this point of the training is  inf\n",
      "383.33019996788215\n",
      "nan\n",
      "epoch 32 / 150  Nt: 2  N: 31  L: 3  rate: 0.05  gam: 0.001 SPINS= False POTTS= False\n",
      "The log-likelihood at this point of the training is  inf\n",
      "362.1143049134092\n",
      "nan\n",
      "epoch 33 / 150  Nt: 2  N: 32  L: 3  rate: 0.05  gam: 0.001 SPINS= False POTTS= False\n",
      "The log-likelihood at this point of the training is  inf\n",
      "495.10682215028817\n",
      "nan\n",
      "epoch 34 / 150  Nt: 2  N: 34  L: 3  rate: 0.05  gam: 0.001 SPINS= False POTTS= False\n",
      "The log-likelihood at this point of the training is  inf\n",
      "443.09641133884406\n",
      "nan\n",
      "epoch 35 / 150  Nt: 2  N: 35  L: 3  rate: 0.05  gam: 0.001 SPINS= False POTTS= False\n",
      "The log-likelihood at this point of the training is  0.3284410672925935\n",
      "440.6510231731407\n",
      "nan\n",
      "epoch 36 / 150  Nt: 2  N: 37  L: 3  rate: 0.05  gam: 0.001 SPINS= False POTTS= False\n",
      "The log-likelihood at this point of the training is  inf\n",
      "481.487491975254\n",
      "nan\n",
      "epoch 37 / 150  Nt: 2  N: 38  L: 3  rate: 0.05  gam: 0.001 SPINS= False POTTS= False\n",
      "The log-likelihood at this point of the training is  inf\n"
     ]
    },
    {
     "name": "stderr",
     "output_type": "stream",
     "text": [
      "/var/folders/6w/vv6mxd6s5tn2fg5xf8lytbl40000gp/T/ipykernel_2543/3051351816.py:141: RuntimeWarning: overflow encountered in scalar multiply\n",
      "  E_a.append(G*E_data)\n"
     ]
    },
    {
     "name": "stdout",
     "output_type": "stream",
     "text": [
      "503.3528861575165\n",
      "nan\n",
      "epoch 38 / 150  Nt: 2  N: 40  L: 3  rate: 0.05  gam: 0.001 SPINS= False POTTS= False\n",
      "The log-likelihood at this point of the training is  inf\n",
      "364.9551865498598\n",
      "nan\n",
      "epoch 39 / 150  Nt: 2  N: 41  L: 3  rate: 0.05  gam: 0.001 SPINS= False POTTS= False\n",
      "The log-likelihood at this point of the training is  inf\n",
      "518.8585845989685\n",
      "nan\n",
      "epoch 40 / 150  Nt: 2  N: 43  L: 3  rate: 0.05  gam: 0.001 SPINS= False POTTS= False\n",
      "The log-likelihood at this point of the training is  inf\n"
     ]
    },
    {
     "data": {
      "text/plain": [
       "<Figure size 640x480 with 0 Axes>"
      ]
     },
     "metadata": {},
     "output_type": "display_data"
    },
    {
     "data": {
      "image/png": "[encoded data removed]",
      "text/plain": [
       "<Figure size 450x300 with 5 Axes>"
      ]
     },
     "metadata": {},
     "output_type": "display_data"
    },
    {
     "name": "stdout",
     "output_type": "stream",
     "text": [
      "487.23335453243845\n",
      "nan\n",
      "epoch 41 / 150  Nt: 2  N: 45  L: 3  rate: 0.05  gam: 0.001 SPINS= False POTTS= False\n",
      "The log-likelihood at this point of the training is  0.1803577629548319\n",
      "435.1803639295335\n",
      "nan\n",
      "epoch 42 / 150  Nt: 2  N: 47  L: 3  rate: 0.05  gam: 0.001 SPINS= False POTTS= False\n",
      "The log-likelihood at this point of the training is  inf\n",
      "489.7286296858568\n",
      "nan\n",
      "epoch 43 / 150  Nt: 2  N: 48  L: 3  rate: 0.05  gam: 0.001 SPINS= False POTTS= False\n",
      "The log-likelihood at this point of the training is  0.2226810640374713\n",
      "459.49181491584244\n",
      "nan\n",
      "epoch 44 / 150  Nt: 2  N: 50  L: 3  rate: 0.05  gam: 0.001 SPINS= False POTTS= False\n",
      "The log-likelihood at this point of the training is  inf\n",
      "554.4362501353729\n",
      "nan\n",
      "epoch 45 / 150  Nt: 2  N: 52  L: 3  rate: 0.05  gam: 0.001 SPINS= False POTTS= False\n",
      "The log-likelihood at this point of the training is  inf\n",
      "625.2140336862723\n",
      "nan\n",
      "epoch 46 / 150  Nt: 2  N: 54  L: 3  rate: 0.05  gam: 0.001 SPINS= False POTTS= False\n",
      "The log-likelihood at this point of the training is  inf\n",
      "556.0578716155943\n",
      "nan\n",
      "epoch 47 / 150  Nt: 2  N: 56  L: 3  rate: 0.05  gam: 0.001 SPINS= False POTTS= False\n",
      "The log-likelihood at this point of the training is  inf\n",
      "617.034314610818\n",
      "nan\n",
      "epoch 48 / 150  Nt: 2  N: 58  L: 3  rate: 0.05  gam: 0.001 SPINS= False POTTS= False\n",
      "The log-likelihood at this point of the training is  0.0659624113586444\n",
      "inf\n",
      "nan\n",
      "epoch 49 / 150  Nt: 2  N: 60  L: 3  rate: 0.05  gam: 0.001 SPINS= False POTTS= False\n",
      "The log-likelihood at this point of the training is  nan\n",
      "inf\n",
      "nan\n",
      "epoch 50 / 150  Nt: 2  N: 62  L: 3  rate: 0.05  gam: 0.001 SPINS= False POTTS= False\n",
      "The log-likelihood at this point of the training is  nan\n"
     ]
    },
    {
     "name": "stderr",
     "output_type": "stream",
     "text": [
      "/var/folders/6w/vv6mxd6s5tn2fg5xf8lytbl40000gp/T/ipykernel_2543/3051351816.py:143: RuntimeWarning: overflow encountered in scalar power\n",
      "  Z = q**D*np.sum(Z_a)\n",
      "/var/folders/6w/vv6mxd6s5tn2fg5xf8lytbl40000gp/T/ipykernel_2543/3051351816.py:150: RuntimeWarning: invalid value encountered in scalar subtract\n",
      "  log_L = np.mean(l_data - log_Z)\n"
     ]
    },
    {
     "name": "stdout",
     "output_type": "stream",
     "text": [
      "inf\n",
      "nan\n",
      "epoch 51 / 150  Nt: 2  N: 65  L: 3  rate: 0.05  gam: 0.001 SPINS= False POTTS= False\n",
      "The log-likelihood at this point of the training is  nan\n",
      "612.0578735757593\n",
      "nan\n",
      "epoch 52 / 150  Nt: 2  N: 67  L: 3  rate: 0.05  gam: 0.001 SPINS= False POTTS= False\n",
      "The log-likelihood at this point of the training is  -0.010250741025905202\n",
      "579.1929014616238\n",
      "nan\n",
      "epoch 53 / 150  Nt: 2  N: 69  L: 3  rate: 0.05  gam: 0.001 SPINS= False POTTS= False\n",
      "The log-likelihood at this point of the training is  inf\n",
      "628.3622862763282\n",
      "nan\n",
      "epoch 54 / 150  Nt: 2  N: 71  L: 3  rate: 0.05  gam: 0.001 SPINS= False POTTS= False\n",
      "The log-likelihood at this point of the training is  inf\n",
      "625.0819913518266\n",
      "nan\n",
      "epoch 55 / 150  Nt: 2  N: 74  L: 3  rate: 0.05  gam: 0.001 SPINS= False POTTS= False\n",
      "The log-likelihood at this point of the training is  inf\n",
      "660.6636724756523\n",
      "nan\n",
      "epoch 56 / 150  Nt: 2  N: 76  L: 3  rate: 0.05  gam: 0.001 SPINS= False POTTS= False\n",
      "The log-likelihood at this point of the training is  inf\n",
      "inf\n",
      "nan\n",
      "epoch 57 / 150  Nt: 2  N: 79  L: 3  rate: 0.05  gam: 0.001 SPINS= False POTTS= False\n",
      "The log-likelihood at this point of the training is  nan\n",
      "640.1015122081245\n",
      "nan\n",
      "epoch 58 / 150  Nt: 2  N: 81  L: 3  rate: 0.05  gam: 0.001 SPINS= False POTTS= False\n",
      "The log-likelihood at this point of the training is  inf\n",
      "inf\n",
      "nan\n",
      "epoch 59 / 150  Nt: 2  N: 84  L: 3  rate: 0.05  gam: 0.001 SPINS= False POTTS= False\n",
      "The log-likelihood at this point of the training is  nan\n",
      "inf\n",
      "nan\n",
      "epoch 60 / 150  Nt: 2  N: 86  L: 3  rate: 0.05  gam: 0.001 SPINS= False POTTS= False\n",
      "The log-likelihood at this point of the training is  nan\n"
     ]
    },
    {
     "data": {
      "text/plain": [
       "<Figure size 640x480 with 0 Axes>"
      ]
     },
     "metadata": {},
     "output_type": "display_data"
    },
    {
     "data": {
      "image/png": "[encoded data removed]",
      "text/plain": [
       "<Figure size 450x300 with 5 Axes>"
      ]
     },
     "metadata": {},
     "output_type": "display_data"
    },
    {
     "name": "stdout",
     "output_type": "stream",
     "text": [
      "655.8301310141012\n",
      "nan\n",
      "epoch 61 / 150  Nt: 2  N: 89  L: 3  rate: 0.05  gam: 0.001 SPINS= False POTTS= False\n",
      "The log-likelihood at this point of the training is  0.01418457607410178\n",
      "inf\n",
      "nan\n",
      "epoch 62 / 150  Nt: 2  N: 92  L: 3  rate: 0.05  gam: 0.001 SPINS= False POTTS= False\n",
      "The log-likelihood at this point of the training is  nan\n",
      "641.8742644510303\n",
      "nan\n",
      "epoch 63 / 150  Nt: 2  N: 94  L: 3  rate: 0.05  gam: 0.001 SPINS= False POTTS= False\n",
      "The log-likelihood at this point of the training is  inf\n",
      "inf\n",
      "nan\n",
      "epoch 64 / 150  Nt: 2  N: 97  L: 3  rate: 0.05  gam: 0.001 SPINS= False POTTS= False\n",
      "The log-likelihood at this point of the training is  nan\n",
      "inf\n",
      "nan\n",
      "epoch 65 / 150  Nt: 2  N: 100  L: 3  rate: 0.05  gam: 0.001 SPINS= False POTTS= False\n",
      "The log-likelihood at this point of the training is  nan\n",
      "inf\n",
      "nan\n",
      "epoch 66 / 150  Nt: 2  N: 103  L: 3  rate: 0.05  gam: 0.001 SPINS= False POTTS= False\n",
      "The log-likelihood at this point of the training is  nan\n",
      "617.8283003466554\n",
      "nan\n",
      "epoch 67 / 150  Nt: 2  N: 106  L: 3  rate: 0.05  gam: 0.001 SPINS= False POTTS= False\n",
      "The log-likelihood at this point of the training is  inf\n",
      "612.9350285367458\n",
      "nan\n",
      "epoch 68 / 150  Nt: 2  N: 109  L: 3  rate: 0.05  gam: 0.001 SPINS= False POTTS= False\n",
      "The log-likelihood at this point of the training is  inf\n",
      "inf\n",
      "nan\n",
      "epoch 69 / 150  Nt: 2  N: 112  L: 3  rate: 0.05  gam: 0.001 SPINS= False POTTS= False\n",
      "The log-likelihood at this point of the training is  nan\n",
      "inf\n",
      "nan\n",
      "epoch 70 / 150  Nt: 2  N: 115  L: 3  rate: 0.05  gam: 0.001 SPINS= False POTTS= False\n",
      "The log-likelihood at this point of the training is  nan\n",
      "608.1413315716094\n",
      "nan\n",
      "epoch 71 / 150  Nt: 2  N: 118  L: 3  rate: 0.05  gam: 0.001 SPINS= False POTTS= False\n",
      "The log-likelihood at this point of the training is  inf\n",
      "520.5851845718344\n",
      "nan\n",
      "epoch 72 / 150  Nt: 2  N: 121  L: 3  rate: 0.05  gam: 0.001 SPINS= False POTTS= False\n",
      "The log-likelihood at this point of the training is  inf\n",
      "631.4451835898282\n",
      "nan\n",
      "epoch 73 / 150  Nt: 2  N: 124  L: 3  rate: 0.05  gam: 0.001 SPINS= False POTTS= False\n",
      "The log-likelihood at this point of the training is  inf\n",
      "566.2103002395604\n",
      "nan\n",
      "epoch 74 / 150  Nt: 2  N: 127  L: 3  rate: 0.05  gam: 0.001 SPINS= False POTTS= False\n",
      "The log-likelihood at this point of the training is  inf\n",
      "657.7597416531895\n",
      "nan\n",
      "epoch 75 / 150  Nt: 2  N: 130  L: 3  rate: 0.05  gam: 0.001 SPINS= False POTTS= False\n",
      "The log-likelihood at this point of the training is  inf\n",
      "561.1564224660934\n",
      "nan\n",
      "epoch 76 / 150  Nt: 2  N: 134  L: 3  rate: 0.05  gam: 0.001 SPINS= False POTTS= False\n",
      "The log-likelihood at this point of the training is  inf\n",
      "485.9125743008967\n",
      "nan\n",
      "epoch 77 / 150  Nt: 2  N: 137  L: 3  rate: 0.05  gam: 0.001 SPINS= False POTTS= False\n",
      "The log-likelihood at this point of the training is  inf\n",
      "643.1728097067354\n",
      "nan\n",
      "epoch 78 / 150  Nt: 2  N: 140  L: 3  rate: 0.05  gam: 0.001 SPINS= False POTTS= False\n",
      "The log-likelihood at this point of the training is  inf\n",
      "596.5033676767995\n",
      "nan\n",
      "epoch 79 / 150  Nt: 2  N: 144  L: 3  rate: 0.05  gam: 0.001 SPINS= False POTTS= False\n",
      "The log-likelihood at this point of the training is  inf\n",
      "637.9556288432932\n",
      "nan\n",
      "epoch 80 / 150  Nt: 2  N: 147  L: 3  rate: 0.05  gam: 0.001 SPINS= False POTTS= False\n",
      "The log-likelihood at this point of the training is  -0.04047605082665238\n"
     ]
    },
    {
     "data": {
      "text/plain": [
       "<Figure size 640x480 with 0 Axes>"
      ]
     },
     "metadata": {},
     "output_type": "display_data"
    },
    {
     "data": {
      "image/png": "[encoded data removed]",
      "text/plain": [
       "<Figure size 450x300 with 5 Axes>"
      ]
     },
     "metadata": {},
     "output_type": "display_data"
    },
    {
     "name": "stdout",
     "output_type": "stream",
     "text": [
      "606.7185913523982\n",
      "nan\n",
      "epoch 81 / 150  Nt: 2  N: 151  L: 3  rate: 0.05  gam: 0.001 SPINS= False POTTS= False\n",
      "The log-likelihood at this point of the training is  inf\n",
      "486.26000181084464\n",
      "nan\n",
      "epoch 82 / 150  Nt: 2  N: 154  L: 3  rate: 0.05  gam: 0.001 SPINS= False POTTS= False\n",
      "The log-likelihood at this point of the training is  inf\n",
      "580.7915307666349\n",
      "nan\n",
      "epoch 83 / 150  Nt: 2  N: 158  L: 3  rate: 0.05  gam: 0.001 SPINS= False POTTS= False\n",
      "The log-likelihood at this point of the training is  inf\n",
      "626.4579528372465\n",
      "nan\n",
      "epoch 84 / 150  Nt: 2  N: 162  L: 3  rate: 0.05  gam: 0.001 SPINS= False POTTS= False\n",
      "The log-likelihood at this point of the training is  inf\n",
      "661.9486175163884\n",
      "nan\n",
      "epoch 85 / 150  Nt: 2  N: 165  L: 3  rate: 0.05  gam: 0.001 SPINS= False POTTS= False\n",
      "The log-likelihood at this point of the training is  inf\n",
      "499.55022689087076\n",
      "nan\n",
      "epoch 86 / 150  Nt: 2  N: 169  L: 3  rate: 0.05  gam: 0.001 SPINS= False POTTS= False\n",
      "The log-likelihood at this point of the training is  inf\n",
      "625.840927482575\n",
      "nan\n",
      "epoch 87 / 150  Nt: 2  N: 173  L: 3  rate: 0.05  gam: 0.001 SPINS= False POTTS= False\n",
      "The log-likelihood at this point of the training is  inf\n",
      "551.4975842803372\n",
      "nan\n",
      "epoch 88 / 150  Nt: 2  N: 177  L: 3  rate: 0.05  gam: 0.001 SPINS= False POTTS= False\n",
      "The log-likelihood at this point of the training is  inf\n",
      "633.2192653920904\n",
      "nan\n",
      "epoch 89 / 150  Nt: 2  N: 180  L: 3  rate: 0.05  gam: 0.001 SPINS= False POTTS= False\n",
      "The log-likelihood at this point of the training is  inf\n",
      "431.50983694944307\n",
      "nan\n",
      "epoch 90 / 150  Nt: 2  N: 184  L: 3  rate: 0.05  gam: 0.001 SPINS= False POTTS= False\n",
      "The log-likelihood at this point of the training is  inf\n",
      "614.7845134373484\n",
      "nan\n",
      "epoch 91 / 150  Nt: 2  N: 188  L: 3  rate: 0.05  gam: 0.001 SPINS= False POTTS= False\n",
      "The log-likelihood at this point of the training is  inf\n",
      "499.6315509667863\n",
      "nan\n",
      "epoch 92 / 150  Nt: 2  N: 192  L: 3  rate: 0.05  gam: 0.001 SPINS= False POTTS= False\n",
      "The log-likelihood at this point of the training is  0.1633064967252069\n",
      "614.2061291745945\n",
      "nan\n",
      "epoch 93 / 150  Nt: 2  N: 196  L: 3  rate: 0.05  gam: 0.001 SPINS= False POTTS= False\n",
      "The log-likelihood at this point of the training is  inf\n",
      "inf\n",
      "nan\n",
      "epoch 94 / 150  Nt: 2  N: 200  L: 3  rate: 0.05  gam: 0.001 SPINS= False POTTS= False\n",
      "The log-likelihood at this point of the training is  nan\n",
      "inf\n",
      "nan\n",
      "epoch 95 / 150  Nt: 2  N: 205  L: 3  rate: 0.05  gam: 0.001 SPINS= False POTTS= False\n",
      "The log-likelihood at this point of the training is  nan\n",
      "618.2410837613346\n",
      "nan\n",
      "epoch 96 / 150  Nt: 2  N: 209  L: 3  rate: 0.05  gam: 0.001 SPINS= False POTTS= False\n",
      "The log-likelihood at this point of the training is  inf\n",
      "inf\n",
      "nan\n",
      "epoch 97 / 150  Nt: 2  N: 213  L: 3  rate: 0.05  gam: 0.001 SPINS= False POTTS= False\n",
      "The log-likelihood at this point of the training is  nan\n",
      "inf\n",
      "nan\n",
      "epoch 98 / 150  Nt: 2  N: 217  L: 3  rate: 0.05  gam: 0.001 SPINS= False POTTS= False\n",
      "The log-likelihood at this point of the training is  nan\n",
      "inf\n",
      "nan\n",
      "epoch 99 / 150  Nt: 2  N: 221  L: 3  rate: 0.05  gam: 0.001 SPINS= False POTTS= False\n",
      "The log-likelihood at this point of the training is  nan\n",
      "inf\n",
      "nan\n",
      "epoch 100 / 150  Nt: 2  N: 226  L: 3  rate: 0.05  gam: 0.001 SPINS= False POTTS= False\n",
      "The log-likelihood at this point of the training is  nan\n"
     ]
    },
    {
     "data": {
      "text/plain": [
       "<Figure size 640x480 with 0 Axes>"
      ]
     },
     "metadata": {},
     "output_type": "display_data"
    },
    {
     "data": {
      "image/png": "[encoded data removed]",
      "text/plain": [
       "<Figure size 450x300 with 5 Axes>"
      ]
     },
     "metadata": {},
     "output_type": "display_data"
    },
    {
     "name": "stdout",
     "output_type": "stream",
     "text": [
      "inf\n",
      "nan\n",
      "epoch 101 / 150  Nt: 2  N: 230  L: 3  rate: 0.05  gam: 0.001 SPINS= False POTTS= False\n",
      "The log-likelihood at this point of the training is  nan\n",
      "inf\n",
      "nan\n",
      "epoch 102 / 150  Nt: 2  N: 235  L: 3  rate: 0.05  gam: 0.001 SPINS= False POTTS= False\n",
      "The log-likelihood at this point of the training is  nan\n",
      "inf\n",
      "nan\n",
      "epoch 103 / 150  Nt: 2  N: 239  L: 3  rate: 0.05  gam: 0.001 SPINS= False POTTS= False\n",
      "The log-likelihood at this point of the training is  nan\n",
      "653.8686787378341\n",
      "nan\n",
      "epoch 104 / 150  Nt: 2  N: 244  L: 3  rate: 0.05  gam: 0.001 SPINS= False POTTS= False\n",
      "The log-likelihood at this point of the training is  inf\n",
      "640.3968428564391\n",
      "nan\n",
      "epoch 105 / 150  Nt: 2  N: 248  L: 3  rate: 0.05  gam: 0.001 SPINS= False POTTS= False\n",
      "The log-likelihood at this point of the training is  inf\n",
      "inf\n",
      "nan\n",
      "epoch 106 / 150  Nt: 2  N: 253  L: 3  rate: 0.05  gam: 0.001 SPINS= False POTTS= False\n",
      "The log-likelihood at this point of the training is  nan\n",
      "inf\n",
      "nan\n",
      "epoch 107 / 150  Nt: 2  N: 257  L: 3  rate: 0.05  gam: 0.001 SPINS= False POTTS= False\n",
      "The log-likelihood at this point of the training is  nan\n",
      "inf\n",
      "nan\n",
      "epoch 108 / 150  Nt: 2  N: 262  L: 3  rate: 0.05  gam: 0.001 SPINS= False POTTS= False\n",
      "The log-likelihood at this point of the training is  -inf\n",
      "inf\n",
      "nan\n",
      "epoch 109 / 150  Nt: 2  N: 267  L: 3  rate: 0.05  gam: 0.001 SPINS= False POTTS= False\n",
      "The log-likelihood at this point of the training is  nan\n",
      "652.9895470729093\n",
      "nan\n",
      "epoch 110 / 150  Nt: 2  N: 272  L: 3  rate: 0.05  gam: 0.001 SPINS= False POTTS= False\n",
      "The log-likelihood at this point of the training is  inf\n",
      "643.7422728190382\n",
      "nan\n",
      "epoch 111 / 150  Nt: 2  N: 277  L: 3  rate: 0.05  gam: 0.001 SPINS= False POTTS= False\n",
      "The log-likelihood at this point of the training is  inf\n",
      "inf\n",
      "nan\n",
      "epoch 112 / 150  Nt: 2  N: 281  L: 3  rate: 0.05  gam: 0.001 SPINS= False POTTS= False\n",
      "The log-likelihood at this point of the training is  nan\n",
      "inf\n",
      "nan\n",
      "epoch 113 / 150  Nt: 2  N: 286  L: 3  rate: 0.05  gam: 0.001 SPINS= False POTTS= False\n",
      "The log-likelihood at this point of the training is  nan\n",
      "627.293041992438\n",
      "nan\n",
      "epoch 114 / 150  Nt: 2  N: 291  L: 3  rate: 0.05  gam: 0.001 SPINS= False POTTS= False\n",
      "The log-likelihood at this point of the training is  inf\n",
      "635.2937715867249\n",
      "nan\n",
      "epoch 115 / 150  Nt: 2  N: 296  L: 3  rate: 0.05  gam: 0.001 SPINS= False POTTS= False\n",
      "The log-likelihood at this point of the training is  inf\n",
      "inf\n",
      "nan\n",
      "epoch 116 / 150  Nt: 2  N: 301  L: 3  rate: 0.05  gam: 0.001 SPINS= False POTTS= False\n",
      "The log-likelihood at this point of the training is  nan\n",
      "inf\n",
      "nan\n",
      "epoch 117 / 150  Nt: 2  N: 306  L: 3  rate: 0.05  gam: 0.001 SPINS= False POTTS= False\n",
      "The log-likelihood at this point of the training is  nan\n",
      "inf\n",
      "nan\n",
      "epoch 118 / 150  Nt: 2  N: 312  L: 3  rate: 0.05  gam: 0.001 SPINS= False POTTS= False\n",
      "The log-likelihood at this point of the training is  nan\n",
      "inf\n",
      "nan\n",
      "epoch 119 / 150  Nt: 2  N: 317  L: 3  rate: 0.05  gam: 0.001 SPINS= False POTTS= False\n",
      "The log-likelihood at this point of the training is  nan\n",
      "inf\n",
      "nan\n",
      "epoch 120 / 150  Nt: 2  N: 322  L: 3  rate: 0.05  gam: 0.001 SPINS= False POTTS= False\n",
      "The log-likelihood at this point of the training is  -inf\n"
     ]
    },
    {
     "data": {
      "text/plain": [
       "<Figure size 640x480 with 0 Axes>"
      ]
     },
     "metadata": {},
     "output_type": "display_data"
    },
    {
     "data": {
      "image/png": "[encoded data removed]",
      "text/plain": [
       "<Figure size 450x300 with 5 Axes>"
      ]
     },
     "metadata": {},
     "output_type": "display_data"
    },
    {
     "name": "stdout",
     "output_type": "stream",
     "text": [
      "inf\n",
      "nan\n",
      "epoch 121 / 150  Nt: 2  N: 327  L: 3  rate: 0.05  gam: 0.001 SPINS= False POTTS= False\n",
      "The log-likelihood at this point of the training is  nan\n",
      "inf\n",
      "nan\n",
      "epoch 122 / 150  Nt: 2  N: 333  L: 3  rate: 0.05  gam: 0.001 SPINS= False POTTS= False\n",
      "The log-likelihood at this point of the training is  nan\n",
      "649.5958743021487\n",
      "nan\n",
      "epoch 123 / 150  Nt: 2  N: 338  L: 3  rate: 0.05  gam: 0.001 SPINS= False POTTS= False\n",
      "The log-likelihood at this point of the training is  inf\n",
      "inf\n",
      "nan\n",
      "epoch 124 / 150  Nt: 2  N: 343  L: 3  rate: 0.05  gam: 0.001 SPINS= False POTTS= False\n",
      "The log-likelihood at this point of the training is  nan\n",
      "inf\n",
      "nan\n",
      "epoch 125 / 150  Nt: 2  N: 349  L: 3  rate: 0.05  gam: 0.001 SPINS= False POTTS= False\n",
      "The log-likelihood at this point of the training is  nan\n",
      "inf\n",
      "nan\n",
      "epoch 126 / 150  Nt: 2  N: 354  L: 3  rate: 0.05  gam: 0.001 SPINS= False POTTS= False\n",
      "The log-likelihood at this point of the training is  nan\n"
     ]
    },
    {
     "ename": "KeyboardInterrupt",
     "evalue": "",
     "output_type": "error",
     "traceback": [
      "\u001b[0;31m---------------------------------------------------------------------------\u001b[0m",
      "\u001b[0;31mKeyboardInterrupt\u001b[0m                         Traceback (most recent call last)",
      "Cell \u001b[0;32mIn[33], line 80\u001b[0m\n\u001b[1;32m     78\u001b[0m x_data  \u001b[38;5;241m+\u001b[39m\u001b[38;5;241m=\u001b[39m x0\n\u001b[1;32m     79\u001b[0m z_data  \u001b[38;5;241m+\u001b[39m\u001b[38;5;241m=\u001b[39m z\n\u001b[0;32m---> 80\u001b[0m xz_data \u001b[38;5;241m+\u001b[39m\u001b[38;5;241m=\u001b[39m \u001b[43mnp\u001b[49m\u001b[38;5;241;43m.\u001b[39;49m\u001b[43mouter\u001b[49m\u001b[43m(\u001b[49m\u001b[43mx0\u001b[49m\u001b[43m,\u001b[49m\u001b[43mz\u001b[49m\u001b[43m)\u001b[49m\n\u001b[1;32m     81\u001b[0m \u001b[38;5;66;03m# fantasy\u001b[39;00m\n\u001b[1;32m     82\u001b[0m zf\u001b[38;5;241m=\u001b[39mnp\u001b[38;5;241m.\u001b[39mcopy(z)\n",
      "File \u001b[0;32m/opt/homebrew/Cellar/jupyterlab/4.3.5/libexec/lib/python3.13/site-packages/numpy/_core/numeric.py:872\u001b[0m, in \u001b[0;36m_outer_dispatcher\u001b[0;34m(a, b, out)\u001b[0m\n\u001b[1;32m    868\u001b[0m         \u001b[38;5;28;01mraise\u001b[39;00m \u001b[38;5;167;01mValueError\u001b[39;00m(\u001b[38;5;124m'\u001b[39m\u001b[38;5;124mv cannot be empty\u001b[39m\u001b[38;5;124m'\u001b[39m)\n\u001b[1;32m    869\u001b[0m     \u001b[38;5;28;01mreturn\u001b[39;00m multiarray\u001b[38;5;241m.\u001b[39mcorrelate(a, v[::\u001b[38;5;241m-\u001b[39m\u001b[38;5;241m1\u001b[39m], mode)\n\u001b[0;32m--> 872\u001b[0m \u001b[38;5;28;01mdef\u001b[39;00m\u001b[38;5;250m \u001b[39m\u001b[38;5;21m_outer_dispatcher\u001b[39m(a, b, out\u001b[38;5;241m=\u001b[39m\u001b[38;5;28;01mNone\u001b[39;00m):\n\u001b[1;32m    873\u001b[0m     \u001b[38;5;28;01mreturn\u001b[39;00m (a, b, out)\n\u001b[1;32m    876\u001b[0m \u001b[38;5;129m@array_function_dispatch\u001b[39m(_outer_dispatcher)\n\u001b[1;32m    877\u001b[0m \u001b[38;5;28;01mdef\u001b[39;00m\u001b[38;5;250m \u001b[39m\u001b[38;5;21mouter\u001b[39m(a, b, out\u001b[38;5;241m=\u001b[39m\u001b[38;5;28;01mNone\u001b[39;00m):\n",
      "\u001b[0;31mKeyboardInterrupt\u001b[0m: "
     ]
    }
   ],
   "source": [
    "# random seed for reproducibility\n",
    "np.random.seed(12345)\n",
    "\n",
    "# initial weights from a Normal distr. (see literature, e.g. page 98 of Mehta's review)\n",
    "w = sigma * np.random.randn(D,L)\n",
    "#a = sigma * np.random.randn(D)\n",
    "# using Hinton initialization of visible biases\n",
    "a = Hinton_bias_init(data)\n",
    "# hidden biases initialized to zero\n",
    "b = np.zeros(L)\n",
    "#print(\"w=\",w);print(\"a=\",a);print(\"b=\",b)\n",
    "\n",
    "# nr of epochs\n",
    "Nepoch=150\n",
    "# minibatches per epoch\n",
    "Nmini=20\n",
    "# minibatch size at initial epoch and final one\n",
    "N_ini,N_fin=10,500\n",
    "print(f\"Nepoch={Nepoch}\\nNmini={Nmini}\")\n",
    "# number of CD steps\n",
    "Nt=2\n",
    "\n",
    "# recording history of weights (\"E\" means epoch)\n",
    "wE,aE,bE=np.zeros((Nepoch+1,D,L)),np.zeros((Nepoch+1,D)),np.zeros((Nepoch+1,L))\n",
    "wE[0],aE[0],bE[0]=np.copy(w),np.copy(a),np.copy(b)\n",
    "gwE,gw2E,gwE_d,gwE_m = np.zeros_like(wE),np.zeros_like(wE),np.zeros_like(wE),np.zeros_like(wE)\n",
    "gaE,ga2E,gaE_d,gaE_m = np.zeros_like(aE),np.zeros_like(aE),np.zeros_like(aE),np.zeros_like(aE)\n",
    "gbE,gb2E,gbE_d,gbE_m = np.zeros_like(bE),np.zeros_like(bE),np.zeros_like(bE),np.zeros_like(bE)\n",
    "miniE = np.zeros(Nepoch+1)\n",
    "pzE=np.zeros((Nepoch+1,Nz))\n",
    "if GRAD==\"RMSprop\": \n",
    "    gw2,ga2,gb2 = np.zeros_like(w),np.zeros_like(a),np.zeros_like(b)\n",
    "\n",
    "indices=np.arange(Nd).astype(\"int\")\n",
    "plot_weights_bias(wE, aE, 0, L, cols=L//2, save=False)\n",
    "\n",
    "# for the plot with panels\n",
    "Ncols=min(8,max(2,L//2))\n",
    "\n",
    "if POTTS: print(\"Starting the training, POTTS=True\")\n",
    "else: print(\"Starting the training\")\n",
    "\n",
    "# Note: here an epoch does not analyze the whole dataset\n",
    "for epoch in range(1,1+Nepoch):\n",
    "    # q maps epochs to interval [0,1]\n",
    "    q = (epoch-1.)/(Nepoch-1.) \n",
    "    # N, size of the mini batch\n",
    "    # stays closer to N_ini for some time, then it progressively accelerates toward N_fin\n",
    "    N = int(N_ini + (N_fin-N_ini)*(q**2))\n",
    "    #  l_rate interpolates between initial and final value\n",
    "    l_rate = l_rate_ini + (l_rate_fin-l_rate_ini)*q\n",
    "\n",
    "    log_L = 0\n",
    "    \n",
    "    for mini in range(Nmini):\n",
    "        # initializitation for averages in minibatch\n",
    "        # visible variables \"v\" --> \"x\"\n",
    "        # hidden variables \"h\" --> \"z\"\n",
    "        x_data, x_model = np.zeros(D),np.zeros(D)\n",
    "        z_data, z_model = np.zeros(L),np.zeros(L)\n",
    "        xz_data,xz_model= np.zeros((D,L)),np.zeros((D,L))\n",
    "        pz = np.zeros(L)\n",
    "        \n",
    "        # Minibatch of size N: points randomply picked (without repetition) from data\n",
    "        selected = np.random.choice(indices,N,replace=False)\n",
    "        if epoch==1 and mini<=3: print(selected)\n",
    "        \n",
    "        for k in range(N):\n",
    "            ###################################\n",
    "            x0 = data[selected[k]]\n",
    "            # positive CD phase: generating z from x[k]\n",
    "            if 1:\n",
    "                z, p, act = CD_step(x0,w,b,1,POTTS=POTTS)\n",
    "                log_L += np.sum(np.log(p))\n",
    "            else:\n",
    "                z = CD_step(x0,w,b,0,POTTS=POTTS)\n",
    "                \n",
    "            x_data  += x0\n",
    "            z_data  += z\n",
    "            xz_data += np.outer(x0,z)\n",
    "            # fantasy\n",
    "            zf=np.copy(z)\n",
    "            # Contrastive divergence with Nt steps\n",
    "            for t in range(Nt):\n",
    "                # negative CD phase: generating fantasy xf from fantasy zf\n",
    "                xf = CD_step(zf,w.T,a)\n",
    "                # positive CD phase: generating fantasy zf from fantasy xf \n",
    "                zf = CD_step(xf,w,b,POTTS=POTTS)\n",
    "            x_model += xf\n",
    "            z_model += zf\n",
    "            xz_model+= np.outer(xf,zf)\n",
    "            # recording probability of encoding in z-space, if POTTS\n",
    "            if POTTS: pz[zf]+=1\n",
    "            ###################################\n",
    "        \n",
    "        # gradient of the likelihood: follow it along its positive direction\n",
    "        gw_d,gw_m = xz_data/N, xz_model/N\n",
    "        ga_d,ga_m = x_data/N, x_model/N\n",
    "        gb_d,gb_m = z_data/N, z_model/N\n",
    "        gw=np.copy(gw_d - gw_m)\n",
    "        ga=np.copy(ga_d - ga_m)\n",
    "        gb=np.copy(gb_d - gb_m)\n",
    "\n",
    "        # gradient ascent step\n",
    "        if GRAD==\"RMSprop\":\n",
    "            # RMSprop gradient ascent\n",
    "            gw2 = beta*gw2+(1-beta)*np.square(gw)\n",
    "            ga2 = beta*ga2+(1-beta)*np.square(ga)\n",
    "            gb2 = beta*gb2+(1-beta)*np.square(gb)\n",
    "            w += l_rate*gw/sqrt(epsilon+gw2)\n",
    "            a += l_rate*ga/sqrt(epsilon+ga2)\n",
    "            b += l_rate*gb/sqrt(epsilon+gb2)\n",
    "        else: \n",
    "            # defaulting to the vanilla stochastic gradient ascent (SGD)\n",
    "            w += l_rate*gw\n",
    "            a += l_rate*ga\n",
    "            b += l_rate*gb\n",
    "        # regularization (LASSO)\n",
    "        if gamma>0.:\n",
    "            w -= (gamma*l_rate)*sign(w)\n",
    "            a -= (gamma*l_rate)*sign(a)\n",
    "            b -= (gamma*l_rate)*sign(b)\n",
    "\n",
    "    wE[epoch],gwE[epoch],gwE_d[epoch],gwE_m[epoch]=np.copy(w),np.copy(gw),np.copy(gw_d),np.copy(gw_m)\n",
    "    aE[epoch],gaE[epoch],gaE_d[epoch],gaE_m[epoch]=np.copy(a),np.copy(ga),np.copy(ga_d),np.copy(ga_m)\n",
    "    bE[epoch],gbE[epoch],gbE_d[epoch],gbE_m[epoch]=np.copy(b),np.copy(gb),np.copy(gb_d),np.copy(gb_m)\n",
    "    miniE[epoch]=N\n",
    "####################################################################################\n",
    "    all_z = np.array([(x,y,z) for x in [0,1] for y in [0,1] for z in [0,1]])\n",
    "    Z_a = []\n",
    "    E_a = []\n",
    "    for z in all_z:\n",
    "        G = np.prod([np.exp(z[i]*b[i]) for i in range(len(b))])\n",
    "        H = a + np.dot(w,z) \n",
    "        q = np.mean(np.ones(len(H))+np.exp(H))\n",
    "    \n",
    "        Z_tilde = G*np.prod((np.ones(len(H))+np.exp(H))/q)\n",
    "        Z_a.append(Z_tilde)\n",
    "        for k in range(5):\n",
    "            E_data = np.exp(-np.dot(H, data[selected[k]]))\n",
    "            E_a.append(G*E_data)\n",
    "\n",
    "    Z = q**D*np.sum(Z_a)\n",
    "    log_Z = np.log(Z)\n",
    "\n",
    "    print(log_Z)\n",
    "    l_data = np.log(np.sum(E_a))\n",
    "    \n",
    "    log_L = np.mean(l_data - log_Z)\n",
    "##################################################################################   \n",
    "    if POTTS: pzE[epoch] = pz/np.sum(pz)\n",
    "    print(\"epoch\",epoch,\"/\",Nepoch,\" Nt:\",Nt,\" N:\",N,\" L:\",L,\n",
    "          \" rate:\",l_rate,\" gam:\",gamma,\"SPINS=\",SPINS,\"POTTS=\",POTTS)\n",
    "    print(\"The log-likelihood at this point of the training is \", log_L/D)\n",
    "\n",
    "    if Nepoch<=100 or epoch%20==0 or epoch==Nepoch:\n",
    "        plot_weights_bias(wE, aE, epoch, L, cols=Ncols, save=False)\n",
    "            \n",
    "    str_time_completion = datetime.datetime.now().strftime(\"_%Y%m%d_%H%M\")\n",
    "\n",
    "print(\"END of learning phase\")"
   ]
  },
  {
   "cell_type": "markdown",
   "metadata": {},
   "source": [
    "## Test generative power of the trained RBM"
   ]
  },
  {
   "cell_type": "code",
   "execution_count": null,
   "metadata": {},
   "outputs": [],
   "source": [
    "ee=-1\n",
    "NN=200\n",
    "traj_x,traj_z = np.zeros((NN+2,D)), np.zeros((NN+2,L))\n",
    "xf=np.copy(data[np.random.randint(Nd)])\n",
    "traj_x[0]=np.copy(xf)\n",
    "\n",
    "# AF: multiply weights and biases by a number >1 to achieve a more deterministic behavior,\n",
    "# equivalent to lower the temperature in a Boltzmann weight -> select lowest energies\n",
    "# Note: here, this is done in the negative CD step only\n",
    "AF=40.\n",
    "\n",
    "for t in range(NN):\n",
    "    t1=t+1\n",
    "    # positive CD phase: generating fantasy zf from fantasy xf \n",
    "    zf = CD_step(xf,1*wE[ee],1*bE[ee],POTTS=POTTS)\n",
    "    traj_z[t] = np.copy(zf)\n",
    "    # negative CD pzase: generating fantasy xf from fantasy zf\n",
    "    xf = CD_step(zf,AF*wE[ee].T,AF*aE[ee])\n",
    "    traj_x[t1] = np.copy(xf)\n",
    "\n",
    "\n",
    "plot_weights_bias(wE, aE, Nepoch, L, cols=Ncols, save=False)\n",
    "\n",
    "col0,col1,col2,col3,col4=(0.8,0,0,1),(1,0.6,0,1),(0,.7,0,1),(0.2,0.2,1,1),(1,0,1,1)\n",
    "show_MNIST(traj_x[0:],Nex=10,colors=(col0,col1))\n",
    "show_MNIST(traj_x[10:],Nex=10,colors=(col1,col2))\n",
    "show_MNIST(traj_x[20:],Nex=10,colors=(col2,col3))\n",
    "show_MNIST(traj_x[40:],Nex=10,colors=(col3,col4))\n",
    "print(\"L:\",L,\"    amplification of weights:\",AF)"
   ]
  },
  {
   "cell_type": "markdown",
   "metadata": {},
   "source": [
    "## Plot of the gradient amplitude"
   ]
  },
  {
   "cell_type": "code",
   "execution_count": null,
   "metadata": {},
   "outputs": [],
   "source": [
    "def make_fname(strin):\n",
    "    fname=\"FIG/RBM_\"+strin+\"_MNIST\"+str(Ndigit)+\"_E\"+str(NE)+\"_N\"+str(N_ini)+\"-\"+str(N_fin)\n",
    "    fname=fname+\"_\"+GRAD+\"-\"+str(l_rate_ini)+\"-\"+str(l_rate_fin)+\"_CD-\"+str(Nt)+\"_L\"+str(L)\n",
    "    if gamma>0:  fname=fname+\"_reg\"+str(gamma)\n",
    "    return fname+\".png\"\n",
    "\n",
    "NE = len(gwE)-1\n",
    "print(\"NE=\",NE)\n",
    "mgw,mga,mgb,epo=np.zeros(NE),np.zeros(NE),np.zeros(NE),np.zeros(NE)\n",
    "DE=1\n",
    "if NE>30: DE=2\n",
    "if NE>50: DE=5\n",
    "if NE>100: DE=10\n",
    "# compute RMS average of gradients during epochs\n",
    "for ep in range(1,1+NE):\n",
    "    epo[ep-1]=ep\n",
    "    mgw[ep-1] = np.std(gwE[ep])\n",
    "    mga[ep-1] = np.std(gaE[ep])\n",
    "    mgb[ep-1] = np.std(gbE[ep])\n",
    "\n",
    "#############################################################################\n",
    "# creating grid for subplots\n",
    "fig, ax = plt.subplots(1, 1, figsize=(8,5.5))\n",
    "fig.subplots_adjust( left=None, bottom=None,  right=None, top=None, wspace=None, hspace=None)\n",
    "        \n",
    "ax.xaxis.set_major_locator(mpl.ticker.MultipleLocator(DE))\n",
    "ax.plot(epo,mgw,\"o-\",c=\"#CC77EC\",label=\"$w$\",zorder=10)\n",
    "ax.plot(epo,mga,\"d--\",c=\"#22C040\",label=\"$a$\",zorder=5)\n",
    "ax.plot(epo,mgb,\"^:\",c=\"#EEC006\",label=\"$b$\",zorder=8)\n",
    "ax.plot(epo,.35/sqrt(miniE[1:]),\"k-.\",label=\"$\\sim 1 / \\sqrt{N}$\",zorder=20,lw=2)\n",
    "ax.set_xlabel(\"Epoch\")\n",
    "ax.set_ylabel(\"gradient RMS\")\n",
    "ax.set_xlim(0.5,NE+0.5)\n",
    "if 1==2: ax.set_ylim(0,)\n",
    "else: \n",
    "    ax.set_xlim(0.8,Nepoch*1.1)\n",
    "    ax.set_xscale(\"log\")\n",
    "    ax.set_yscale(\"log\")\n",
    "ax.legend()\n",
    "\n",
    "fname=make_fname(\"grad\")\n",
    "fig.savefig(fname,dpi=200,bbox_inches='tight',pad_inches=0.02, transparent=False)\n",
    "plt.show()\n",
    "print(fname)"
   ]
  },
  {
   "cell_type": "markdown",
   "metadata": {},
   "source": [
    "## Save weights over epochs on file"
   ]
  },
  {
   "cell_type": "code",
   "execution_count": null,
   "metadata": {},
   "outputs": [],
   "source": [
    "def make_weights_fname(label,dname=\"WEIGHTS\"):\n",
    "    fname=dname+\"/\"+label+\"_\"+str_simul+\"_MNIST\"+str(Ndigit)+\"_L\"+str(L)\n",
    "    fname=fname+\"_\"+GRAD+\"-\"+\"{:.2f}\".format(l_rate_ini)+\"-\"+\"{:.2f}\".format(l_rate_fin)+\"_Ep\"+str(Nepoch)\n",
    "    if gamma>0:  fname=fname+\"_reg\"+\"{:.3g}\".format(gamma)\n",
    "    if POTTS: fname+=\"_POTTS\"\n",
    "    if SPINS: fname+=\"_SPINS\"\n",
    "    fname=fname+str_time_completion\n",
    "    return fname+\".npy\"\n",
    "\n",
    "def save_epochs(qE,label):\n",
    "    fname=make_weights_fname(label)\n",
    "    print(fname)\n",
    "    np.save(fname,qE)\n",
    "\n",
    "save_epochs(wE,\"w\")\n",
    "save_epochs(bE,\"b\")\n",
    "save_epochs(aE,\"a\")"
   ]
  },
  {
   "cell_type": "code",
   "execution_count": null,
   "metadata": {},
   "outputs": [],
   "source": [
    "Nd"
   ]
  },
  {
   "cell_type": "code",
   "execution_count": null,
   "metadata": {},
   "outputs": [],
   "source": []
  }
 ],
 "metadata": {
  "kernelspec": {
   "display_name": "Python 3 (ipykernel)",
   "language": "python",
   "name": "python3"
  },
  "language_info": {
   "codemirror_mode": {
    "name": "ipython",
    "version": 3
   },
   "file_extension": ".py",
   "mimetype": "text/x-python",
   "name": "python",
   "nbconvert_exporter": "python",
   "pygments_lexer": "ipython3",
   "version": "3.13.2"
  }
 },
 "nbformat": 4,
 "nbformat_minor": 4
}
